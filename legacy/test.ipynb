{
 "cells": [
  {
   "cell_type": "code",
   "execution_count": 44,
   "source": [
    "from utils import dataloader\n",
    "import numpy as np\n",
    "from sklearn.preprocessing import StandardScaler\n",
    "from sklearn.model_selection import train_test_split\n",
    "from importlib import reload  \n",
    "\n",
    "import matplotlib.pyplot as plt\n",
    "\n",
    "import numpy as np\n",
    "\n",
    "import torch as th\n",
    "import torch.nn as nn\n",
    "import os\n",
    "from datetime import datetime\n",
    "import matplotlib as mpl\n",
    "import torch.optim as optim\n",
    "import pytorch_ssim\n",
    "\n",
    "import torch.nn.functional as F\n",
    "import torchvision.models as models\n",
    "from torch.autograd import Variable\n",
    "import torchvision.transforms as transforms"
   ],
   "outputs": [],
   "metadata": {}
  },
  {
   "cell_type": "code",
   "execution_count": 67,
   "source": [
    "dataloader = reload(dataloader)\n",
    "\n",
    "plotsize = 15\n",
    "\n",
    "partitions = dataloader.DataPartitions(\n",
    "    past_frames=8,\n",
    "    future_frames=1,\n",
    "    root=\"../datasets/arda/mini/\",\n",
    "    partial=0.01\n",
    ")\n",
    "\n",
    "dataset = dataloader.DataGenerator(\n",
    "    root=\"../datasets/arda/mini/\",\n",
    "    dataset_partitions=partitions.get_partitions(),\n",
    "    past_frames=partitions.past_frames, \n",
    "    future_frames=partitions.future_frames,\n",
    "    input_dim=(partitions.past_frames, 256, 256, 4),\n",
    "    output_dim=(partitions.future_frames, 256, 256, 3),\n",
    "    batch_size=4,\n",
    "    buffer_size=1e3,\n",
    "    buffer_memory=100,\n",
    "    downsampling=False,\n",
    "    dynamicity = 1e-2\n",
    ")"
   ],
   "outputs": [],
   "metadata": {
    "pycharm": {
     "name": "#%%\n"
    }
   }
  },
  {
   "cell_type": "code",
   "execution_count": 8,
   "source": [
    "X, Y, extra_batch = dataset.get_data()\n",
    "\n",
    "X[X > 10e5] = 0 \n",
    "Y[Y > 10e5] = 0\n"
   ],
   "outputs": [
    {
     "output_type": "stream",
     "name": "stdout",
     "text": [
      "[x] 1 areas found\n",
      ". . . . . . . . . . . . . . . . . . . . \n",
      "[100%] 20 valid sequences loaded\n"
     ]
    }
   ],
   "metadata": {}
  },
  {
   "cell_type": "code",
   "execution_count": 9,
   "source": [
    "def unison_shuffled_copies(a, b):\n",
    "    assert len(a) == len(b)\n",
    "    p = np.random.permutation(len(a))\n",
    "    return a[p], b[p]\n",
    "\n",
    "X, Y = unison_shuffled_copies(X, Y)"
   ],
   "outputs": [],
   "metadata": {
    "pycharm": {
     "name": "#%%\n"
    }
   }
  },
  {
   "cell_type": "code",
   "execution_count": 10,
   "source": [
    "X_train, X_test, y_train, y_test = train_test_split(X, Y, test_size=0.2, random_state=42)"
   ],
   "outputs": [],
   "metadata": {
    "pycharm": {
     "name": "#%%\n"
    }
   }
  },
  {
   "cell_type": "code",
   "execution_count": 11,
   "source": [
    "print(\"DEP min: {}\\nVEL min: {}\\nBTM min: {}\".format(\n",
    "    np.min(X_train[:, :, :, :, :, 0]),\n",
    "    np.min(X_train[:, :, :, :, :, 1]),\n",
    "    np.min(X_train[:, :, :, :, :, 2])\n",
    "))\n",
    "\n",
    "print(\"DEP max: {}\\nVEL max: {}\\nBTM max: {}\".format(\n",
    "    np.max(X_train[:, :, :, :, :, 0]),\n",
    "    np.max(X_train[:, :, :, :, :, 1]),\n",
    "    np.max(X_train[:, :, :, :, :, 2])\n",
    "))"
   ],
   "outputs": [
    {
     "output_type": "stream",
     "name": "stdout",
     "text": [
      "DEP min: 0.0\n",
      "VEL min: -3.0152\n",
      "BTM min: -0.691004\n",
      "DEP max: 4.32622\n",
      "VEL max: 4.80414\n",
      "BTM max: 6.84653\n"
     ]
    }
   ],
   "metadata": {}
  },
  {
   "cell_type": "markdown",
   "source": [
    "### Model"
   ],
   "metadata": {}
  },
  {
   "cell_type": "code",
   "execution_count": 12,
   "source": [
    "import torch.nn.functional as F\n",
    "from functools import partial\n"
   ],
   "outputs": [],
   "metadata": {
    "id": "U8pHltaOy2CK"
   }
  },
  {
   "cell_type": "code",
   "execution_count": 13,
   "source": [
    "if th.cuda.is_available():\n",
    "    dev = \"cuda:0\"\n",
    "else:\n",
    "    dev = \"cpu\"\n",
    "device = th.device(dev)\n",
    "\n",
    "print(device)"
   ],
   "outputs": [
    {
     "output_type": "stream",
     "name": "stdout",
     "text": [
      "cpu\n"
     ]
    }
   ],
   "metadata": {}
  },
  {
   "cell_type": "code",
   "execution_count": 14,
   "source": [
    "from models.ae import ConvLSTMCell\n",
    "\n",
    "from models.ae import seq2seq_ConvLSTM\n",
    "seq2seq_ConvLSTM = reload(seq2seq_ConvLSTM)\n",
    "\n",
    "net = seq2seq_ConvLSTM.EncoderDecoderConvLSTM(nf=4, in_chan=4).to(device) # False: many to one"
   ],
   "outputs": [],
   "metadata": {}
  },
  {
   "cell_type": "code",
   "execution_count": 17,
   "source": [
    "weights_path = \"../trained_models/train_45_10_08_2021_19_28_41/model.weights\"\n",
    "net.load_state_dict(th.load(weights_path, map_location=th.device('cpu')))"
   ],
   "outputs": [
    {
     "output_type": "execute_result",
     "data": {
      "text/plain": [
       "<All keys matched successfully>"
      ]
     },
     "metadata": {},
     "execution_count": 17
    }
   ],
   "metadata": {
    "collapsed": false,
    "pycharm": {
     "name": "#%%\n"
    }
   }
  },
  {
   "cell_type": "code",
   "execution_count": 18,
   "source": [
    "X_train = th.Tensor(X_train).to(device)\n",
    "y_train = th.Tensor(y_train).to(device)"
   ],
   "outputs": [],
   "metadata": {}
  },
  {
   "cell_type": "code",
   "execution_count": 19,
   "source": [
    "# b, s, t, h, w, c -> b, s, t, c, h, w\n",
    "X_train = X_train.permute(0, 1, 2, 5, 3, 4)\n",
    "y_train = y_train.permute(0, 1, 2, 5, 3, 4)"
   ],
   "outputs": [],
   "metadata": {}
  },
  {
   "cell_type": "code",
   "execution_count": 20,
   "source": [
    "X_test = th.Tensor(X_test).to(device)\n",
    "y_test = th.Tensor(y_test).to(device)"
   ],
   "outputs": [],
   "metadata": {}
  },
  {
   "cell_type": "code",
   "execution_count": 21,
   "source": [
    "# b, s, t, h, w, c -> b, s, t, c, h, w\n",
    "X_test = X_test.permute(0, 1, 2, 5, 3, 4)\n",
    "y_test = y_test.permute(0, 1, 2, 5, 3, 4)"
   ],
   "outputs": [],
   "metadata": {}
  },
  {
   "cell_type": "code",
   "execution_count": 24,
   "source": [
    "plt.matshow(X_train[2,2,0,2,:,:])\n",
    "plt.matshow(y_train[2,2,0,2,:,:])\n",
    "print(X_train.shape)"
   ],
   "outputs": [
    {
     "output_type": "stream",
     "name": "stdout",
     "text": [
      "torch.Size([4, 4, 8, 4, 256, 256])\n"
     ]
    },
    {
     "output_type": "display_data",
     "data": {
      "text/plain": [
       "<Figure size 288x288 with 1 Axes>"
      ],
      "image/svg+xml": "<?xml version=\"1.0\" encoding=\"utf-8\" standalone=\"no\"?>\n<!DOCTYPE svg PUBLIC \"-//W3C//DTD SVG 1.1//EN\"\n  \"http://www.w3.org/Graphics/SVG/1.1/DTD/svg11.dtd\">\n<!-- Created with matplotlib (https://matplotlib.org/) -->\n<svg height=\"257.778125pt\" version=\"1.1\" viewBox=\"0 0 268.435938 257.778125\" width=\"268.435938pt\" xmlns=\"http://www.w3.org/2000/svg\" xmlns:xlink=\"http://www.w3.org/1999/xlink\">\n <defs>\n  <style type=\"text/css\">\n*{stroke-linecap:butt;stroke-linejoin:round;}\n  </style>\n </defs>\n <g id=\"figure_1\">\n  <g id=\"patch_1\">\n   <path d=\"M 0 257.778125 \nL 268.435938 257.778125 \nL 268.435938 0 \nL 0 0 \nz\n\" style=\"fill:none;\"/>\n  </g>\n  <g id=\"axes_1\">\n   <g id=\"patch_2\">\n    <path d=\"M 33.2875 247.078125 \nL 256.4875 247.078125 \nL 256.4875 23.878125 \nL 33.2875 23.878125 \nz\n\" style=\"fill:#ffffff;\"/>\n   </g>\n   <g clip-path=\"url(#pce841abd61)\">\n    <image height=\"224\" id=\"imaged619e9c485\" transform=\"scale(1 -1)translate(0 -224)\" width=\"224\" x=\"33.2875\" xlink:href=\"data:image/png;base64,\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\" y=\"-23.078125\"/>\n   </g>\n   <g id=\"matplotlib.axis_1\">\n    <g id=\"xtick_1\">\n     <g id=\"line2d_1\">\n      <defs>\n       <path d=\"M 0 0 \nL 0 3.5 \n\" id=\"mc84d50dc1d\" style=\"stroke:#000000;stroke-width:0.8;\"/>\n      </defs>\n      <g>\n       <use style=\"stroke:#000000;stroke-width:0.8;\" x=\"33.723438\" xlink:href=\"#mc84d50dc1d\" y=\"247.078125\"/>\n      </g>\n     </g>\n     <g id=\"line2d_2\">\n      <defs>\n       <path d=\"M 0 0 \nL 0 -3.5 \n\" id=\"m9bc3a624e2\" style=\"stroke:#000000;stroke-width:0.8;\"/>\n      </defs>\n      <g>\n       <use style=\"stroke:#000000;stroke-width:0.8;\" x=\"33.723438\" xlink:href=\"#m9bc3a624e2\" y=\"23.878125\"/>\n      </g>\n     </g>\n     <g id=\"text_1\">\n      <!-- 0 -->\n      <defs>\n       <path d=\"M 31.78125 66.40625 \nQ 24.171875 66.40625 20.328125 58.90625 \nQ 16.5 51.421875 16.5 36.375 \nQ 16.5 21.390625 20.328125 13.890625 \nQ 24.171875 6.390625 31.78125 6.390625 \nQ 39.453125 6.390625 43.28125 13.890625 \nQ 47.125 21.390625 47.125 36.375 \nQ 47.125 51.421875 43.28125 58.90625 \nQ 39.453125 66.40625 31.78125 66.40625 \nz\nM 31.78125 74.21875 \nQ 44.046875 74.21875 50.515625 64.515625 \nQ 56.984375 54.828125 56.984375 36.375 \nQ 56.984375 17.96875 50.515625 8.265625 \nQ 44.046875 -1.421875 31.78125 -1.421875 \nQ 19.53125 -1.421875 13.0625 8.265625 \nQ 6.59375 17.96875 6.59375 36.375 \nQ 6.59375 54.828125 13.0625 64.515625 \nQ 19.53125 74.21875 31.78125 74.21875 \nz\n\" id=\"DejaVuSans-48\"/>\n      </defs>\n      <g transform=\"translate(30.542188 14.798438)scale(0.1 -0.1)\">\n       <use xlink:href=\"#DejaVuSans-48\"/>\n      </g>\n     </g>\n    </g>\n    <g id=\"xtick_2\">\n     <g id=\"line2d_3\">\n      <g>\n       <use style=\"stroke:#000000;stroke-width:0.8;\" x=\"77.317188\" xlink:href=\"#mc84d50dc1d\" y=\"247.078125\"/>\n      </g>\n     </g>\n     <g id=\"line2d_4\">\n      <g>\n       <use style=\"stroke:#000000;stroke-width:0.8;\" x=\"77.317188\" xlink:href=\"#m9bc3a624e2\" y=\"23.878125\"/>\n      </g>\n     </g>\n     <g id=\"text_2\">\n      <!-- 50 -->\n      <defs>\n       <path d=\"M 10.796875 72.90625 \nL 49.515625 72.90625 \nL 49.515625 64.59375 \nL 19.828125 64.59375 \nL 19.828125 46.734375 \nQ 21.96875 47.46875 24.109375 47.828125 \nQ 26.265625 48.1875 28.421875 48.1875 \nQ 40.625 48.1875 47.75 41.5 \nQ 54.890625 34.8125 54.890625 23.390625 \nQ 54.890625 11.625 47.5625 5.09375 \nQ 40.234375 -1.421875 26.90625 -1.421875 \nQ 22.3125 -1.421875 17.546875 -0.640625 \nQ 12.796875 0.140625 7.71875 1.703125 \nL 7.71875 11.625 \nQ 12.109375 9.234375 16.796875 8.0625 \nQ 21.484375 6.890625 26.703125 6.890625 \nQ 35.15625 6.890625 40.078125 11.328125 \nQ 45.015625 15.765625 45.015625 23.390625 \nQ 45.015625 31 40.078125 35.4375 \nQ 35.15625 39.890625 26.703125 39.890625 \nQ 22.75 39.890625 18.8125 39.015625 \nQ 14.890625 38.140625 10.796875 36.28125 \nz\n\" id=\"DejaVuSans-53\"/>\n      </defs>\n      <g transform=\"translate(70.954688 14.798438)scale(0.1 -0.1)\">\n       <use xlink:href=\"#DejaVuSans-53\"/>\n       <use x=\"63.623047\" xlink:href=\"#DejaVuSans-48\"/>\n      </g>\n     </g>\n    </g>\n    <g id=\"xtick_3\">\n     <g id=\"line2d_5\">\n      <g>\n       <use style=\"stroke:#000000;stroke-width:0.8;\" x=\"120.910938\" xlink:href=\"#mc84d50dc1d\" y=\"247.078125\"/>\n      </g>\n     </g>\n     <g id=\"line2d_6\">\n      <g>\n       <use style=\"stroke:#000000;stroke-width:0.8;\" x=\"120.910938\" xlink:href=\"#m9bc3a624e2\" y=\"23.878125\"/>\n      </g>\n     </g>\n     <g id=\"text_3\">\n      <!-- 100 -->\n      <defs>\n       <path d=\"M 12.40625 8.296875 \nL 28.515625 8.296875 \nL 28.515625 63.921875 \nL 10.984375 60.40625 \nL 10.984375 69.390625 \nL 28.421875 72.90625 \nL 38.28125 72.90625 \nL 38.28125 8.296875 \nL 54.390625 8.296875 \nL 54.390625 0 \nL 12.40625 0 \nz\n\" id=\"DejaVuSans-49\"/>\n      </defs>\n      <g transform=\"translate(111.367188 14.798438)scale(0.1 -0.1)\">\n       <use xlink:href=\"#DejaVuSans-49\"/>\n       <use x=\"63.623047\" xlink:href=\"#DejaVuSans-48\"/>\n       <use x=\"127.246094\" xlink:href=\"#DejaVuSans-48\"/>\n      </g>\n     </g>\n    </g>\n    <g id=\"xtick_4\">\n     <g id=\"line2d_7\">\n      <g>\n       <use style=\"stroke:#000000;stroke-width:0.8;\" x=\"164.504688\" xlink:href=\"#mc84d50dc1d\" y=\"247.078125\"/>\n      </g>\n     </g>\n     <g id=\"line2d_8\">\n      <g>\n       <use style=\"stroke:#000000;stroke-width:0.8;\" x=\"164.504688\" xlink:href=\"#m9bc3a624e2\" y=\"23.878125\"/>\n      </g>\n     </g>\n     <g id=\"text_4\">\n      <!-- 150 -->\n      <g transform=\"translate(154.960938 14.798438)scale(0.1 -0.1)\">\n       <use xlink:href=\"#DejaVuSans-49\"/>\n       <use x=\"63.623047\" xlink:href=\"#DejaVuSans-53\"/>\n       <use x=\"127.246094\" xlink:href=\"#DejaVuSans-48\"/>\n      </g>\n     </g>\n    </g>\n    <g id=\"xtick_5\">\n     <g id=\"line2d_9\">\n      <g>\n       <use style=\"stroke:#000000;stroke-width:0.8;\" x=\"208.098438\" xlink:href=\"#mc84d50dc1d\" y=\"247.078125\"/>\n      </g>\n     </g>\n     <g id=\"line2d_10\">\n      <g>\n       <use style=\"stroke:#000000;stroke-width:0.8;\" x=\"208.098438\" xlink:href=\"#m9bc3a624e2\" y=\"23.878125\"/>\n      </g>\n     </g>\n     <g id=\"text_5\">\n      <!-- 200 -->\n      <defs>\n       <path d=\"M 19.1875 8.296875 \nL 53.609375 8.296875 \nL 53.609375 0 \nL 7.328125 0 \nL 7.328125 8.296875 \nQ 12.9375 14.109375 22.625 23.890625 \nQ 32.328125 33.6875 34.8125 36.53125 \nQ 39.546875 41.84375 41.421875 45.53125 \nQ 43.3125 49.21875 43.3125 52.78125 \nQ 43.3125 58.59375 39.234375 62.25 \nQ 35.15625 65.921875 28.609375 65.921875 \nQ 23.96875 65.921875 18.8125 64.3125 \nQ 13.671875 62.703125 7.8125 59.421875 \nL 7.8125 69.390625 \nQ 13.765625 71.78125 18.9375 73 \nQ 24.125 74.21875 28.421875 74.21875 \nQ 39.75 74.21875 46.484375 68.546875 \nQ 53.21875 62.890625 53.21875 53.421875 \nQ 53.21875 48.921875 51.53125 44.890625 \nQ 49.859375 40.875 45.40625 35.40625 \nQ 44.1875 33.984375 37.640625 27.21875 \nQ 31.109375 20.453125 19.1875 8.296875 \nz\n\" id=\"DejaVuSans-50\"/>\n      </defs>\n      <g transform=\"translate(198.554688 14.798438)scale(0.1 -0.1)\">\n       <use xlink:href=\"#DejaVuSans-50\"/>\n       <use x=\"63.623047\" xlink:href=\"#DejaVuSans-48\"/>\n       <use x=\"127.246094\" xlink:href=\"#DejaVuSans-48\"/>\n      </g>\n     </g>\n    </g>\n    <g id=\"xtick_6\">\n     <g id=\"line2d_11\">\n      <g>\n       <use style=\"stroke:#000000;stroke-width:0.8;\" x=\"251.692188\" xlink:href=\"#mc84d50dc1d\" y=\"247.078125\"/>\n      </g>\n     </g>\n     <g id=\"line2d_12\">\n      <g>\n       <use style=\"stroke:#000000;stroke-width:0.8;\" x=\"251.692188\" xlink:href=\"#m9bc3a624e2\" y=\"23.878125\"/>\n      </g>\n     </g>\n     <g id=\"text_6\">\n      <!-- 250 -->\n      <g transform=\"translate(242.148438 14.798438)scale(0.1 -0.1)\">\n       <use xlink:href=\"#DejaVuSans-50\"/>\n       <use x=\"63.623047\" xlink:href=\"#DejaVuSans-53\"/>\n       <use x=\"127.246094\" xlink:href=\"#DejaVuSans-48\"/>\n      </g>\n     </g>\n    </g>\n   </g>\n   <g id=\"matplotlib.axis_2\">\n    <g id=\"ytick_1\">\n     <g id=\"line2d_13\">\n      <defs>\n       <path d=\"M 0 0 \nL -3.5 0 \n\" id=\"maf870751bb\" style=\"stroke:#000000;stroke-width:0.8;\"/>\n      </defs>\n      <g>\n       <use style=\"stroke:#000000;stroke-width:0.8;\" x=\"33.2875\" xlink:href=\"#maf870751bb\" y=\"24.314063\"/>\n      </g>\n     </g>\n     <g id=\"text_7\">\n      <!-- 0 -->\n      <g transform=\"translate(19.925 28.113281)scale(0.1 -0.1)\">\n       <use xlink:href=\"#DejaVuSans-48\"/>\n      </g>\n     </g>\n    </g>\n    <g id=\"ytick_2\">\n     <g id=\"line2d_14\">\n      <g>\n       <use style=\"stroke:#000000;stroke-width:0.8;\" x=\"33.2875\" xlink:href=\"#maf870751bb\" y=\"67.907813\"/>\n      </g>\n     </g>\n     <g id=\"text_8\">\n      <!-- 50 -->\n      <g transform=\"translate(13.5625 71.707031)scale(0.1 -0.1)\">\n       <use xlink:href=\"#DejaVuSans-53\"/>\n       <use x=\"63.623047\" xlink:href=\"#DejaVuSans-48\"/>\n      </g>\n     </g>\n    </g>\n    <g id=\"ytick_3\">\n     <g id=\"line2d_15\">\n      <g>\n       <use style=\"stroke:#000000;stroke-width:0.8;\" x=\"33.2875\" xlink:href=\"#maf870751bb\" y=\"111.501563\"/>\n      </g>\n     </g>\n     <g id=\"text_9\">\n      <!-- 100 -->\n      <g transform=\"translate(7.2 115.300781)scale(0.1 -0.1)\">\n       <use xlink:href=\"#DejaVuSans-49\"/>\n       <use x=\"63.623047\" xlink:href=\"#DejaVuSans-48\"/>\n       <use x=\"127.246094\" xlink:href=\"#DejaVuSans-48\"/>\n      </g>\n     </g>\n    </g>\n    <g id=\"ytick_4\">\n     <g id=\"line2d_16\">\n      <g>\n       <use style=\"stroke:#000000;stroke-width:0.8;\" x=\"33.2875\" xlink:href=\"#maf870751bb\" y=\"155.095313\"/>\n      </g>\n     </g>\n     <g id=\"text_10\">\n      <!-- 150 -->\n      <g transform=\"translate(7.2 158.894531)scale(0.1 -0.1)\">\n       <use xlink:href=\"#DejaVuSans-49\"/>\n       <use x=\"63.623047\" xlink:href=\"#DejaVuSans-53\"/>\n       <use x=\"127.246094\" xlink:href=\"#DejaVuSans-48\"/>\n      </g>\n     </g>\n    </g>\n    <g id=\"ytick_5\">\n     <g id=\"line2d_17\">\n      <g>\n       <use style=\"stroke:#000000;stroke-width:0.8;\" x=\"33.2875\" xlink:href=\"#maf870751bb\" y=\"198.689063\"/>\n      </g>\n     </g>\n     <g id=\"text_11\">\n      <!-- 200 -->\n      <g transform=\"translate(7.2 202.488281)scale(0.1 -0.1)\">\n       <use xlink:href=\"#DejaVuSans-50\"/>\n       <use x=\"63.623047\" xlink:href=\"#DejaVuSans-48\"/>\n       <use x=\"127.246094\" xlink:href=\"#DejaVuSans-48\"/>\n      </g>\n     </g>\n    </g>\n    <g id=\"ytick_6\">\n     <g id=\"line2d_18\">\n      <g>\n       <use style=\"stroke:#000000;stroke-width:0.8;\" x=\"33.2875\" xlink:href=\"#maf870751bb\" y=\"242.282813\"/>\n      </g>\n     </g>\n     <g id=\"text_12\">\n      <!-- 250 -->\n      <g transform=\"translate(7.2 246.082031)scale(0.1 -0.1)\">\n       <use xlink:href=\"#DejaVuSans-50\"/>\n       <use x=\"63.623047\" xlink:href=\"#DejaVuSans-53\"/>\n       <use x=\"127.246094\" xlink:href=\"#DejaVuSans-48\"/>\n      </g>\n     </g>\n    </g>\n   </g>\n   <g id=\"patch_3\">\n    <path d=\"M 33.2875 247.078125 \nL 33.2875 23.878125 \n\" style=\"fill:none;stroke:#000000;stroke-linecap:square;stroke-linejoin:miter;stroke-width:0.8;\"/>\n   </g>\n   <g id=\"patch_4\">\n    <path d=\"M 256.4875 247.078125 \nL 256.4875 23.878125 \n\" style=\"fill:none;stroke:#000000;stroke-linecap:square;stroke-linejoin:miter;stroke-width:0.8;\"/>\n   </g>\n   <g id=\"patch_5\">\n    <path d=\"M 33.2875 247.078125 \nL 256.4875 247.078125 \n\" style=\"fill:none;stroke:#000000;stroke-linecap:square;stroke-linejoin:miter;stroke-width:0.8;\"/>\n   </g>\n   <g id=\"patch_6\">\n    <path d=\"M 33.2875 23.878125 \nL 256.4875 23.878125 \n\" style=\"fill:none;stroke:#000000;stroke-linecap:square;stroke-linejoin:miter;stroke-width:0.8;\"/>\n   </g>\n  </g>\n </g>\n <defs>\n  <clipPath id=\"pce841abd61\">\n   <rect height=\"223.2\" width=\"223.2\" x=\"33.2875\" y=\"23.878125\"/>\n  </clipPath>\n </defs>\n</svg>\n",
      "image/png": "[encoded data removed]"
     },
     "metadata": {
      "needs_background": "light"
     }
    },
    {
     "output_type": "display_data",
     "data": {
      "text/plain": [
       "<Figure size 288x288 with 1 Axes>"
      ],
      "image/svg+xml": "<?xml version=\"1.0\" encoding=\"utf-8\" standalone=\"no\"?>\n<!DOCTYPE svg PUBLIC \"-//W3C//DTD SVG 1.1//EN\"\n  \"http://www.w3.org/Graphics/SVG/1.1/DTD/svg11.dtd\">\n<!-- Created with matplotlib (https://matplotlib.org/) -->\n<svg height=\"257.778125pt\" version=\"1.1\" viewBox=\"0 0 268.435938 257.778125\" width=\"268.435938pt\" xmlns=\"http://www.w3.org/2000/svg\" xmlns:xlink=\"http://www.w3.org/1999/xlink\">\n <defs>\n  <style type=\"text/css\">\n*{stroke-linecap:butt;stroke-linejoin:round;}\n  </style>\n </defs>\n <g id=\"figure_1\">\n  <g id=\"patch_1\">\n   <path d=\"M 0 257.778125 \nL 268.435938 257.778125 \nL 268.435938 0 \nL 0 0 \nz\n\" style=\"fill:none;\"/>\n  </g>\n  <g id=\"axes_1\">\n   <g id=\"patch_2\">\n    <path d=\"M 33.2875 247.078125 \nL 256.4875 247.078125 \nL 256.4875 23.878125 \nL 33.2875 23.878125 \nz\n\" style=\"fill:#ffffff;\"/>\n   </g>\n   <g clip-path=\"url(#p04f6999771)\">\n    <image height=\"224\" id=\"imagea3d628263b\" transform=\"scale(1 -1)translate(0 -224)\" width=\"224\" x=\"33.2875\" xlink:href=\"data:image/png;base64,\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\" y=\"-23.078125\"/>\n   </g>\n   <g id=\"matplotlib.axis_1\">\n    <g id=\"xtick_1\">\n     <g id=\"line2d_1\">\n      <defs>\n       <path d=\"M 0 0 \nL 0 3.5 \n\" id=\"mce3f3ef37e\" style=\"stroke:#000000;stroke-width:0.8;\"/>\n      </defs>\n      <g>\n       <use style=\"stroke:#000000;stroke-width:0.8;\" x=\"33.723438\" xlink:href=\"#mce3f3ef37e\" y=\"247.078125\"/>\n      </g>\n     </g>\n     <g id=\"line2d_2\">\n      <defs>\n       <path d=\"M 0 0 \nL 0 -3.5 \n\" id=\"m40b0293f12\" style=\"stroke:#000000;stroke-width:0.8;\"/>\n      </defs>\n      <g>\n       <use style=\"stroke:#000000;stroke-width:0.8;\" x=\"33.723438\" xlink:href=\"#m40b0293f12\" y=\"23.878125\"/>\n      </g>\n     </g>\n     <g id=\"text_1\">\n      <!-- 0 -->\n      <defs>\n       <path d=\"M 31.78125 66.40625 \nQ 24.171875 66.40625 20.328125 58.90625 \nQ 16.5 51.421875 16.5 36.375 \nQ 16.5 21.390625 20.328125 13.890625 \nQ 24.171875 6.390625 31.78125 6.390625 \nQ 39.453125 6.390625 43.28125 13.890625 \nQ 47.125 21.390625 47.125 36.375 \nQ 47.125 51.421875 43.28125 58.90625 \nQ 39.453125 66.40625 31.78125 66.40625 \nz\nM 31.78125 74.21875 \nQ 44.046875 74.21875 50.515625 64.515625 \nQ 56.984375 54.828125 56.984375 36.375 \nQ 56.984375 17.96875 50.515625 8.265625 \nQ 44.046875 -1.421875 31.78125 -1.421875 \nQ 19.53125 -1.421875 13.0625 8.265625 \nQ 6.59375 17.96875 6.59375 36.375 \nQ 6.59375 54.828125 13.0625 64.515625 \nQ 19.53125 74.21875 31.78125 74.21875 \nz\n\" id=\"DejaVuSans-48\"/>\n      </defs>\n      <g transform=\"translate(30.542188 14.798438)scale(0.1 -0.1)\">\n       <use xlink:href=\"#DejaVuSans-48\"/>\n      </g>\n     </g>\n    </g>\n    <g id=\"xtick_2\">\n     <g id=\"line2d_3\">\n      <g>\n       <use style=\"stroke:#000000;stroke-width:0.8;\" x=\"77.317188\" xlink:href=\"#mce3f3ef37e\" y=\"247.078125\"/>\n      </g>\n     </g>\n     <g id=\"line2d_4\">\n      <g>\n       <use style=\"stroke:#000000;stroke-width:0.8;\" x=\"77.317188\" xlink:href=\"#m40b0293f12\" y=\"23.878125\"/>\n      </g>\n     </g>\n     <g id=\"text_2\">\n      <!-- 50 -->\n      <defs>\n       <path d=\"M 10.796875 72.90625 \nL 49.515625 72.90625 \nL 49.515625 64.59375 \nL 19.828125 64.59375 \nL 19.828125 46.734375 \nQ 21.96875 47.46875 24.109375 47.828125 \nQ 26.265625 48.1875 28.421875 48.1875 \nQ 40.625 48.1875 47.75 41.5 \nQ 54.890625 34.8125 54.890625 23.390625 \nQ 54.890625 11.625 47.5625 5.09375 \nQ 40.234375 -1.421875 26.90625 -1.421875 \nQ 22.3125 -1.421875 17.546875 -0.640625 \nQ 12.796875 0.140625 7.71875 1.703125 \nL 7.71875 11.625 \nQ 12.109375 9.234375 16.796875 8.0625 \nQ 21.484375 6.890625 26.703125 6.890625 \nQ 35.15625 6.890625 40.078125 11.328125 \nQ 45.015625 15.765625 45.015625 23.390625 \nQ 45.015625 31 40.078125 35.4375 \nQ 35.15625 39.890625 26.703125 39.890625 \nQ 22.75 39.890625 18.8125 39.015625 \nQ 14.890625 38.140625 10.796875 36.28125 \nz\n\" id=\"DejaVuSans-53\"/>\n      </defs>\n      <g transform=\"translate(70.954688 14.798438)scale(0.1 -0.1)\">\n       <use xlink:href=\"#DejaVuSans-53\"/>\n       <use x=\"63.623047\" xlink:href=\"#DejaVuSans-48\"/>\n      </g>\n     </g>\n    </g>\n    <g id=\"xtick_3\">\n     <g id=\"line2d_5\">\n      <g>\n       <use style=\"stroke:#000000;stroke-width:0.8;\" x=\"120.910938\" xlink:href=\"#mce3f3ef37e\" y=\"247.078125\"/>\n      </g>\n     </g>\n     <g id=\"line2d_6\">\n      <g>\n       <use style=\"stroke:#000000;stroke-width:0.8;\" x=\"120.910938\" xlink:href=\"#m40b0293f12\" y=\"23.878125\"/>\n      </g>\n     </g>\n     <g id=\"text_3\">\n      <!-- 100 -->\n      <defs>\n       <path d=\"M 12.40625 8.296875 \nL 28.515625 8.296875 \nL 28.515625 63.921875 \nL 10.984375 60.40625 \nL 10.984375 69.390625 \nL 28.421875 72.90625 \nL 38.28125 72.90625 \nL 38.28125 8.296875 \nL 54.390625 8.296875 \nL 54.390625 0 \nL 12.40625 0 \nz\n\" id=\"DejaVuSans-49\"/>\n      </defs>\n      <g transform=\"translate(111.367188 14.798438)scale(0.1 -0.1)\">\n       <use xlink:href=\"#DejaVuSans-49\"/>\n       <use x=\"63.623047\" xlink:href=\"#DejaVuSans-48\"/>\n       <use x=\"127.246094\" xlink:href=\"#DejaVuSans-48\"/>\n      </g>\n     </g>\n    </g>\n    <g id=\"xtick_4\">\n     <g id=\"line2d_7\">\n      <g>\n       <use style=\"stroke:#000000;stroke-width:0.8;\" x=\"164.504688\" xlink:href=\"#mce3f3ef37e\" y=\"247.078125\"/>\n      </g>\n     </g>\n     <g id=\"line2d_8\">\n      <g>\n       <use style=\"stroke:#000000;stroke-width:0.8;\" x=\"164.504688\" xlink:href=\"#m40b0293f12\" y=\"23.878125\"/>\n      </g>\n     </g>\n     <g id=\"text_4\">\n      <!-- 150 -->\n      <g transform=\"translate(154.960938 14.798438)scale(0.1 -0.1)\">\n       <use xlink:href=\"#DejaVuSans-49\"/>\n       <use x=\"63.623047\" xlink:href=\"#DejaVuSans-53\"/>\n       <use x=\"127.246094\" xlink:href=\"#DejaVuSans-48\"/>\n      </g>\n     </g>\n    </g>\n    <g id=\"xtick_5\">\n     <g id=\"line2d_9\">\n      <g>\n       <use style=\"stroke:#000000;stroke-width:0.8;\" x=\"208.098438\" xlink:href=\"#mce3f3ef37e\" y=\"247.078125\"/>\n      </g>\n     </g>\n     <g id=\"line2d_10\">\n      <g>\n       <use style=\"stroke:#000000;stroke-width:0.8;\" x=\"208.098438\" xlink:href=\"#m40b0293f12\" y=\"23.878125\"/>\n      </g>\n     </g>\n     <g id=\"text_5\">\n      <!-- 200 -->\n      <defs>\n       <path d=\"M 19.1875 8.296875 \nL 53.609375 8.296875 \nL 53.609375 0 \nL 7.328125 0 \nL 7.328125 8.296875 \nQ 12.9375 14.109375 22.625 23.890625 \nQ 32.328125 33.6875 34.8125 36.53125 \nQ 39.546875 41.84375 41.421875 45.53125 \nQ 43.3125 49.21875 43.3125 52.78125 \nQ 43.3125 58.59375 39.234375 62.25 \nQ 35.15625 65.921875 28.609375 65.921875 \nQ 23.96875 65.921875 18.8125 64.3125 \nQ 13.671875 62.703125 7.8125 59.421875 \nL 7.8125 69.390625 \nQ 13.765625 71.78125 18.9375 73 \nQ 24.125 74.21875 28.421875 74.21875 \nQ 39.75 74.21875 46.484375 68.546875 \nQ 53.21875 62.890625 53.21875 53.421875 \nQ 53.21875 48.921875 51.53125 44.890625 \nQ 49.859375 40.875 45.40625 35.40625 \nQ 44.1875 33.984375 37.640625 27.21875 \nQ 31.109375 20.453125 19.1875 8.296875 \nz\n\" id=\"DejaVuSans-50\"/>\n      </defs>\n      <g transform=\"translate(198.554688 14.798438)scale(0.1 -0.1)\">\n       <use xlink:href=\"#DejaVuSans-50\"/>\n       <use x=\"63.623047\" xlink:href=\"#DejaVuSans-48\"/>\n       <use x=\"127.246094\" xlink:href=\"#DejaVuSans-48\"/>\n      </g>\n     </g>\n    </g>\n    <g id=\"xtick_6\">\n     <g id=\"line2d_11\">\n      <g>\n       <use style=\"stroke:#000000;stroke-width:0.8;\" x=\"251.692188\" xlink:href=\"#mce3f3ef37e\" y=\"247.078125\"/>\n      </g>\n     </g>\n     <g id=\"line2d_12\">\n      <g>\n       <use style=\"stroke:#000000;stroke-width:0.8;\" x=\"251.692188\" xlink:href=\"#m40b0293f12\" y=\"23.878125\"/>\n      </g>\n     </g>\n     <g id=\"text_6\">\n      <!-- 250 -->\n      <g transform=\"translate(242.148438 14.798438)scale(0.1 -0.1)\">\n       <use xlink:href=\"#DejaVuSans-50\"/>\n       <use x=\"63.623047\" xlink:href=\"#DejaVuSans-53\"/>\n       <use x=\"127.246094\" xlink:href=\"#DejaVuSans-48\"/>\n      </g>\n     </g>\n    </g>\n   </g>\n   <g id=\"matplotlib.axis_2\">\n    <g id=\"ytick_1\">\n     <g id=\"line2d_13\">\n      <defs>\n       <path d=\"M 0 0 \nL -3.5 0 \n\" id=\"m9dd80308b9\" style=\"stroke:#000000;stroke-width:0.8;\"/>\n      </defs>\n      <g>\n       <use style=\"stroke:#000000;stroke-width:0.8;\" x=\"33.2875\" xlink:href=\"#m9dd80308b9\" y=\"24.314063\"/>\n      </g>\n     </g>\n     <g id=\"text_7\">\n      <!-- 0 -->\n      <g transform=\"translate(19.925 28.113281)scale(0.1 -0.1)\">\n       <use xlink:href=\"#DejaVuSans-48\"/>\n      </g>\n     </g>\n    </g>\n    <g id=\"ytick_2\">\n     <g id=\"line2d_14\">\n      <g>\n       <use style=\"stroke:#000000;stroke-width:0.8;\" x=\"33.2875\" xlink:href=\"#m9dd80308b9\" y=\"67.907813\"/>\n      </g>\n     </g>\n     <g id=\"text_8\">\n      <!-- 50 -->\n      <g transform=\"translate(13.5625 71.707031)scale(0.1 -0.1)\">\n       <use xlink:href=\"#DejaVuSans-53\"/>\n       <use x=\"63.623047\" xlink:href=\"#DejaVuSans-48\"/>\n      </g>\n     </g>\n    </g>\n    <g id=\"ytick_3\">\n     <g id=\"line2d_15\">\n      <g>\n       <use style=\"stroke:#000000;stroke-width:0.8;\" x=\"33.2875\" xlink:href=\"#m9dd80308b9\" y=\"111.501563\"/>\n      </g>\n     </g>\n     <g id=\"text_9\">\n      <!-- 100 -->\n      <g transform=\"translate(7.2 115.300781)scale(0.1 -0.1)\">\n       <use xlink:href=\"#DejaVuSans-49\"/>\n       <use x=\"63.623047\" xlink:href=\"#DejaVuSans-48\"/>\n       <use x=\"127.246094\" xlink:href=\"#DejaVuSans-48\"/>\n      </g>\n     </g>\n    </g>\n    <g id=\"ytick_4\">\n     <g id=\"line2d_16\">\n      <g>\n       <use style=\"stroke:#000000;stroke-width:0.8;\" x=\"33.2875\" xlink:href=\"#m9dd80308b9\" y=\"155.095313\"/>\n      </g>\n     </g>\n     <g id=\"text_10\">\n      <!-- 150 -->\n      <g transform=\"translate(7.2 158.894531)scale(0.1 -0.1)\">\n       <use xlink:href=\"#DejaVuSans-49\"/>\n       <use x=\"63.623047\" xlink:href=\"#DejaVuSans-53\"/>\n       <use x=\"127.246094\" xlink:href=\"#DejaVuSans-48\"/>\n      </g>\n     </g>\n    </g>\n    <g id=\"ytick_5\">\n     <g id=\"line2d_17\">\n      <g>\n       <use style=\"stroke:#000000;stroke-width:0.8;\" x=\"33.2875\" xlink:href=\"#m9dd80308b9\" y=\"198.689063\"/>\n      </g>\n     </g>\n     <g id=\"text_11\">\n      <!-- 200 -->\n      <g transform=\"translate(7.2 202.488281)scale(0.1 -0.1)\">\n       <use xlink:href=\"#DejaVuSans-50\"/>\n       <use x=\"63.623047\" xlink:href=\"#DejaVuSans-48\"/>\n       <use x=\"127.246094\" xlink:href=\"#DejaVuSans-48\"/>\n      </g>\n     </g>\n    </g>\n    <g id=\"ytick_6\">\n     <g id=\"line2d_18\">\n      <g>\n       <use style=\"stroke:#000000;stroke-width:0.8;\" x=\"33.2875\" xlink:href=\"#m9dd80308b9\" y=\"242.282813\"/>\n      </g>\n     </g>\n     <g id=\"text_12\">\n      <!-- 250 -->\n      <g transform=\"translate(7.2 246.082031)scale(0.1 -0.1)\">\n       <use xlink:href=\"#DejaVuSans-50\"/>\n       <use x=\"63.623047\" xlink:href=\"#DejaVuSans-53\"/>\n       <use x=\"127.246094\" xlink:href=\"#DejaVuSans-48\"/>\n      </g>\n     </g>\n    </g>\n   </g>\n   <g id=\"patch_3\">\n    <path d=\"M 33.2875 247.078125 \nL 33.2875 23.878125 \n\" style=\"fill:none;stroke:#000000;stroke-linecap:square;stroke-linejoin:miter;stroke-width:0.8;\"/>\n   </g>\n   <g id=\"patch_4\">\n    <path d=\"M 256.4875 247.078125 \nL 256.4875 23.878125 \n\" style=\"fill:none;stroke:#000000;stroke-linecap:square;stroke-linejoin:miter;stroke-width:0.8;\"/>\n   </g>\n   <g id=\"patch_5\">\n    <path d=\"M 33.2875 247.078125 \nL 256.4875 247.078125 \n\" style=\"fill:none;stroke:#000000;stroke-linecap:square;stroke-linejoin:miter;stroke-width:0.8;\"/>\n   </g>\n   <g id=\"patch_6\">\n    <path d=\"M 33.2875 23.878125 \nL 256.4875 23.878125 \n\" style=\"fill:none;stroke:#000000;stroke-linecap:square;stroke-linejoin:miter;stroke-width:0.8;\"/>\n   </g>\n  </g>\n </g>\n <defs>\n  <clipPath id=\"p04f6999771\">\n   <rect height=\"223.2\" width=\"223.2\" x=\"33.2875\" y=\"23.878125\"/>\n  </clipPath>\n </defs>\n</svg>\n",
      "image/png": "[encoded data removed]"
     },
     "metadata": {
      "needs_background": "light"
     }
    }
   ],
   "metadata": {
    "collapsed": false,
    "pycharm": {
     "name": "#%%\n"
    }
   }
  },
  {
   "cell_type": "code",
   "execution_count": null,
   "source": [
    "# Valid sequences\n",
    "for i, batch in enumerate(X_train):\n",
    "    for j, sequence in enumerate(batch):\n",
    "\n",
    "        # first three channels (dep, vvx, vvy): x/y aligned\n",
    "        #sequence = np.concatenate((sequence[:,:3,:,:], y_train[i,j,:,0,:,:].unsqueeze(0)), axis=0)\n",
    "\n",
    "        fig, axs = plt.subplots(1, sequence.shape[0], figsize=(plotsize,plotsize))\n",
    "\n",
    "        for ax in axs:\n",
    "            ax.set_yticklabels([])\n",
    "            ax.set_xticklabels([])\n",
    "\n",
    "        for k,frame in enumerate(sequence):   # x frames\n",
    "            axs[k].matshow(frame[0])"
   ],
   "outputs": [],
   "metadata": {
    "collapsed": false,
    "pycharm": {
     "name": "#%%\n"
    }
   }
  },
  {
   "cell_type": "code",
   "execution_count": 27,
   "source": [
    "losses = []\n",
    "errors = []\n",
    "test_errors = []\n",
    "criterion = nn.MSELoss(reduction='sum')"
   ],
   "outputs": [],
   "metadata": {}
  },
  {
   "cell_type": "markdown",
   "source": [
    "### Sequence mode\n"
   ],
   "metadata": {}
  },
  {
   "cell_type": "code",
   "execution_count": null,
   "source": [
    "\n",
    "tests = 1\n",
    "\n",
    "for test in range(tests):  # loop over the dataset multiple times\n",
    "\n",
    "    k = np.random.randint(len(X_train))\n",
    "\n",
    "    _, last_states = net(X_train[k])\n",
    "    outputs = last_states[0][-1]  # 0 for layer index, 0 for h index\n",
    "\n",
    "    test_loss = criterion(outputs[0],  y_train[k,:,:,0,:,:])\n",
    "    #print(\"test loss: {}\".format(test_loss.item()))\n",
    "\n",
    "    #------------------------------\n",
    "    fig, axs = plt.subplots(1, X_train.shape[2] + 3, figsize=(plotsize,plotsize))\n",
    "\n",
    "    for ax in axs:\n",
    "        ax.set_yticklabels([])\n",
    "        ax.set_xticklabels([])\n",
    "\n",
    "    # pick random datapoint from batch\n",
    "    x = np.random.randint(X_train[k].shape[0])\n",
    "\n",
    "    for i,frame in enumerate(X_train[k,x]):\n",
    "        axs[i].matshow(frame[0].cpu().detach().numpy())\n",
    "\n",
    "    axs[i+1].matshow(outputs[x][0].cpu().detach().numpy())\n",
    "    axs[i+2].matshow(outputs[x][1].cpu().detach().numpy())\n",
    "    axs[i+3].matshow(outputs[x][2].cpu().detach().numpy())\n",
    "\n",
    "    plt.show()\n",
    "\n",
    "print('Finished Training')"
   ],
   "outputs": [],
   "metadata": {}
  },
  {
   "cell_type": "markdown",
   "source": [
    "### Autoregressive"
   ],
   "metadata": {}
  },
  {
   "cell_type": "code",
   "execution_count": 29,
   "source": [
    "\n",
    "tests = 1\n",
    "\n",
    "k = np.random.randint(len(X_train))\n",
    "input = X_train[k]\n",
    "\n",
    "for test in range(tests):  # loop over the dataset multiple times\n",
    "\n",
    "    outputs = net(input, 1)    \n",
    "    test_loss = criterion(outputs[:,0,:,:], y_train[k,:,0,0,:,:])\n",
    "    #print(\"test loss: {}\".format(test_loss.item()))\n",
    "    \n",
    "    # b, t, c, h, w\n",
    "    next_input = th.empty(input.shape)\n",
    "    next_input[:, :3, 0, :, :]\n",
    "    print(outputs.shape)\n",
    "    break\n",
    "\n",
    "    #------------------------------\n",
    "    fig, axs = plt.subplots(1, X_train.shape[2] + 3, figsize=(plotsize,plotsize))\n",
    "\n",
    "    for ax in axs:\n",
    "        ax.set_yticklabels([])\n",
    "        ax.set_xticklabels([])\n",
    "\n",
    "    # pick random datapoint from batch\n",
    "    x = np.random.randint(X_train[k].shape[0])\n",
    "\n",
    "    for i,frame in enumerate(X_train[k,x]):\n",
    "        axs[i].matshow(frame[0].cpu().detach().numpy())\n",
    "\n",
    "    axs[i+1].matshow(outputs[x][0].cpu().detach().numpy())\n",
    "    axs[i+2].matshow(outputs[x][1].cpu().detach().numpy())\n",
    "    axs[i+3].matshow(outputs[x][2].cpu().detach().numpy())\n",
    "\n",
    "    plt.show()\n",
    "\n",
    "print('Finished Training')"
   ],
   "outputs": [
    {
     "output_type": "stream",
     "name": "stdout",
     "text": [
      "torch.Size([4, 1, 1, 256, 256])\n",
      "Finished Training\n"
     ]
    },
    {
     "output_type": "stream",
     "name": "stderr",
     "text": [
      "/Users/diegocalanzone/anaconda3/envs/tfdeeplearning/lib/python3.6/site-packages/torch/nn/modules/loss.py:432: UserWarning: Using a target size (torch.Size([4, 256, 256])) that is different to the input size (torch.Size([4, 1, 256, 256])). This will likely lead to incorrect results due to broadcasting. Please ensure they have the same size.\n",
      "  return F.mse_loss(input, target, reduction=self.reduction)\n"
     ]
    }
   ],
   "metadata": {}
  },
  {
   "cell_type": "code",
   "execution_count": null,
   "source": [
    "'''\n",
    "num_run = len(os.listdir(\"runs/\")) + 1\n",
    "now = datetime.now()\n",
    "foldername = \"train_{}_{}\".format(num_run, now.strftime(\"%d_%m_%Y_%H_%M_%S\"))\n",
    "os.mkdir(\"runs/\" + foldername)\n",
    "\n",
    "weights_path = \"runs/\" + foldername + \"/model.weights\"\n",
    "th.save(net.state_dict(), weights_path)\n",
    "'''"
   ],
   "outputs": [],
   "metadata": {
    "pycharm": {
     "name": "#%%\n",
     "is_executing": true
    }
   }
  },
  {
   "cell_type": "code",
   "execution_count": null,
   "source": [
    "mpl.rcParams['text.color'] = 'k'\n",
    "\n",
    "plt.title(\"loss\")\n",
    "plt.plot(range(len(losses)), losses)\n",
    "pass"
   ],
   "outputs": [],
   "metadata": {
    "pycharm": {
     "name": "#%%\n",
     "is_executing": true
    }
   }
  },
  {
   "cell_type": "code",
   "execution_count": null,
   "source": [
    "plt.title(\"relative error\")\n",
    "plt.plot(range(len(errors)), errors, label=\"train\")\n",
    "plt.plot(range(len(test_errors)), test_errors, label=\"test\")\n",
    "plt.legend()\n",
    "pass\n"
   ],
   "outputs": [],
   "metadata": {
    "pycharm": {
     "is_executing": true
    }
   }
  },
  {
   "cell_type": "code",
   "execution_count": null,
   "source": [
    "mpl.rcParams['text.color'] = 'w'\n",
    "prep = Preprocessing()"
   ],
   "outputs": [],
   "metadata": {
    "scrolled": true,
    "pycharm": {
     "is_executing": true
    }
   }
  },
  {
   "cell_type": "code",
   "execution_count": null,
   "source": [
    "j = np.random.randint(len(y_test))\n",
    "j = 3\n",
    "m = 2\n",
    "k = 4\n",
    "\n",
    "print(\"k = {}\".format(k))\n",
    "\n",
    "#k = 5\n",
    "input = th.unsqueeze(X_test[j, m], 0)\n",
    "outputs = net(input)\n",
    "\n",
    "#------------------------------\n",
    "num_predicted_frames = outputs[0, 0].shape[0] # per allineare frames passati e futuri\n",
    "fig, axs = plt.subplots(1, num_predicted_frames, figsize=(plotsize,plotsize))\n",
    "\n",
    "for ax in axs:\n",
    "    ax.set_yticklabels([])\n",
    "    ax.set_xticklabels([])\n",
    "\n",
    "for i,frame in enumerate(input[0,0,-num_predicted_frames:]):\n",
    "    frame = frame.cpu().detach().numpy()\n",
    "    axs[i].matshow(frame)\n",
    "    axs[i].set_title('t = {}'.format(i))\n",
    "\n",
    "print(\"======== Past frames ========\")\n",
    "plt.show()\n",
    "\n",
    "print(\"======== True Future vs Predicted frames ========\")\n",
    "\n",
    "#------------------------------\n",
    "fig, axs = plt.subplots(1, num_predicted_frames, figsize=(plotsize,plotsize))\n",
    "\n",
    "for ax in axs:\n",
    "    ax.set_yticklabels([])\n",
    "    ax.set_xticklabels([])\n",
    "\n",
    "for i,frame in enumerate(y_test[j,m,0]):\n",
    "    axs[i].matshow(frame.cpu().detach().numpy())\n",
    "    axs[i].set_title('t = {}'.format(i+num_predicted_frames))\n",
    "\n",
    "plt.show()\n",
    "#------------------------------\n",
    "fig, axs = plt.subplots(1, outputs[0,0].shape[0], figsize=(plotsize,plotsize))\n",
    "\n",
    "for ax in axs:\n",
    "    ax.set_yticklabels([])\n",
    "    ax.set_xticklabels([])\n",
    "\n",
    "for i,frame in enumerate(outputs[0,0]):\n",
    "    attention_mask = outputs[0,1,i].cpu().detach().numpy()\n",
    "    y_frame = frame.cpu().detach().numpy()\n",
    "    y_true = y_test[j,m,0,i].cpu().detach().numpy()\n",
    "\n",
    "    y_frame = np.dot(y_frame, attention_mask)\n",
    "    y_true = np.dot(y_true, attention_mask)\n",
    "\n",
    "    print(y_frame[:5,:5])\n",
    "    print(\"#-------------\")\n",
    "    print(y_true[:5,:5])\n",
    "    print(\"\\n\\n\")\n",
    "\n",
    "    ssim = prep.pytorch_ssim(y_true, y_frame).item()\n",
    "    axs[i].matshow(y_frame)\n",
    "    axs[i].set_title('ssim = {}'.format(ssim))\n",
    "\n",
    "plt.show()\n",
    "#------------------------------"
   ],
   "outputs": [],
   "metadata": {
    "pycharm": {
     "name": "#%%\n",
     "is_executing": true
    }
   }
  },
  {
   "cell_type": "code",
   "execution_count": null,
   "source": [
    "print(\"k = {}\".format(k))\n",
    "iterations = 4\n",
    "#k = 5\n",
    "\n",
    "input = th.unsqueeze(X_train[k,0], 0)\n",
    "outputs = net(input)\n",
    "\n",
    "#------------------------------\n",
    "print(\"======== Past frames ========\")\n",
    "num_predicted_frames = outputs[0,0].shape[0] # per allineare frames passati e futuri\n",
    "fig, axs = plt.subplots(1, num_predicted_frames, figsize=(plotsize,plotsize))\n",
    "\n",
    "for ax in axs:\n",
    "    ax.set_yticklabels([])\n",
    "    ax.set_xticklabels([])\n",
    "\n",
    "for i,frame in enumerate(input[0,0,-num_predicted_frames:]):\n",
    "    axs[i].matshow(frame.cpu().detach().numpy())\n",
    "    axs[i].set_title('t = {}'.format(i))\n",
    "\n",
    "plt.show()\n",
    "#------------------------------\n",
    "print(\"======== True vs Autoregressive Pred Frames  ========\")\n",
    "fig, axs = plt.subplots(1, num_predicted_frames, figsize=(plotsize,plotsize))\n",
    "\n",
    "true_means = []\n",
    "\n",
    "for ax in axs:\n",
    "    ax.set_yticklabels([])\n",
    "    ax.set_xticklabels([])\n",
    "\n",
    "for i,frame in enumerate(y_train[k,0,0]):\n",
    "    axs[i].matshow(frame.cpu().detach().numpy())\n",
    "    axs[i].set_title('t = {}'.format(i+num_predicted_frames))\n",
    "    true_means.append(frame.cpu().detach().numpy().mean())\n",
    "\n",
    "plt.show()\n",
    "#------------------------------\n",
    "\n",
    "#i = np.random.randint(len(X_test))\n",
    "input = th.unsqueeze(X_train[k][0], 0)\n",
    "\n",
    "fig, axs = plt.subplots(1, iterations, figsize=(plotsize,plotsize))\n",
    "\n",
    "for ax in axs:\n",
    "    ax.set_yticklabels([])\n",
    "    ax.set_xticklabels([])\n",
    "\n",
    "predicted_means = []\n",
    "for x in range(iterations):\n",
    "    # first predicted frame only\n",
    "    output = th.unsqueeze(net(input)[:,:,0,:,:],2)\n",
    "    # next frame = first predicted from output + btm map\n",
    "    next_frame = output.detach()\n",
    "    next_frame = th.cat((next_frame, th.unsqueeze(input[:,2:,0,:,:],2)), axis=1)\n",
    "    # added on top of (input sequence - first frame)\n",
    "    input = th.cat((next_frame, input[:,:,1:,:]), axis=2)\n",
    "\n",
    "    axs[x].matshow(output[0,0,0].cpu().detach().numpy())\n",
    "    axs[x].set_title('t = {}'.format(x+num_predicted_frames))\n",
    "    predicted_means.append(output[0,0,0].cpu().detach().numpy().mean())\n",
    "    #print(np.mean(output[0,0,0].cpu().detach().numpy()))\n",
    "\n",
    "plt.show()"
   ],
   "outputs": [],
   "metadata": {
    "pycharm": {
     "name": "#%% Auto regressive mode\n",
     "is_executing": true
    }
   }
  },
  {
   "cell_type": "code",
   "execution_count": null,
   "source": [
    "mpl.rcParams['text.color'] = 'b'\n",
    "\n",
    "plt.clf()\n",
    "plt.plot(range(len(true_means)), true_means,  \"-b\", label=\"True frames mean\")\n",
    "plt.plot(range(len(true_means)), true_means,  \"*\")\n",
    "\n",
    "plt.plot(range(len(predicted_means)), predicted_means,  \"-g\", label=\"Predicted frames mean\")\n",
    "plt.plot(range(len(predicted_means)), predicted_means,  \"*\")\n",
    "plt.grid()\n",
    "plt.legend()\n",
    "pass"
   ],
   "outputs": [],
   "metadata": {
    "pycharm": {
     "name": "#%%\n",
     "is_executing": true
    }
   }
  },
  {
   "cell_type": "code",
   "execution_count": null,
   "source": [
    "print(\"{:<20s}{:<20s}{:<20s}{:<20s}{:<20s}\".format(\"\", \"min\", \"max\", \"mean\", \"std\"))\n",
    "print(\"{:<20s}{:<20f}{:<20f}{:<20f}{:<20f}\".format(\"prediction\", th.min(outputs), th.max(outputs), th.mean(outputs), th.std(outputs)))\n",
    "print(\"{:<20s}{:<20f}{:<20f}{:<20f}{:<20f}\".format(\"true\", th.min(y_test[0]), th.max(y_test[0]), th.mean(y_test[0]), th.std(y_test[0])))"
   ],
   "outputs": [],
   "metadata": {
    "pycharm": {
     "name": "#%%\n",
     "is_executing": true
    }
   }
  },
  {
   "cell_type": "code",
   "execution_count": null,
   "source": [],
   "outputs": [],
   "metadata": {
    "pycharm": {
     "name": "#%%\n",
     "is_executing": true
    }
   }
  }
 ],
 "metadata": {
  "colab": {
   "name": "flax_mnist_full_example.ipynb",
   "provenance": []
  },
  "kernelspec": {
   "name": "python3",
   "display_name": "Python 3.6.7 64-bit ('tfdeeplearning': conda)"
  },
  "language_info": {
   "codemirror_mode": {
    "name": "ipython",
    "version": 3
   },
   "file_extension": ".py",
   "mimetype": "text/x-python",
   "name": "python",
   "nbconvert_exporter": "python",
   "pygments_lexer": "ipython3",
   "version": "3.6.7"
  },
  "interpreter": {
   "hash": "e97ca70a60c44d04c5cd941e5875e1758a8ffad8753d39a47b72b0be14848870"
  }
 },
 "nbformat": 4,
 "nbformat_minor": 1
}