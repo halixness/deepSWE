{
 "cells": [
  {
   "cell_type": "code",
   "execution_count": 1,
   "source": [
    "from utils import dataloader\n",
    "import numpy as np\n",
    "from sklearn.preprocessing import StandardScaler\n",
    "from sklearn.model_selection import train_test_split\n",
    "from importlib import reload  \n",
    "\n",
    "import matplotlib.pyplot as plt\n",
    "\n",
    "import numpy as np\n",
    "\n",
    "import torch as th\n",
    "import torch.nn as nn\n",
    "import os\n",
    "from datetime import datetime\n",
    "import matplotlib as mpl\n",
    "import torch.optim as optim\n",
    "import pytorch_ssim\n",
    "\n",
    "import torch.nn.functional as F\n",
    "import torchvision.models as models\n",
    "from torch.autograd import Variable\n",
    "import torchvision.transforms as transforms"
   ],
   "outputs": [],
   "metadata": {}
  },
  {
   "cell_type": "code",
   "execution_count": 2,
   "source": [
    "dataloader = reload(dataloader)\n",
    "\n",
    "plotsize = 15\n",
    "\n",
    "partitions = dataloader.DataPartitions(\n",
    "    past_frames=8,\n",
    "    future_frames=1,\n",
    "    root=\"../datasets/arda/04_21_full/\",\n",
    "    partial=0.1\n",
    ")\n",
    "\n",
    "dataset = dataloader.DataGenerator(\n",
    "    root=\"../datasets/arda/04_21_full/\",\n",
    "    dataset_partitions=partitions.get_partitions(),\n",
    "    past_frames=partitions.past_frames, \n",
    "    future_frames=partitions.future_frames,\n",
    "    input_dim=(partitions.past_frames, 256, 256, 4),\n",
    "    output_dim=(partitions.future_frames, 256, 256, 3),\n",
    "    batch_size=4,\n",
    "    buffer_size=1e3,\n",
    "    buffer_memory=100,\n",
    "    downsampling=False,\n",
    "    dynamicity = 1e-2\n",
    ")"
   ],
   "outputs": [],
   "metadata": {
    "pycharm": {
     "name": "#%%\n"
    }
   }
  },
  {
   "cell_type": "code",
   "execution_count": 3,
   "source": [
    "X, Y, extra_batch = dataset.get_data()\n",
    "\n",
    "X[X > 10e5] = 0 \n",
    "Y[Y > 10e5] = 0\n"
   ],
   "outputs": [
    {
     "name": "stdout",
     "output_type": "stream",
     "text": [
      "[x] 2 areas found\n",
      ". . . . . . . . . . . . . . . . . . . . \n",
      "[50%] 20 valid sequences loaded\n",
      ". . . . . . . . . . . . . . . . . . . . \n",
      "[100%] 20 valid sequences loaded\n"
     ]
    }
   ],
   "metadata": {}
  },
  {
   "cell_type": "code",
   "execution_count": 4,
   "source": [
    "def unison_shuffled_copies(a, b):\n",
    "    assert len(a) == len(b)\n",
    "    p = np.random.permutation(len(a))\n",
    "    return a[p], b[p]\n",
    "\n",
    "X, Y = unison_shuffled_copies(X, Y)"
   ],
   "outputs": [],
   "metadata": {
    "pycharm": {
     "name": "#%%\n"
    }
   }
  },
  {
   "cell_type": "code",
   "execution_count": 5,
   "source": [
    "X_train, X_test, y_train, y_test = train_test_split(X, Y, test_size=0.2, random_state=42)"
   ],
   "outputs": [],
   "metadata": {
    "pycharm": {
     "name": "#%%\n"
    }
   }
  },
  {
   "cell_type": "code",
   "execution_count": 6,
   "source": [
    "print(\"DEP min: {}\\nVEL min: {}\\nBTM min: {}\".format(\n",
    "    np.min(X_train[:, :, :, :, :, 0]),\n",
    "    np.min(X_train[:, :, :, :, :, 1]),\n",
    "    np.min(X_train[:, :, :, :, :, 2])\n",
    "))\n",
    "\n",
    "print(\"DEP max: {}\\nVEL max: {}\\nBTM max: {}\".format(\n",
    "    np.max(X_train[:, :, :, :, :, 0]),\n",
    "    np.max(X_train[:, :, :, :, :, 1]),\n",
    "    np.max(X_train[:, :, :, :, :, 2])\n",
    "))"
   ],
   "outputs": [
    {
     "name": "stdout",
     "output_type": "stream",
     "text": [
      "DEP min: 0.0\n",
      "VEL min: -3.0152\n",
      "BTM min: -0.691004\n",
      "DEP max: 4.32622\n",
      "VEL max: 4.80414\n",
      "BTM max: 6.84653\n"
     ]
    }
   ],
   "metadata": {}
  },
  {
   "cell_type": "markdown",
   "source": [
    "### Model"
   ],
   "metadata": {}
  },
  {
   "cell_type": "code",
   "execution_count": 7,
   "source": [
    "import torch.nn.functional as F\n",
    "from functools import partial\n"
   ],
   "outputs": [],
   "metadata": {
    "id": "U8pHltaOy2CK"
   }
  },
  {
   "cell_type": "code",
   "execution_count": 8,
   "source": [
    "if th.cuda.is_available():\n",
    "    dev = \"cuda:0\"\n",
    "else:\n",
    "    dev = \"cpu\"\n",
    "device = th.device(dev)\n",
    "\n",
    "print(device)"
   ],
   "outputs": [
    {
     "name": "stdout",
     "output_type": "stream",
     "text": [
      "cuda:0\n"
     ]
    }
   ],
   "metadata": {}
  },
  {
   "cell_type": "code",
   "execution_count": 11,
   "source": [
    "from models.resnet import convlstm\n",
    "convlstm = reload(convlstm)\n",
    "\n",
    "net = convlstm.ConvLSTM(\n",
    "    input_dim = 4, \n",
    "    hidden_dim = 3, \n",
    "    kernel_size = (3,3), \n",
    "    num_layers = 3,\n",
    "    batch_first = True, \n",
    "    bias = True, \n",
    "    return_all_layers = False) # False: many to one\n",
    "\n",
    "# _, last_states = net(x)\n",
    "# h = last_states[0][-1]  # 0 for layer index, 0 for h index"
   ],
   "outputs": [],
   "metadata": {}
  },
  {
   "cell_type": "code",
   "execution_count": 12,
   "outputs": [
    {
     "data": {
      "text/plain": "<All keys matched successfully>"
     },
     "execution_count": 12,
     "metadata": {},
     "output_type": "execute_result"
    }
   ],
   "source": [
    "weights_path = \"../trained/model.weights\"\n",
    "net.load_state_dict(th.load(weights_path))"
   ],
   "metadata": {
    "collapsed": false,
    "pycharm": {
     "name": "#%%\n"
    }
   }
  },
  {
   "cell_type": "code",
   "execution_count": null,
   "source": [
    "X_train = th.Tensor(X_train).to(device)\n",
    "y_train = th.Tensor(y_train).to(device)"
   ],
   "outputs": [],
   "metadata": {}
  },
  {
   "cell_type": "code",
   "execution_count": null,
   "source": [
    "# b, s, t, h, w, c -> b, s, t, c, h, w\n",
    "X_train = X_train.permute(0, 1, 2, 5, 3, 4)\n",
    "y_train = y_train.permute(0, 1, 2, 5, 3, 4)"
   ],
   "outputs": [],
   "metadata": {}
  },
  {
   "cell_type": "code",
   "execution_count": null,
   "source": [
    "X_test = th.Tensor(X_test).to(device)\n",
    "y_test = th.Tensor(y_test).to(device)"
   ],
   "outputs": [],
   "metadata": {}
  },
  {
   "cell_type": "code",
   "execution_count": null,
   "source": [
    "# b, s, t, h, w, c -> b, s, t, c, h, w\n",
    "X_test = X_test.permute(0, 1, 2, 5, 3, 4)\n",
    "y_test = y_test.permute(0, 1, 2, 5, 3, 4)"
   ],
   "outputs": [],
   "metadata": {}
  },
  {
   "cell_type": "code",
   "execution_count": null,
   "outputs": [],
   "source": [
    "plt.matshow(X_train[5,2,0,2,:,:])\n",
    "plt.matshow(y_train[5,2,0,2,:,:])\n",
    "print(X_train.shape)"
   ],
   "metadata": {
    "collapsed": false,
    "pycharm": {
     "name": "#%%\n"
    }
   }
  },
  {
   "cell_type": "code",
   "execution_count": null,
   "outputs": [],
   "source": [
    "# Valid sequences\n",
    "for i, batch in enumerate(X_train):\n",
    "    for j, sequence in enumerate(batch):\n",
    "\n",
    "        # first three channels (dep, vvx, vvy): x/y aligned\n",
    "        #sequence = np.concatenate((sequence[:,:3,:,:], y_train[i,j,:,0,:,:].unsqueeze(0)), axis=0)\n",
    "\n",
    "        fig, axs = plt.subplots(1, sequence.shape[0], figsize=(plotsize,plotsize))\n",
    "\n",
    "        for ax in axs:\n",
    "            ax.set_yticklabels([])\n",
    "            ax.set_xticklabels([])\n",
    "\n",
    "        for k,frame in enumerate(sequence):   # x frames\n",
    "            axs[k].matshow(frame[0])"
   ],
   "metadata": {
    "collapsed": false,
    "pycharm": {
     "name": "#%%\n"
    }
   }
  },
  {
   "cell_type": "code",
   "execution_count": null,
   "source": [
    "losses = []\n",
    "errors = []\n",
    "test_errors = []"
   ],
   "outputs": [],
   "metadata": {}
  },
  {
   "cell_type": "code",
   "execution_count": null,
   "source": [
    "\n",
    "tests = 1\n",
    "\n",
    "for test in range(tests):  # loop over the dataset multiple times\n",
    "\n",
    "    k = np.random.randint(len(X_train))\n",
    "\n",
    "    _, last_states = net(X_train[k])\n",
    "    outputs = last_states[0][-1]  # 0 for layer index, 0 for h index\n",
    "\n",
    "    test_loss = criterion(outputs[0],  y_train[k,:,:,0,:,:])\n",
    "    #print(\"test loss: {}\".format(test_loss.item()))\n",
    "\n",
    "    #------------------------------\n",
    "    fig, axs = plt.subplots(1, X_train.shape[2] + 3, figsize=(plotsize,plotsize))\n",
    "\n",
    "    for ax in axs:\n",
    "        ax.set_yticklabels([])\n",
    "        ax.set_xticklabels([])\n",
    "\n",
    "    # pick random datapoint from batch\n",
    "    x = np.random.randint(X_train[k].shape[0])\n",
    "\n",
    "    for i,frame in enumerate(X_train[k,x]):\n",
    "        axs[i].matshow(frame[0].cpu().detach().numpy())\n",
    "\n",
    "    axs[i+1].matshow(outputs[x][0].cpu().detach().numpy())\n",
    "    axs[i+2].matshow(outputs[x][1].cpu().detach().numpy())\n",
    "    axs[i+3].matshow(outputs[x][2].cpu().detach().numpy())\n",
    "\n",
    "    plt.show()\n",
    "\n",
    "print('Finished Training')"
   ],
   "outputs": [],
   "metadata": {}
  },
  {
   "cell_type": "code",
   "execution_count": null,
   "source": [
    "'''\n",
    "num_run = len(os.listdir(\"runs/\")) + 1\n",
    "now = datetime.now()\n",
    "foldername = \"train_{}_{}\".format(num_run, now.strftime(\"%d_%m_%Y_%H_%M_%S\"))\n",
    "os.mkdir(\"runs/\" + foldername)\n",
    "\n",
    "weights_path = \"runs/\" + foldername + \"/model.weights\"\n",
    "th.save(net.state_dict(), weights_path)\n",
    "'''"
   ],
   "outputs": [],
   "metadata": {
    "pycharm": {
     "name": "#%%\n",
     "is_executing": true
    }
   }
  },
  {
   "cell_type": "code",
   "execution_count": null,
   "source": [
    "mpl.rcParams['text.color'] = 'k'\n",
    "\n",
    "plt.title(\"loss\")\n",
    "plt.plot(range(len(losses)), losses)\n",
    "pass"
   ],
   "outputs": [],
   "metadata": {
    "pycharm": {
     "name": "#%%\n",
     "is_executing": true
    }
   }
  },
  {
   "cell_type": "code",
   "execution_count": null,
   "source": [
    "plt.title(\"relative error\")\n",
    "plt.plot(range(len(errors)), errors, label=\"train\")\n",
    "plt.plot(range(len(test_errors)), test_errors, label=\"test\")\n",
    "plt.legend()\n",
    "pass\n"
   ],
   "outputs": [],
   "metadata": {
    "pycharm": {
     "is_executing": true
    }
   }
  },
  {
   "cell_type": "code",
   "execution_count": null,
   "source": [
    "mpl.rcParams['text.color'] = 'w'\n",
    "prep = Preprocessing()"
   ],
   "outputs": [],
   "metadata": {
    "scrolled": true,
    "pycharm": {
     "is_executing": true
    }
   }
  },
  {
   "cell_type": "code",
   "execution_count": null,
   "source": [
    "j = np.random.randint(len(y_test))\n",
    "j = 3\n",
    "m = 2\n",
    "k = 4\n",
    "\n",
    "print(\"k = {}\".format(k))\n",
    "\n",
    "#k = 5\n",
    "input = th.unsqueeze(X_test[j, m], 0)\n",
    "outputs = net(input)\n",
    "\n",
    "#------------------------------\n",
    "num_predicted_frames = outputs[0, 0].shape[0] # per allineare frames passati e futuri\n",
    "fig, axs = plt.subplots(1, num_predicted_frames, figsize=(plotsize,plotsize))\n",
    "\n",
    "for ax in axs:\n",
    "    ax.set_yticklabels([])\n",
    "    ax.set_xticklabels([])\n",
    "\n",
    "for i,frame in enumerate(input[0,0,-num_predicted_frames:]):\n",
    "    frame = frame.cpu().detach().numpy()\n",
    "    axs[i].matshow(frame)\n",
    "    axs[i].set_title('t = {}'.format(i))\n",
    "\n",
    "print(\"======== Past frames ========\")\n",
    "plt.show()\n",
    "\n",
    "print(\"======== True Future vs Predicted frames ========\")\n",
    "\n",
    "#------------------------------\n",
    "fig, axs = plt.subplots(1, num_predicted_frames, figsize=(plotsize,plotsize))\n",
    "\n",
    "for ax in axs:\n",
    "    ax.set_yticklabels([])\n",
    "    ax.set_xticklabels([])\n",
    "\n",
    "for i,frame in enumerate(y_test[j,m,0]):\n",
    "    axs[i].matshow(frame.cpu().detach().numpy())\n",
    "    axs[i].set_title('t = {}'.format(i+num_predicted_frames))\n",
    "\n",
    "plt.show()\n",
    "#------------------------------\n",
    "fig, axs = plt.subplots(1, outputs[0,0].shape[0], figsize=(plotsize,plotsize))\n",
    "\n",
    "for ax in axs:\n",
    "    ax.set_yticklabels([])\n",
    "    ax.set_xticklabels([])\n",
    "\n",
    "for i,frame in enumerate(outputs[0,0]):\n",
    "    attention_mask = outputs[0,1,i].cpu().detach().numpy()\n",
    "    y_frame = frame.cpu().detach().numpy()\n",
    "    y_true = y_test[j,m,0,i].cpu().detach().numpy()\n",
    "\n",
    "    y_frame = np.dot(y_frame, attention_mask)\n",
    "    y_true = np.dot(y_true, attention_mask)\n",
    "\n",
    "    print(y_frame[:5,:5])\n",
    "    print(\"#-------------\")\n",
    "    print(y_true[:5,:5])\n",
    "    print(\"\\n\\n\")\n",
    "\n",
    "    ssim = prep.pytorch_ssim(y_true, y_frame).item()\n",
    "    axs[i].matshow(y_frame)\n",
    "    axs[i].set_title('ssim = {}'.format(ssim))\n",
    "\n",
    "plt.show()\n",
    "#------------------------------"
   ],
   "outputs": [],
   "metadata": {
    "pycharm": {
     "name": "#%%\n",
     "is_executing": true
    }
   }
  },
  {
   "cell_type": "code",
   "execution_count": null,
   "source": [
    "print(\"k = {}\".format(k))\n",
    "iterations = 4\n",
    "#k = 5\n",
    "\n",
    "input = th.unsqueeze(X_train[k,0], 0)\n",
    "outputs = net(input)\n",
    "\n",
    "#------------------------------\n",
    "print(\"======== Past frames ========\")\n",
    "num_predicted_frames = outputs[0,0].shape[0] # per allineare frames passati e futuri\n",
    "fig, axs = plt.subplots(1, num_predicted_frames, figsize=(plotsize,plotsize))\n",
    "\n",
    "for ax in axs:\n",
    "    ax.set_yticklabels([])\n",
    "    ax.set_xticklabels([])\n",
    "\n",
    "for i,frame in enumerate(input[0,0,-num_predicted_frames:]):\n",
    "    axs[i].matshow(frame.cpu().detach().numpy())\n",
    "    axs[i].set_title('t = {}'.format(i))\n",
    "\n",
    "plt.show()\n",
    "#------------------------------\n",
    "print(\"======== True vs Autoregressive Pred Frames  ========\")\n",
    "fig, axs = plt.subplots(1, num_predicted_frames, figsize=(plotsize,plotsize))\n",
    "\n",
    "true_means = []\n",
    "\n",
    "for ax in axs:\n",
    "    ax.set_yticklabels([])\n",
    "    ax.set_xticklabels([])\n",
    "\n",
    "for i,frame in enumerate(y_train[k,0,0]):\n",
    "    axs[i].matshow(frame.cpu().detach().numpy())\n",
    "    axs[i].set_title('t = {}'.format(i+num_predicted_frames))\n",
    "    true_means.append(frame.cpu().detach().numpy().mean())\n",
    "\n",
    "plt.show()\n",
    "#------------------------------\n",
    "\n",
    "#i = np.random.randint(len(X_test))\n",
    "input = th.unsqueeze(X_train[k][0], 0)\n",
    "\n",
    "fig, axs = plt.subplots(1, iterations, figsize=(plotsize,plotsize))\n",
    "\n",
    "for ax in axs:\n",
    "    ax.set_yticklabels([])\n",
    "    ax.set_xticklabels([])\n",
    "\n",
    "predicted_means = []\n",
    "for x in range(iterations):\n",
    "    # first predicted frame only\n",
    "    output = th.unsqueeze(net(input)[:,:,0,:,:],2)\n",
    "    # next frame = first predicted from output + btm map\n",
    "    next_frame = output.detach()\n",
    "    next_frame = th.cat((next_frame, th.unsqueeze(input[:,2:,0,:,:],2)), axis=1)\n",
    "    # added on top of (input sequence - first frame)\n",
    "    input = th.cat((next_frame, input[:,:,1:,:]), axis=2)\n",
    "\n",
    "    axs[x].matshow(output[0,0,0].cpu().detach().numpy())\n",
    "    axs[x].set_title('t = {}'.format(x+num_predicted_frames))\n",
    "    predicted_means.append(output[0,0,0].cpu().detach().numpy().mean())\n",
    "    #print(np.mean(output[0,0,0].cpu().detach().numpy()))\n",
    "\n",
    "plt.show()"
   ],
   "outputs": [],
   "metadata": {
    "pycharm": {
     "name": "#%% Auto regressive mode\n",
     "is_executing": true
    }
   }
  },
  {
   "cell_type": "code",
   "execution_count": null,
   "source": [
    "mpl.rcParams['text.color'] = 'b'\n",
    "\n",
    "plt.clf()\n",
    "plt.plot(range(len(true_means)), true_means,  \"-b\", label=\"True frames mean\")\n",
    "plt.plot(range(len(true_means)), true_means,  \"*\")\n",
    "\n",
    "plt.plot(range(len(predicted_means)), predicted_means,  \"-g\", label=\"Predicted frames mean\")\n",
    "plt.plot(range(len(predicted_means)), predicted_means,  \"*\")\n",
    "plt.grid()\n",
    "plt.legend()\n",
    "pass"
   ],
   "outputs": [],
   "metadata": {
    "pycharm": {
     "name": "#%%\n",
     "is_executing": true
    }
   }
  },
  {
   "cell_type": "code",
   "execution_count": null,
   "source": [
    "print(\"{:<20s}{:<20s}{:<20s}{:<20s}{:<20s}\".format(\"\", \"min\", \"max\", \"mean\", \"std\"))\n",
    "print(\"{:<20s}{:<20f}{:<20f}{:<20f}{:<20f}\".format(\"prediction\", th.min(outputs), th.max(outputs), th.mean(outputs), th.std(outputs)))\n",
    "print(\"{:<20s}{:<20f}{:<20f}{:<20f}{:<20f}\".format(\"true\", th.min(y_test[0]), th.max(y_test[0]), th.mean(y_test[0]), th.std(y_test[0])))"
   ],
   "outputs": [],
   "metadata": {
    "pycharm": {
     "name": "#%%\n",
     "is_executing": true
    }
   }
  },
  {
   "cell_type": "code",
   "execution_count": null,
   "source": [],
   "outputs": [],
   "metadata": {
    "pycharm": {
     "name": "#%%\n",
     "is_executing": true
    }
   }
  }
 ],
 "metadata": {
  "colab": {
   "name": "flax_mnist_full_example.ipynb",
   "provenance": []
  },
  "kernelspec": {
   "name": "pycharm-b3d8d961",
   "language": "python",
   "display_name": "PyCharm (Tesi Laurea)"
  },
  "language_info": {
   "codemirror_mode": {
    "name": "ipython",
    "version": 3
   },
   "file_extension": ".py",
   "mimetype": "text/x-python",
   "name": "python",
   "nbconvert_exporter": "python",
   "pygments_lexer": "ipython3",
   "version": "3.6.7"
  },
  "interpreter": {
   "hash": "e97ca70a60c44d04c5cd941e5875e1758a8ffad8753d39a47b72b0be14848870"
  }
 },
 "nbformat": 4,
 "nbformat_minor": 1
}