{
 "cells": [
  {
   "cell_type": "code",
   "execution_count": 1,
   "source": [
    "from utils import dataloader\n",
    "import numpy as np\n",
    "from sklearn.preprocessing import StandardScaler\n",
    "from sklearn.model_selection import train_test_split\n",
    "from importlib import reload  \n",
    "\n",
    "import matplotlib.pyplot as plt\n",
    "\n",
    "import numpy as np\n",
    "\n",
    "import torch as th\n",
    "import torch.nn as nn\n",
    "import os\n",
    "from datetime import datetime\n",
    "import matplotlib as mpl\n",
    "import torch.optim as optim\n",
    "import pytorch_ssim\n",
    "\n",
    "import torch.nn.functional as F\n",
    "import torchvision.models as models\n",
    "from torch.autograd import Variable\n",
    "import torchvision.transforms as transforms\n",
    "import matplotlib.patches as patches"
   ],
   "outputs": [
    {
     "output_type": "stream",
     "name": "stderr",
     "text": [
      "In /Users/diegocalanzone/anaconda3/envs/tfdeeplearning/lib/python3.6/site-packages/matplotlib/mpl-data/stylelib/_classic_test.mplstyle: \n",
      "The savefig.frameon rcparam was deprecated in Matplotlib 3.1 and will be removed in 3.3.\n",
      "In /Users/diegocalanzone/anaconda3/envs/tfdeeplearning/lib/python3.6/site-packages/matplotlib/mpl-data/stylelib/_classic_test.mplstyle: \n",
      "The verbose.level rcparam was deprecated in Matplotlib 3.1 and will be removed in 3.3.\n",
      "In /Users/diegocalanzone/anaconda3/envs/tfdeeplearning/lib/python3.6/site-packages/matplotlib/mpl-data/stylelib/_classic_test.mplstyle: \n",
      "The verbose.fileo rcparam was deprecated in Matplotlib 3.1 and will be removed in 3.3.\n"
     ]
    }
   ],
   "metadata": {}
  },
  {
   "cell_type": "code",
   "execution_count": 2,
   "source": [
    "dataloader = reload(dataloader)\n",
    "\n",
    "plotsize = 15\n",
    "img_size = 256\n",
    "\n",
    "partitions = dataloader.DataPartitions(\n",
    "    past_frames=4,\n",
    "    future_frames=1,\n",
    "    root=\"../datasets/arda/mini/\"\n",
    ")\n",
    "\n",
    "dataset = dataloader.DataGenerator(\n",
    "    root=\"../datasets/arda/mini/\",\n",
    "    dataset_partitions=partitions.get_partitions(),\n",
    "    past_frames=partitions.past_frames, \n",
    "    future_frames=partitions.future_frames,\n",
    "    input_dim=(partitions.past_frames, img_size, img_size, 4),\n",
    "    output_dim=(partitions.future_frames, img_size, img_size, 3),\n",
    "    batch_size=4,\n",
    "    buffer_size=1e3,\n",
    "    buffer_memory=100,\n",
    "    downsampling=False,\n",
    "    dynamicity = 0\n",
    ")"
   ],
   "outputs": [],
   "metadata": {
    "pycharm": {
     "name": "#%%\n"
    }
   }
  },
  {
   "cell_type": "code",
   "execution_count": 3,
   "source": [
    "'''\n",
    "X, Y, extra_batch = dataset.get_data()\n",
    "\n",
    "X[X > 10e5] = 0 \n",
    "Y[Y > 10e5] = 0\n",
    "\n",
    "fig, axs = plt.subplots(1, 4, figsize=(plotsize,plotsize))\n",
    "\n",
    "for ax in axs:\n",
    "    ax.set_yticklabels([])\n",
    "    ax.set_xticklabels([])\n",
    "\n",
    "# dep, vvx, vvy, btm\n",
    "\n",
    "axs[0].matshow(X[0,0,0,:,:,3])\n",
    "axs[0].set_title(\"BTM\")\n",
    "\n",
    "axs[1].matshow(X[0,0,0,:,:,0])\n",
    "axs[1].set_title(\"DEP\")\n",
    "\n",
    "axs[2].matshow(X[0,0,0,:,:,1])\n",
    "axs[2].set_title(\"VVX\")\n",
    "\n",
    "axs[3].matshow(X[0,0,0,:,:,2])\n",
    "axs[3].set_title(\"VVY\")\n",
    "\n",
    "def unison_shuffled_copies(a, b):\n",
    "    assert len(a) == len(b)\n",
    "    p = np.random.permutation(len(a))\n",
    "    return a[p], b[p]\n",
    "\n",
    "X, Y = unison_shuffled_copies(X, Y)\n",
    "\n",
    "X_train, X_test, y_train, y_test = train_test_split(X, Y, test_size=0.2, random_state=42)\n",
    "'''"
   ],
   "outputs": [
    {
     "output_type": "execute_result",
     "data": {
      "text/plain": [
       "'\\nX, Y, extra_batch = dataset.get_data()\\n\\nX[X > 10e5] = 0 \\nY[Y > 10e5] = 0\\n\\nfig, axs = plt.subplots(1, 4, figsize=(plotsize,plotsize))\\n\\nfor ax in axs:\\n    ax.set_yticklabels([])\\n    ax.set_xticklabels([])\\n\\n# dep, vvx, vvy, btm\\n\\naxs[0].matshow(X[0,0,0,:,:,3])\\naxs[0].set_title(\"BTM\")\\n\\naxs[1].matshow(X[0,0,0,:,:,0])\\naxs[1].set_title(\"DEP\")\\n\\naxs[2].matshow(X[0,0,0,:,:,1])\\naxs[2].set_title(\"VVX\")\\n\\naxs[3].matshow(X[0,0,0,:,:,2])\\naxs[3].set_title(\"VVY\")\\n'"
      ]
     },
     "metadata": {},
     "execution_count": 3
    }
   ],
   "metadata": {}
  },
  {
   "cell_type": "markdown",
   "source": [
    "### Model"
   ],
   "metadata": {}
  },
  {
   "cell_type": "code",
   "execution_count": 4,
   "source": [
    "import torch.nn.functional as F\n",
    "from functools import partial"
   ],
   "outputs": [],
   "metadata": {
    "id": "U8pHltaOy2CK"
   }
  },
  {
   "cell_type": "code",
   "execution_count": 5,
   "source": [
    "def xavier_weights(m):\n",
    "    if isinstance(m, nn.Conv3d) or isinstance(m, nn.ConvTranspose3d):\n",
    "        th.nn.init.xavier_uniform(m.weight.data)\n",
    "\n",
    "def sqrt_weights(m):\n",
    "    # https://stackoverflow.com/questions/49433936/how-to-initialize-weights-in-pytorch\n",
    "    if isinstance(m, nn.Conv3d) or isinstance(m, nn.ConvTranspose3d):\n",
    "        n = m.in_features\n",
    "        y = 1.0/np.sqrt(n)\n",
    "        m.weight.data.uniform_(-y, y)\n",
    "        m.bias.data.fill_(0)"
   ],
   "outputs": [],
   "metadata": {}
  },
  {
   "cell_type": "code",
   "execution_count": 6,
   "source": [
    "if th.cuda.is_available():\n",
    "    dev = \"cuda:0\"\n",
    "else:\n",
    "    dev = \"cpu\"\n",
    "device = th.device(dev)\n",
    "print(device)"
   ],
   "outputs": [
    {
     "output_type": "stream",
     "name": "stdout",
     "text": [
      "cpu\n"
     ]
    }
   ],
   "metadata": {}
  },
  {
   "cell_type": "code",
   "execution_count": 8,
   "source": [
    "from models.ae import ConvLSTMCell\n",
    "\n",
    "from models.ae import seq2seq_ConvLSTM\n",
    "seq2seq_ConvLSTM = reload(seq2seq_ConvLSTM)\n",
    "\n",
    "net = seq2seq_ConvLSTM.EncoderDecoderConvLSTM(nf=4, in_chan=4, out_chan=3).to(device) # False: many to one"
   ],
   "outputs": [],
   "metadata": {}
  },
  {
   "cell_type": "code",
   "execution_count": 9,
   "source": [
    "ssim = pytorch_ssim.SSIM()\n",
    "criterion = nn.MSELoss(reduction='sum')\n",
    "optimizer = optim.Adam(net.parameters(), lr=1e-4)"
   ],
   "outputs": [],
   "metadata": {
    "collapsed": false,
    "pycharm": {
     "name": "#%%\n"
    }
   }
  },
  {
   "cell_type": "code",
   "execution_count": 10,
   "source": [
    "losses = []\n",
    "errors = []\n",
    "test_errors = []\n",
    "\n",
    "def mass_conservation_loss(output, target):\n",
    "\n",
    "    # output: b, h, w\n",
    "    diff = 0\n",
    "    for i,datapoint in enumerate(output):\n",
    "        target_sum = th.sum(\n",
    "                th.abs(target[i])\n",
    "            )\n",
    "        pred_sum = th.sum(\n",
    "                th.abs(output[i])\n",
    "            )\n",
    "\n",
    "        diff += th.abs(target_sum - pred_sum)/target_sum\n",
    "\n",
    "    return diff"
   ],
   "outputs": [],
   "metadata": {}
  },
  {
   "cell_type": "code",
   "execution_count": 17,
   "source": [
    "epochs = 200\n",
    "\n",
    "parts = partitions.get_partitions()\n",
    "\n",
    "for epoch in range(epochs):  # loop over the dataset multiple times\n",
    "\n",
    "    for i, area in enumerate(parts):\n",
    "        \n",
    "        # If it's valid marked\n",
    "        if area[2] != None:\n",
    "            for j, sequence in enumerate(area[1]):\n",
    "\n",
    "                X, Y = dataset.get_datapoint(i, j)\n",
    "\n",
    "                # b, s, t, h, w, c -> b, s, t, c, h, w\n",
    "                X = th.Tensor(X).to(device)\n",
    "                Y = th.Tensor(Y).to(device)\n",
    "                X = X.permute(0, 1, 4, 2, 3)\n",
    "                Y = Y.permute(0, 1, 4, 2, 3)\n",
    "\n",
    "                optimizer.zero_grad()\n",
    "\n",
    "                # ---- Predicting\n",
    "\n",
    "                outputs = net(X, 1) # 0 for layer index, 0 for h index\n",
    "\n",
    "                # ---- Batch Loss\n",
    "\n",
    "                xstart=85\n",
    "                xend=170\n",
    "                ystart=85\n",
    "                yend=170\n",
    "                \n",
    "                loss = criterion(outputs[:,:,0,ystart:yend,xstart:xend], Y[:,0,:,ystart:yend,xstart:xend])\n",
    "\n",
    "                loss.backward()\n",
    "                optimizer.step()\n",
    "\n",
    "                # print statistics\n",
    "                losses.append(loss.item())\n",
    "\n",
    "        print('Finished Training')"
   ],
   "outputs": [
    {
     "output_type": "stream",
     "name": "stdout",
     "text": [
      "(1, 4, 256, 256, 4)\n",
      "torch.Size([1, 4, 4, 256, 256])\n",
      "(1, 4, 256, 256, 4)\n",
      "torch.Size([1, 4, 4, 256, 256])\n",
      "(1, 4, 256, 256, 4)\n",
      "torch.Size([1, 4, 4, 256, 256])\n",
      "(1, 4, 256, 256, 4)\n",
      "torch.Size([1, 4, 4, 256, 256])\n",
      "(1, 4, 256, 256, 4)\n",
      "torch.Size([1, 4, 4, 256, 256])\n",
      "(1, 4, 256, 256, 4)\n",
      "torch.Size([1, 4, 4, 256, 256])\n",
      "(1, 4, 256, 256, 4)\n",
      "torch.Size([1, 4, 4, 256, 256])\n",
      "(1, 4, 256, 256, 4)\n",
      "torch.Size([1, 4, 4, 256, 256])\n",
      "(1, 4, 256, 256, 4)\n",
      "torch.Size([1, 4, 4, 256, 256])\n",
      "(1, 4, 256, 256, 4)\n",
      "torch.Size([1, 4, 4, 256, 256])\n",
      "(1, 4, 256, 256, 4)\n",
      "torch.Size([1, 4, 4, 256, 256])\n",
      "(1, 4, 256, 256, 4)\n",
      "torch.Size([1, 4, 4, 256, 256])\n",
      "(1, 4, 256, 256, 4)\n",
      "torch.Size([1, 4, 4, 256, 256])\n",
      "(1, 4, 256, 256, 4)\n",
      "torch.Size([1, 4, 4, 256, 256])\n",
      "(1, 4, 256, 256, 4)\n",
      "torch.Size([1, 4, 4, 256, 256])\n",
      "(1, 4, 256, 256, 4)\n",
      "torch.Size([1, 4, 4, 256, 256])\n",
      "(1, 4, 256, 256, 4)\n",
      "torch.Size([1, 4, 4, 256, 256])\n",
      "(1, 4, 256, 256, 4)\n",
      "torch.Size([1, 4, 4, 256, 256])\n",
      "(1, 4, 256, 256, 4)\n",
      "torch.Size([1, 4, 4, 256, 256])\n",
      "(1, 4, 256, 256, 4)\n",
      "torch.Size([1, 4, 4, 256, 256])\n",
      "(1, 4, 256, 256, 4)\n",
      "torch.Size([1, 4, 4, 256, 256])\n",
      "(1, 4, 256, 256, 4)\n",
      "torch.Size([1, 4, 4, 256, 256])\n",
      "(1, 4, 256, 256, 4)\n",
      "torch.Size([1, 4, 4, 256, 256])\n",
      "(1, 4, 256, 256, 4)\n",
      "torch.Size([1, 4, 4, 256, 256])\n",
      "(1, 4, 256, 256, 4)\n",
      "torch.Size([1, 4, 4, 256, 256])\n",
      "(1, 4, 256, 256, 4)\n",
      "torch.Size([1, 4, 4, 256, 256])\n",
      "(1, 4, 256, 256, 4)\n",
      "torch.Size([1, 4, 4, 256, 256])\n",
      "(1, 4, 256, 256, 4)\n",
      "torch.Size([1, 4, 4, 256, 256])\n",
      "(1, 4, 256, 256, 4)\n",
      "torch.Size([1, 4, 4, 256, 256])\n",
      "(1, 4, 256, 256, 4)\n",
      "torch.Size([1, 4, 4, 256, 256])\n",
      "(1, 4, 256, 256, 4)\n",
      "torch.Size([1, 4, 4, 256, 256])\n",
      "(1, 4, 256, 256, 4)\n",
      "torch.Size([1, 4, 4, 256, 256])\n",
      "(1, 4, 256, 256, 4)\n",
      "torch.Size([1, 4, 4, 256, 256])\n",
      "(1, 4, 256, 256, 4)\n",
      "torch.Size([1, 4, 4, 256, 256])\n",
      "(1, 4, 256, 256, 4)\n",
      "torch.Size([1, 4, 4, 256, 256])\n",
      "epoch 0 -- avg loss: 13112.007139463682\n"
     ]
    },
    {
     "output_type": "error",
     "ename": "NameError",
     "evalue": "name 'x' is not defined",
     "traceback": [
      "\u001b[0;31m---------------------------------------------------------------------------\u001b[0m",
      "\u001b[0;31mNameError\u001b[0m                                 Traceback (most recent call last)",
      "\u001b[0;32m<ipython-input-17-051b0fb9a848>\u001b[0m in \u001b[0;36m<module>\u001b[0;34m\u001b[0m\n\u001b[1;32m     66\u001b[0m \u001b[0;34m\u001b[0m\u001b[0m\n\u001b[1;32m     67\u001b[0m                 \u001b[0;31m#predicted = th.mm(outputs[x][0], X_train[k,x,-1,1])\u001b[0m\u001b[0;34m\u001b[0m\u001b[0;34m\u001b[0m\u001b[0;34m\u001b[0m\u001b[0m\n\u001b[0;32m---> 68\u001b[0;31m                 \u001b[0maxs\u001b[0m\u001b[0;34m[\u001b[0m\u001b[0mi\u001b[0m\u001b[0;34m+\u001b[0m\u001b[0;36m1\u001b[0m\u001b[0;34m]\u001b[0m\u001b[0;34m.\u001b[0m\u001b[0mmatshow\u001b[0m\u001b[0;34m(\u001b[0m\u001b[0moutputs\u001b[0m\u001b[0;34m[\u001b[0m\u001b[0mx\u001b[0m\u001b[0;34m]\u001b[0m\u001b[0;34m[\u001b[0m\u001b[0;36m0\u001b[0m\u001b[0;34m]\u001b[0m\u001b[0;34m[\u001b[0m\u001b[0;36m0\u001b[0m\u001b[0;34m]\u001b[0m\u001b[0;34m.\u001b[0m\u001b[0mcpu\u001b[0m\u001b[0;34m(\u001b[0m\u001b[0;34m)\u001b[0m\u001b[0;34m.\u001b[0m\u001b[0mdetach\u001b[0m\u001b[0;34m(\u001b[0m\u001b[0;34m)\u001b[0m\u001b[0;34m.\u001b[0m\u001b[0mnumpy\u001b[0m\u001b[0;34m(\u001b[0m\u001b[0;34m)\u001b[0m\u001b[0;34m)\u001b[0m\u001b[0;34m\u001b[0m\u001b[0;34m\u001b[0m\u001b[0m\n\u001b[0m\u001b[1;32m     69\u001b[0m \u001b[0;34m\u001b[0m\u001b[0m\n\u001b[1;32m     70\u001b[0m                 \u001b[0mrect\u001b[0m \u001b[0;34m=\u001b[0m \u001b[0mpatches\u001b[0m\u001b[0;34m.\u001b[0m\u001b[0mRectangle\u001b[0m\u001b[0;34m(\u001b[0m\u001b[0;34m(\u001b[0m\u001b[0;36m85\u001b[0m\u001b[0;34m,\u001b[0m \u001b[0;36m85\u001b[0m\u001b[0;34m)\u001b[0m\u001b[0;34m,\u001b[0m \u001b[0;36m85\u001b[0m\u001b[0;34m,\u001b[0m \u001b[0;36m85\u001b[0m\u001b[0;34m,\u001b[0m \u001b[0mlinewidth\u001b[0m\u001b[0;34m=\u001b[0m\u001b[0;36m1\u001b[0m\u001b[0;34m,\u001b[0m \u001b[0medgecolor\u001b[0m\u001b[0;34m=\u001b[0m\u001b[0;34m'r'\u001b[0m\u001b[0;34m,\u001b[0m \u001b[0mfacecolor\u001b[0m\u001b[0;34m=\u001b[0m\u001b[0;34m'none'\u001b[0m\u001b[0;34m)\u001b[0m\u001b[0;34m\u001b[0m\u001b[0;34m\u001b[0m\u001b[0m\n",
      "\u001b[0;31mNameError\u001b[0m: name 'x' is not defined"
     ]
    },
    {
     "output_type": "display_data",
     "data": {
      "text/plain": [
       "<Figure size 1080x1080 with 3 Axes>"
      ],
      "image/svg+xml": "<?xml version=\"1.0\" encoding=\"utf-8\" standalone=\"no\"?>\n<!DOCTYPE svg PUBLIC \"-//W3C//DTD SVG 1.1//EN\"\n  \"http://www.w3.org/Graphics/SVG/1.1/DTD/svg11.dtd\">\n<!-- Created with matplotlib (https://matplotlib.org/) -->\n<svg height=\"833.3pt\" version=\"1.1\" viewBox=\"0 0 854.9 833.3\" width=\"854.9pt\" xmlns=\"http://www.w3.org/2000/svg\" xmlns:xlink=\"http://www.w3.org/1999/xlink\">\n <defs>\n  <style type=\"text/css\">\n*{stroke-linecap:butt;stroke-linejoin:round;}\n  </style>\n </defs>\n <g id=\"figure_1\">\n  <g id=\"patch_1\">\n   <path d=\"M 0 833.3 \nL 854.9 833.3 \nL 854.9 0 \nL 0 0 \nz\n\" style=\"fill:none;\"/>\n  </g>\n  <g id=\"axes_1\">\n   <g id=\"patch_2\">\n    <path d=\"M 10.7 537.988235 \nL 256.876471 537.988235 \nL 256.876471 291.811765 \nL 10.7 291.811765 \nz\n\" style=\"fill:#ffffff;\"/>\n   </g>\n   <g clip-path=\"url(#p5e033ba8fd)\">\n    <image height=\"247\" id=\"image3683faa23f\" transform=\"scale(1 -1)translate(0 -247)\" width=\"247\" x=\"10.7\" xlink:href=\"data:image/png;base64,\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\" y=\"-290.988235\"/>\n   </g>\n   <g id=\"patch_3\">\n    <path clip-path=\"url(#p5e033ba8fd)\" d=\"M 92.919095 374.030859 \nL 174.657376 374.030859 \nL 174.657376 455.769141 \nL 92.919095 455.769141 \nz\n\" style=\"fill:none;stroke:#ff0000;stroke-linejoin:miter;\"/>\n   </g>\n   <g id=\"matplotlib.axis_1\">\n    <g id=\"xtick_1\">\n     <g id=\"line2d_1\">\n      <defs>\n       <path d=\"M 0 0 \nL 0 3.5 \n\" id=\"m712babaac3\" style=\"stroke:#000000;stroke-width:0.8;\"/>\n      </defs>\n      <g>\n       <use style=\"stroke:#000000;stroke-width:0.8;\" x=\"11.180813\" xlink:href=\"#m712babaac3\" y=\"537.988235\"/>\n      </g>\n     </g>\n     <g id=\"line2d_2\">\n      <defs>\n       <path d=\"M 0 0 \nL 0 -3.5 \n\" id=\"m1661658964\" style=\"stroke:#000000;stroke-width:0.8;\"/>\n      </defs>\n      <g>\n       <use style=\"stroke:#000000;stroke-width:0.8;\" x=\"11.180813\" xlink:href=\"#m1661658964\" y=\"291.811765\"/>\n      </g>\n     </g>\n    </g>\n    <g id=\"xtick_2\">\n     <g id=\"line2d_3\">\n      <g>\n       <use style=\"stroke:#000000;stroke-width:0.8;\" x=\"59.262155\" xlink:href=\"#m712babaac3\" y=\"537.988235\"/>\n      </g>\n     </g>\n     <g id=\"line2d_4\">\n      <g>\n       <use style=\"stroke:#000000;stroke-width:0.8;\" x=\"59.262155\" xlink:href=\"#m1661658964\" y=\"291.811765\"/>\n      </g>\n     </g>\n    </g>\n    <g id=\"xtick_3\">\n     <g id=\"line2d_5\">\n      <g>\n       <use style=\"stroke:#000000;stroke-width:0.8;\" x=\"107.343497\" xlink:href=\"#m712babaac3\" y=\"537.988235\"/>\n      </g>\n     </g>\n     <g id=\"line2d_6\">\n      <g>\n       <use style=\"stroke:#000000;stroke-width:0.8;\" x=\"107.343497\" xlink:href=\"#m1661658964\" y=\"291.811765\"/>\n      </g>\n     </g>\n    </g>\n    <g id=\"xtick_4\">\n     <g id=\"line2d_7\">\n      <g>\n       <use style=\"stroke:#000000;stroke-width:0.8;\" x=\"155.424839\" xlink:href=\"#m712babaac3\" y=\"537.988235\"/>\n      </g>\n     </g>\n     <g id=\"line2d_8\">\n      <g>\n       <use style=\"stroke:#000000;stroke-width:0.8;\" x=\"155.424839\" xlink:href=\"#m1661658964\" y=\"291.811765\"/>\n      </g>\n     </g>\n    </g>\n    <g id=\"xtick_5\">\n     <g id=\"line2d_9\">\n      <g>\n       <use style=\"stroke:#000000;stroke-width:0.8;\" x=\"203.506181\" xlink:href=\"#m712babaac3\" y=\"537.988235\"/>\n      </g>\n     </g>\n     <g id=\"line2d_10\">\n      <g>\n       <use style=\"stroke:#000000;stroke-width:0.8;\" x=\"203.506181\" xlink:href=\"#m1661658964\" y=\"291.811765\"/>\n      </g>\n     </g>\n    </g>\n    <g id=\"xtick_6\">\n     <g id=\"line2d_11\">\n      <g>\n       <use style=\"stroke:#000000;stroke-width:0.8;\" x=\"251.587523\" xlink:href=\"#m712babaac3\" y=\"537.988235\"/>\n      </g>\n     </g>\n     <g id=\"line2d_12\">\n      <g>\n       <use style=\"stroke:#000000;stroke-width:0.8;\" x=\"251.587523\" xlink:href=\"#m1661658964\" y=\"291.811765\"/>\n      </g>\n     </g>\n    </g>\n   </g>\n   <g id=\"matplotlib.axis_2\">\n    <g id=\"ytick_1\">\n     <g id=\"line2d_13\">\n      <defs>\n       <path d=\"M 0 0 \nL -3.5 0 \n\" id=\"mcafff18d75\" style=\"stroke:#000000;stroke-width:0.8;\"/>\n      </defs>\n      <g>\n       <use style=\"stroke:#000000;stroke-width:0.8;\" x=\"10.7\" xlink:href=\"#mcafff18d75\" y=\"292.292578\"/>\n      </g>\n     </g>\n    </g>\n    <g id=\"ytick_2\">\n     <g id=\"line2d_14\">\n      <g>\n       <use style=\"stroke:#000000;stroke-width:0.8;\" x=\"10.7\" xlink:href=\"#mcafff18d75\" y=\"340.37392\"/>\n      </g>\n     </g>\n    </g>\n    <g id=\"ytick_3\">\n     <g id=\"line2d_15\">\n      <g>\n       <use style=\"stroke:#000000;stroke-width:0.8;\" x=\"10.7\" xlink:href=\"#mcafff18d75\" y=\"388.455262\"/>\n      </g>\n     </g>\n    </g>\n    <g id=\"ytick_4\">\n     <g id=\"line2d_16\">\n      <g>\n       <use style=\"stroke:#000000;stroke-width:0.8;\" x=\"10.7\" xlink:href=\"#mcafff18d75\" y=\"436.536604\"/>\n      </g>\n     </g>\n    </g>\n    <g id=\"ytick_5\">\n     <g id=\"line2d_17\">\n      <g>\n       <use style=\"stroke:#000000;stroke-width:0.8;\" x=\"10.7\" xlink:href=\"#mcafff18d75\" y=\"484.617946\"/>\n      </g>\n     </g>\n    </g>\n    <g id=\"ytick_6\">\n     <g id=\"line2d_18\">\n      <g>\n       <use style=\"stroke:#000000;stroke-width:0.8;\" x=\"10.7\" xlink:href=\"#mcafff18d75\" y=\"532.699288\"/>\n      </g>\n     </g>\n    </g>\n   </g>\n   <g id=\"patch_4\">\n    <path d=\"M 10.7 537.988235 \nL 10.7 291.811765 \n\" style=\"fill:none;stroke:#000000;stroke-linecap:square;stroke-linejoin:miter;stroke-width:0.8;\"/>\n   </g>\n   <g id=\"patch_5\">\n    <path d=\"M 256.876471 537.988235 \nL 256.876471 291.811765 \n\" style=\"fill:none;stroke:#000000;stroke-linecap:square;stroke-linejoin:miter;stroke-width:0.8;\"/>\n   </g>\n   <g id=\"patch_6\">\n    <path d=\"M 10.7 537.988235 \nL 256.876471 537.988235 \n\" style=\"fill:none;stroke:#000000;stroke-linecap:square;stroke-linejoin:miter;stroke-width:0.8;\"/>\n   </g>\n   <g id=\"patch_7\">\n    <path d=\"M 10.7 291.811765 \nL 256.876471 291.811765 \n\" style=\"fill:none;stroke:#000000;stroke-linecap:square;stroke-linejoin:miter;stroke-width:0.8;\"/>\n   </g>\n  </g>\n  <g id=\"axes_2\">\n   <g id=\"patch_8\">\n    <path d=\"M 306.111765 822.6 \nL 552.288235 822.6 \nL 552.288235 7.2 \nL 306.111765 7.2 \nz\n\" style=\"fill:#ffffff;\"/>\n   </g>\n   <g id=\"matplotlib.axis_3\">\n    <g id=\"xtick_7\">\n     <g id=\"line2d_19\">\n      <g>\n       <use style=\"stroke:#000000;stroke-width:0.8;\" x=\"306.111765\" xlink:href=\"#m712babaac3\" y=\"822.6\"/>\n      </g>\n     </g>\n    </g>\n    <g id=\"xtick_8\">\n     <g id=\"line2d_20\">\n      <g>\n       <use style=\"stroke:#000000;stroke-width:0.8;\" x=\"355.347059\" xlink:href=\"#m712babaac3\" y=\"822.6\"/>\n      </g>\n     </g>\n    </g>\n    <g id=\"xtick_9\">\n     <g id=\"line2d_21\">\n      <g>\n       <use style=\"stroke:#000000;stroke-width:0.8;\" x=\"404.582353\" xlink:href=\"#m712babaac3\" y=\"822.6\"/>\n      </g>\n     </g>\n    </g>\n    <g id=\"xtick_10\">\n     <g id=\"line2d_22\">\n      <g>\n       <use style=\"stroke:#000000;stroke-width:0.8;\" x=\"453.817647\" xlink:href=\"#m712babaac3\" y=\"822.6\"/>\n      </g>\n     </g>\n    </g>\n    <g id=\"xtick_11\">\n     <g id=\"line2d_23\">\n      <g>\n       <use style=\"stroke:#000000;stroke-width:0.8;\" x=\"503.052941\" xlink:href=\"#m712babaac3\" y=\"822.6\"/>\n      </g>\n     </g>\n    </g>\n    <g id=\"xtick_12\">\n     <g id=\"line2d_24\">\n      <g>\n       <use style=\"stroke:#000000;stroke-width:0.8;\" x=\"552.288235\" xlink:href=\"#m712babaac3\" y=\"822.6\"/>\n      </g>\n     </g>\n    </g>\n   </g>\n   <g id=\"matplotlib.axis_4\">\n    <g id=\"ytick_7\">\n     <g id=\"line2d_25\">\n      <g>\n       <use style=\"stroke:#000000;stroke-width:0.8;\" x=\"306.111765\" xlink:href=\"#mcafff18d75\" y=\"822.6\"/>\n      </g>\n     </g>\n    </g>\n    <g id=\"ytick_8\">\n     <g id=\"line2d_26\">\n      <g>\n       <use style=\"stroke:#000000;stroke-width:0.8;\" x=\"306.111765\" xlink:href=\"#mcafff18d75\" y=\"659.52\"/>\n      </g>\n     </g>\n    </g>\n    <g id=\"ytick_9\">\n     <g id=\"line2d_27\">\n      <g>\n       <use style=\"stroke:#000000;stroke-width:0.8;\" x=\"306.111765\" xlink:href=\"#mcafff18d75\" y=\"496.44\"/>\n      </g>\n     </g>\n    </g>\n    <g id=\"ytick_10\">\n     <g id=\"line2d_28\">\n      <g>\n       <use style=\"stroke:#000000;stroke-width:0.8;\" x=\"306.111765\" xlink:href=\"#mcafff18d75\" y=\"333.36\"/>\n      </g>\n     </g>\n    </g>\n    <g id=\"ytick_11\">\n     <g id=\"line2d_29\">\n      <g>\n       <use style=\"stroke:#000000;stroke-width:0.8;\" x=\"306.111765\" xlink:href=\"#mcafff18d75\" y=\"170.28\"/>\n      </g>\n     </g>\n    </g>\n    <g id=\"ytick_12\">\n     <g id=\"line2d_30\">\n      <g>\n       <use style=\"stroke:#000000;stroke-width:0.8;\" x=\"306.111765\" xlink:href=\"#mcafff18d75\" y=\"7.2\"/>\n      </g>\n     </g>\n    </g>\n   </g>\n   <g id=\"patch_9\">\n    <path d=\"M 306.111765 822.6 \nL 306.111765 7.2 \n\" style=\"fill:none;stroke:#000000;stroke-linecap:square;stroke-linejoin:miter;stroke-width:0.8;\"/>\n   </g>\n   <g id=\"patch_10\">\n    <path d=\"M 552.288235 822.6 \nL 552.288235 7.2 \n\" style=\"fill:none;stroke:#000000;stroke-linecap:square;stroke-linejoin:miter;stroke-width:0.8;\"/>\n   </g>\n   <g id=\"patch_11\">\n    <path d=\"M 306.111765 822.6 \nL 552.288235 822.6 \n\" style=\"fill:none;stroke:#000000;stroke-linecap:square;stroke-linejoin:miter;stroke-width:0.8;\"/>\n   </g>\n   <g id=\"patch_12\">\n    <path d=\"M 306.111765 7.2 \nL 552.288235 7.2 \n\" style=\"fill:none;stroke:#000000;stroke-linecap:square;stroke-linejoin:miter;stroke-width:0.8;\"/>\n   </g>\n  </g>\n  <g id=\"axes_3\">\n   <g id=\"patch_13\">\n    <path d=\"M 601.523529 822.6 \nL 847.7 822.6 \nL 847.7 7.2 \nL 601.523529 7.2 \nz\n\" style=\"fill:#ffffff;\"/>\n   </g>\n   <g id=\"matplotlib.axis_5\">\n    <g id=\"xtick_13\">\n     <g id=\"line2d_31\">\n      <g>\n       <use style=\"stroke:#000000;stroke-width:0.8;\" x=\"601.523529\" xlink:href=\"#m712babaac3\" y=\"822.6\"/>\n      </g>\n     </g>\n    </g>\n    <g id=\"xtick_14\">\n     <g id=\"line2d_32\">\n      <g>\n       <use style=\"stroke:#000000;stroke-width:0.8;\" x=\"650.758824\" xlink:href=\"#m712babaac3\" y=\"822.6\"/>\n      </g>\n     </g>\n    </g>\n    <g id=\"xtick_15\">\n     <g id=\"line2d_33\">\n      <g>\n       <use style=\"stroke:#000000;stroke-width:0.8;\" x=\"699.994118\" xlink:href=\"#m712babaac3\" y=\"822.6\"/>\n      </g>\n     </g>\n    </g>\n    <g id=\"xtick_16\">\n     <g id=\"line2d_34\">\n      <g>\n       <use style=\"stroke:#000000;stroke-width:0.8;\" x=\"749.229412\" xlink:href=\"#m712babaac3\" y=\"822.6\"/>\n      </g>\n     </g>\n    </g>\n    <g id=\"xtick_17\">\n     <g id=\"line2d_35\">\n      <g>\n       <use style=\"stroke:#000000;stroke-width:0.8;\" x=\"798.464706\" xlink:href=\"#m712babaac3\" y=\"822.6\"/>\n      </g>\n     </g>\n    </g>\n    <g id=\"xtick_18\">\n     <g id=\"line2d_36\">\n      <g>\n       <use style=\"stroke:#000000;stroke-width:0.8;\" x=\"847.7\" xlink:href=\"#m712babaac3\" y=\"822.6\"/>\n      </g>\n     </g>\n    </g>\n   </g>\n   <g id=\"matplotlib.axis_6\">\n    <g id=\"ytick_13\">\n     <g id=\"line2d_37\">\n      <g>\n       <use style=\"stroke:#000000;stroke-width:0.8;\" x=\"601.523529\" xlink:href=\"#mcafff18d75\" y=\"822.6\"/>\n      </g>\n     </g>\n    </g>\n    <g id=\"ytick_14\">\n     <g id=\"line2d_38\">\n      <g>\n       <use style=\"stroke:#000000;stroke-width:0.8;\" x=\"601.523529\" xlink:href=\"#mcafff18d75\" y=\"659.52\"/>\n      </g>\n     </g>\n    </g>\n    <g id=\"ytick_15\">\n     <g id=\"line2d_39\">\n      <g>\n       <use style=\"stroke:#000000;stroke-width:0.8;\" x=\"601.523529\" xlink:href=\"#mcafff18d75\" y=\"496.44\"/>\n      </g>\n     </g>\n    </g>\n    <g id=\"ytick_16\">\n     <g id=\"line2d_40\">\n      <g>\n       <use style=\"stroke:#000000;stroke-width:0.8;\" x=\"601.523529\" xlink:href=\"#mcafff18d75\" y=\"333.36\"/>\n      </g>\n     </g>\n    </g>\n    <g id=\"ytick_17\">\n     <g id=\"line2d_41\">\n      <g>\n       <use style=\"stroke:#000000;stroke-width:0.8;\" x=\"601.523529\" xlink:href=\"#mcafff18d75\" y=\"170.28\"/>\n      </g>\n     </g>\n    </g>\n    <g id=\"ytick_18\">\n     <g id=\"line2d_42\">\n      <g>\n       <use style=\"stroke:#000000;stroke-width:0.8;\" x=\"601.523529\" xlink:href=\"#mcafff18d75\" y=\"7.2\"/>\n      </g>\n     </g>\n    </g>\n   </g>\n   <g id=\"patch_14\">\n    <path d=\"M 601.523529 822.6 \nL 601.523529 7.2 \n\" style=\"fill:none;stroke:#000000;stroke-linecap:square;stroke-linejoin:miter;stroke-width:0.8;\"/>\n   </g>\n   <g id=\"patch_15\">\n    <path d=\"M 847.7 822.6 \nL 847.7 7.2 \n\" style=\"fill:none;stroke:#000000;stroke-linecap:square;stroke-linejoin:miter;stroke-width:0.8;\"/>\n   </g>\n   <g id=\"patch_16\">\n    <path d=\"M 601.523529 822.6 \nL 847.7 822.6 \n\" style=\"fill:none;stroke:#000000;stroke-linecap:square;stroke-linejoin:miter;stroke-width:0.8;\"/>\n   </g>\n   <g id=\"patch_17\">\n    <path d=\"M 601.523529 7.2 \nL 847.7 7.2 \n\" style=\"fill:none;stroke:#000000;stroke-linecap:square;stroke-linejoin:miter;stroke-width:0.8;\"/>\n   </g>\n  </g>\n </g>\n <defs>\n  <clipPath id=\"p5e033ba8fd\">\n   <rect height=\"246.176471\" width=\"246.176471\" x=\"10.7\" y=\"291.811765\"/>\n  </clipPath>\n </defs>\n</svg>\n",
      "image/png": "[encoded data removed]"
     },
     "metadata": {
      "needs_background": "light"
     }
    }
   ],
   "metadata": {}
  },
  {
   "cell_type": "code",
   "execution_count": 1,
   "source": [
    "th.save(net.state_dict(), \"15_8_21.weights\")\n",
    "'''\n",
    "num_run = len(os.listdir(\"runs/\")) + 1\n",
    "now = datetime.now()\n",
    "foldername = \"train_{}_{}\".format(num_run, now.strftime(\"%d_%m_%Y_%H_%M_%S\"))\n",
    "os.mkdir(\"runs/\" + foldername)\n",
    "\n",
    "weights_path = \"runs/\" + foldername + \"/model.weights\"\n",
    "th.save(net.state_dict(), weights_path)\n",
    "'''"
   ],
   "outputs": [
    {
     "output_type": "error",
     "ename": "NameError",
     "evalue": "name 'th' is not defined",
     "traceback": [
      "\u001b[0;31m---------------------------------------------------------------------------\u001b[0m",
      "\u001b[0;31mNameError\u001b[0m                                 Traceback (most recent call last)",
      "\u001b[0;32m<ipython-input-1-c440bde59e28>\u001b[0m in \u001b[0;36m<module>\u001b[0;34m\u001b[0m\n\u001b[0;32m----> 1\u001b[0;31m \u001b[0mth\u001b[0m\u001b[0;34m.\u001b[0m\u001b[0msave\u001b[0m\u001b[0;34m(\u001b[0m\u001b[0mnet\u001b[0m\u001b[0;34m.\u001b[0m\u001b[0mstate_dict\u001b[0m\u001b[0;34m(\u001b[0m\u001b[0;34m)\u001b[0m\u001b[0;34m,\u001b[0m \u001b[0;34m\"15_8_21.weights\"\u001b[0m\u001b[0;34m)\u001b[0m\u001b[0;34m\u001b[0m\u001b[0;34m\u001b[0m\u001b[0m\n\u001b[0m\u001b[1;32m      2\u001b[0m '''\n\u001b[1;32m      3\u001b[0m \u001b[0mnum_run\u001b[0m \u001b[0;34m=\u001b[0m \u001b[0mlen\u001b[0m\u001b[0;34m(\u001b[0m\u001b[0mos\u001b[0m\u001b[0;34m.\u001b[0m\u001b[0mlistdir\u001b[0m\u001b[0;34m(\u001b[0m\u001b[0;34m\"runs/\"\u001b[0m\u001b[0;34m)\u001b[0m\u001b[0;34m)\u001b[0m \u001b[0;34m+\u001b[0m \u001b[0;36m1\u001b[0m\u001b[0;34m\u001b[0m\u001b[0;34m\u001b[0m\u001b[0m\n\u001b[1;32m      4\u001b[0m \u001b[0mnow\u001b[0m \u001b[0;34m=\u001b[0m \u001b[0mdatetime\u001b[0m\u001b[0;34m.\u001b[0m\u001b[0mnow\u001b[0m\u001b[0;34m(\u001b[0m\u001b[0;34m)\u001b[0m\u001b[0;34m\u001b[0m\u001b[0;34m\u001b[0m\u001b[0m\n\u001b[1;32m      5\u001b[0m \u001b[0mfoldername\u001b[0m \u001b[0;34m=\u001b[0m \u001b[0;34m\"train_{}_{}\"\u001b[0m\u001b[0;34m.\u001b[0m\u001b[0mformat\u001b[0m\u001b[0;34m(\u001b[0m\u001b[0mnum_run\u001b[0m\u001b[0;34m,\u001b[0m \u001b[0mnow\u001b[0m\u001b[0;34m.\u001b[0m\u001b[0mstrftime\u001b[0m\u001b[0;34m(\u001b[0m\u001b[0;34m\"%d_%m_%Y_%H_%M_%S\"\u001b[0m\u001b[0;34m)\u001b[0m\u001b[0;34m)\u001b[0m\u001b[0;34m\u001b[0m\u001b[0;34m\u001b[0m\u001b[0m\n",
      "\u001b[0;31mNameError\u001b[0m: name 'th' is not defined"
     ]
    }
   ],
   "metadata": {
    "pycharm": {
     "name": "#%%\n"
    }
   }
  },
  {
   "cell_type": "code",
   "execution_count": null,
   "source": [
    "mpl.rcParams['text.color'] = 'k'\n",
    "\n",
    "plt.title(\"loss\")\n",
    "plt.plot(range(len(losses)), losses)\n",
    "pass"
   ],
   "outputs": [],
   "metadata": {
    "pycharm": {
     "name": "#%%\n"
    }
   }
  },
  {
   "cell_type": "code",
   "execution_count": null,
   "source": [
    "'''\n",
    "plt.title(\"relative error\")\n",
    "plt.plot(range(len(errors)), errors, label=\"train\")\n",
    "plt.plot(range(len(test_errors)), test_errors, label=\"test\")\n",
    "plt.legend()\n",
    "pass\n",
    "'''"
   ],
   "outputs": [],
   "metadata": {}
  },
  {
   "cell_type": "code",
   "execution_count": null,
   "source": [
    "mpl.rcParams['text.color'] = 'w'\n",
    "prep = Preprocessing()"
   ],
   "outputs": [],
   "metadata": {
    "scrolled": true
   }
  },
  {
   "cell_type": "code",
   "execution_count": null,
   "source": [
    "j = np.random.randint(len(y_test))\n",
    "j = 3\n",
    "m = 2\n",
    "k = 4\n",
    "\n",
    "print(\"k = {}\".format(k))\n",
    "\n",
    "#k = 5\n",
    "input = th.unsqueeze(X_test[j, m], 0)\n",
    "outputs = net(input)\n",
    "\n",
    "#------------------------------\n",
    "num_predicted_frames = outputs[0, 0].shape[0] # per allineare frames passati e futuri\n",
    "fig, axs = plt.subplots(1, num_predicted_frames, figsize=(plotsize,plotsize))\n",
    "\n",
    "for ax in axs:\n",
    "    ax.set_yticklabels([])\n",
    "    ax.set_xticklabels([])\n",
    "\n",
    "for i,frame in enumerate(input[0,0,-num_predicted_frames:]):\n",
    "    frame = frame.cpu().detach().numpy()\n",
    "    axs[i].matshow(frame)\n",
    "    axs[i].set_title('t = {}'.format(i))\n",
    "\n",
    "print(\"======== Past frames ========\")\n",
    "plt.show()\n",
    "\n",
    "print(\"======== True Future vs Predicted frames ========\")\n",
    "\n",
    "#------------------------------\n",
    "fig, axs = plt.subplots(1, num_predicted_frames, figsize=(plotsize,plotsize))\n",
    "\n",
    "for ax in axs:\n",
    "    ax.set_yticklabels([])\n",
    "    ax.set_xticklabels([])\n",
    "\n",
    "for i,frame in enumerate(y_test[j,m,0]):\n",
    "    axs[i].matshow(frame.cpu().detach().numpy())\n",
    "    axs[i].set_title('t = {}'.format(i+num_predicted_frames))\n",
    "\n",
    "plt.show()\n",
    "#------------------------------\n",
    "fig, axs = plt.subplots(1, outputs[0,0].shape[0], figsize=(plotsize,plotsize))\n",
    "\n",
    "for ax in axs:\n",
    "    ax.set_yticklabels([])\n",
    "    ax.set_xticklabels([])\n",
    "\n",
    "for i,frame in enumerate(outputs[0,0]):\n",
    "    attention_mask = outputs[0,1,i].cpu().detach().numpy()\n",
    "    y_frame = frame.cpu().detach().numpy()\n",
    "    y_true = y_test[j,m,0,i].cpu().detach().numpy()\n",
    "\n",
    "    y_frame = np.dot(y_frame, attention_mask)\n",
    "    y_true = np.dot(y_true, attention_mask)\n",
    "\n",
    "    print(y_frame[:5,:5])\n",
    "    print(\"#-------------\")\n",
    "    print(y_true[:5,:5])\n",
    "    print(\"\\n\\n\")\n",
    "\n",
    "    ssim = prep.pytorch_ssim(y_true, y_frame).item()\n",
    "    axs[i].matshow(y_frame)\n",
    "    axs[i].set_title('ssim = {}'.format(ssim))\n",
    "\n",
    "plt.show()\n",
    "#------------------------------"
   ],
   "outputs": [],
   "metadata": {
    "pycharm": {
     "name": "#%%\n"
    }
   }
  },
  {
   "cell_type": "code",
   "execution_count": null,
   "source": [
    "print(\"k = {}\".format(k))\n",
    "iterations = 4\n",
    "#k = 5\n",
    "\n",
    "input = th.unsqueeze(X_train[k,0], 0)\n",
    "outputs = net(input)\n",
    "\n",
    "#------------------------------\n",
    "print(\"======== Past frames ========\")\n",
    "num_predicted_frames = outputs[0,0].shape[0] # per allineare frames passati e futuri\n",
    "fig, axs = plt.subplots(1, num_predicted_frames, figsize=(plotsize,plotsize))\n",
    "\n",
    "for ax in axs:\n",
    "    ax.set_yticklabels([])\n",
    "    ax.set_xticklabels([])\n",
    "\n",
    "for i,frame in enumerate(input[0,0,-num_predicted_frames:]):\n",
    "    axs[i].matshow(frame.cpu().detach().numpy())\n",
    "    axs[i].set_title('t = {}'.format(i))\n",
    "\n",
    "plt.show()\n",
    "#------------------------------\n",
    "print(\"======== True vs Autoregressive Pred Frames  ========\")\n",
    "fig, axs = plt.subplots(1, num_predicted_frames, figsize=(plotsize,plotsize))\n",
    "\n",
    "true_means = []\n",
    "\n",
    "for ax in axs:\n",
    "    ax.set_yticklabels([])\n",
    "    ax.set_xticklabels([])\n",
    "\n",
    "for i,frame in enumerate(y_train[k,0,0]):\n",
    "    axs[i].matshow(frame.cpu().detach().numpy())\n",
    "    axs[i].set_title('t = {}'.format(i+num_predicted_frames))\n",
    "    true_means.append(frame.cpu().detach().numpy().mean())\n",
    "\n",
    "plt.show()\n",
    "#------------------------------\n",
    "\n",
    "#i = np.random.randint(len(X_test))\n",
    "input = th.unsqueeze(X_train[k][0], 0)\n",
    "\n",
    "fig, axs = plt.subplots(1, iterations, figsize=(plotsize,plotsize))\n",
    "\n",
    "for ax in axs:\n",
    "    ax.set_yticklabels([])\n",
    "    ax.set_xticklabels([])\n",
    "\n",
    "predicted_means = []\n",
    "for x in range(iterations):\n",
    "    # first predicted frame only\n",
    "    output = th.unsqueeze(net(input)[:,:,0,:,:],2)\n",
    "    # next frame = first predicted from output + btm map\n",
    "    next_frame = output.detach()\n",
    "    next_frame = th.cat((next_frame, th.unsqueeze(input[:,2:,0,:,:],2)), axis=1)\n",
    "    # added on top of (input sequence - first frame)\n",
    "    input = th.cat((next_frame, input[:,:,1:,:]), axis=2)\n",
    "\n",
    "    axs[x].matshow(output[0,0,0].cpu().detach().numpy())\n",
    "    axs[x].set_title('t = {}'.format(x+num_predicted_frames))\n",
    "    predicted_means.append(output[0,0,0].cpu().detach().numpy().mean())\n",
    "    #print(np.mean(output[0,0,0].cpu().detach().numpy()))\n",
    "\n",
    "plt.show()"
   ],
   "outputs": [],
   "metadata": {
    "pycharm": {
     "name": "#%% Auto regressive mode\n"
    }
   }
  },
  {
   "cell_type": "code",
   "execution_count": null,
   "source": [
    "mpl.rcParams['text.color'] = 'b'\n",
    "\n",
    "plt.clf()\n",
    "plt.plot(range(len(true_means)), true_means,  \"-b\", label=\"True frames mean\")\n",
    "plt.plot(range(len(true_means)), true_means,  \"*\")\n",
    "\n",
    "plt.plot(range(len(predicted_means)), predicted_means,  \"-g\", label=\"Predicted frames mean\")\n",
    "plt.plot(range(len(predicted_means)), predicted_means,  \"*\")\n",
    "plt.grid()\n",
    "plt.legend()\n",
    "pass"
   ],
   "outputs": [],
   "metadata": {
    "pycharm": {
     "name": "#%%\n"
    }
   }
  },
  {
   "cell_type": "code",
   "execution_count": null,
   "source": [
    "print(\"{:<20s}{:<20s}{:<20s}{:<20s}{:<20s}\".format(\"\", \"min\", \"max\", \"mean\", \"std\"))\n",
    "print(\"{:<20s}{:<20f}{:<20f}{:<20f}{:<20f}\".format(\"prediction\", th.min(outputs), th.max(outputs), th.mean(outputs), th.std(outputs)))\n",
    "print(\"{:<20s}{:<20f}{:<20f}{:<20f}{:<20f}\".format(\"true\", th.min(y_test[0]), th.max(y_test[0]), th.mean(y_test[0]), th.std(y_test[0])))\n",
    "'''"
   ],
   "outputs": [],
   "metadata": {
    "pycharm": {
     "name": "#%%\n"
    }
   }
  },
  {
   "cell_type": "code",
   "execution_count": null,
   "source": [],
   "outputs": [],
   "metadata": {
    "pycharm": {
     "name": "#%%\n"
    }
   }
  }
 ],
 "metadata": {
  "colab": {
   "name": "flax_mnist_full_example.ipynb",
   "provenance": []
  },
  "kernelspec": {
   "name": "python3",
   "display_name": "Python 3.6.7 64-bit ('tfdeeplearning': conda)"
  },
  "language_info": {
   "codemirror_mode": {
    "name": "ipython",
    "version": 3
   },
   "file_extension": ".py",
   "mimetype": "text/x-python",
   "name": "python",
   "nbconvert_exporter": "python",
   "pygments_lexer": "ipython3",
   "version": "3.6.7"
  },
  "interpreter": {
   "hash": "e97ca70a60c44d04c5cd941e5875e1758a8ffad8753d39a47b72b0be14848870"
  }
 },
 "nbformat": 4,
 "nbformat_minor": 1
}