{
 "cells": [
  {
   "cell_type": "code",
   "execution_count": 1,
   "metadata": {},
   "outputs": [],
   "source": [
    "import numpy as np\n",
    "import os\n",
    "from pathlib import Path\n",
    "import tqdm\n",
    "import matplotlib.pyplot as plt\n",
    "import random\n",
    "import tqdm \n",
    "\n",
    "%matplotlib inline"
   ]
  },
  {
   "cell_type": "code",
   "execution_count": 2,
   "metadata": {},
   "outputs": [
    {
     "name": "stderr",
     "output_type": "stream",
     "text": [
      "Using TensorFlow backend.\n"
     ]
    }
   ],
   "source": [
    "import tensorflow as tf\n",
    "from tensorflow import keras\n",
    "from tensorflow.keras.models import Sequential\n",
    "from tensorflow.keras.optimizers import Adam, SGD\n",
    "\n",
    "import keras.layers.advanced_activations as advanced_activations\n",
    "import keras.activations as activations\n",
    "import keras.layers as layers\n",
    "from keras.layers import Dense, concatenate\n",
    "from keras.callbacks import EarlyStopping\n",
    "\n",
    "from tensorflow.keras.models import Sequential\n",
    "from tensorflow.keras.layers import BatchNormalization\n",
    "from tensorflow.keras.layers import Conv2D, Conv3D, Conv3DTranspose\n",
    "from tensorflow.keras.layers import MaxPooling3D\n",
    "from tensorflow.keras.layers import AveragePooling3D\n",
    "from tensorflow.keras.layers import Activation\n",
    "from tensorflow.keras.layers import Dropout, Add\n",
    "from tensorflow.keras.layers import Dense, LSTM\n",
    "from tensorflow.keras.layers import Flatten\n",
    "from tensorflow.keras.layers import Input\n",
    "from tensorflow.keras.layers import Reshape\n",
    "from tensorflow.keras.models import Model"
   ]
  },
  {
   "cell_type": "code",
   "execution_count": 3,
   "metadata": {},
   "outputs": [],
   "source": [
    "class LossHistory(tf.keras.callbacks.Callback):\n",
    "    def on_train_begin(self, logs={}):\n",
    "        self.losses = []\n",
    "        self.val_losses = []\n",
    "        self.accuracy = []\n",
    "        \n",
    "    def loss_plot(self):\n",
    "        plt.plot(range(len(self.losses)), self.losses)\n",
    "        \n",
    "    def accuracy_plot(self):\n",
    "        plt.plot(range(len(self.accuracy)), self.accuracy)\n",
    "\n",
    "    def on_batch_end(self, batch, logs={}):\n",
    "        self.losses.append(logs.get('loss'))\n",
    "        self.val_losses.append(logs.get('val_loss'))\n",
    "        self.accuracy.append(logs.get('accuracy'))\n",
    "\n",
    "        #print(\"Loss: {}, Val_loss: {}, Accuracy: {}\".format(logs.get('loss'), logs.get('loss'), logs.get('accuracy')))\n"
   ]
  },
  {
   "cell_type": "code",
   "execution_count": 4,
   "metadata": {},
   "outputs": [
    {
     "data": {
      "text/plain": [
       "'2.3.0'"
      ]
     },
     "execution_count": 4,
     "metadata": {},
     "output_type": "execute_result"
    }
   ],
   "source": [
    "tf.__version__"
   ]
  },
  {
   "cell_type": "markdown",
   "metadata": {},
   "source": [
    "### Dataset"
   ]
  },
  {
   "cell_type": "code",
   "execution_count": 5,
   "metadata": {},
   "outputs": [],
   "source": [
    "past_frames = 10\n",
    "future_frames = 4\n",
    "img_size = 256\n",
    "train_size = 0.9"
   ]
  },
  {
   "cell_type": "code",
   "execution_count": 13,
   "metadata": {},
   "outputs": [],
   "source": [
    "root = \"../datasets/arda/\"\n",
    "porzioni =  os.listdir(root)\n",
    "porzioni = [x for x in sorted(porzioni) if x.startswith(\"mini-\") and os.path.isdir(root +  x)]"
   ]
  },
  {
   "cell_type": "code",
   "execution_count": 14,
   "metadata": {},
   "outputs": [],
   "source": [
    "#\n",
    "#  dataset_partitions\n",
    "#       dataset_1\n",
    "#            partition: [start_window_id]\n",
    "#            labels: [ids: id([target_window])]\n",
    "#\n",
    "#       dataset_2\n",
    "#            partition: [start_window_id]\n",
    "#            labels: [ids: id([target_window])]\n",
    "#\n",
    "#       (...)\n",
    "\n",
    "train_dataset_partitions = []\n",
    "test_dataset_partitions = []\n",
    "\n",
    "# Applica intervalli di interesse\n",
    "for area in porzioni:\n",
    "    \n",
    "    n_frames = len(os.listdir(root + area))\n",
    "\n",
    "    # FIn ai frame che interessano\n",
    "    size = n_frames - past_frames - future_frames\n",
    "    train_len = int(size * train_size)\n",
    "    \n",
    "    partition_raw = []\n",
    "    labels = dict()\n",
    "    \n",
    "    #-----------\n",
    "    for i in range(train_len):\n",
    "        partition_raw.append(\"id-{}\".format(i))\n",
    "        labels[\"id-{}\".format(i)] = list(range(i + (past_frames), i + (past_frames) + (future_frames))) \n",
    "    \n",
    "    train_dataset_partitions.append((partition_raw, labels))\n",
    "    \n",
    "    #-----------\n",
    "    partition_raw = []\n",
    "    labels = dict()\n",
    "    \n",
    "    for i in range(train_len, size):\n",
    "        partition_raw.append(\"id-{}\".format(i))\n",
    "        labels[\"id-{}\".format(i)] = list(range(i + (past_frames), i + (past_frames) + (future_frames))) \n",
    "\n",
    "    test_dataset_partitions.append((partition_raw, labels))"
   ]
  },
  {
   "cell_type": "code",
   "execution_count": 57,
   "metadata": {},
   "outputs": [],
   "source": [
    "import numpy as np\n",
    "\n",
    "# Data Generator\n",
    "# Inputs:  \n",
    "#  - Path containing folders of frames\n",
    "#  - List of the names of these folders\n",
    "#  - Partitions: [(ids_x(x, 10), ids_y(x, 4))]\n",
    "#\n",
    "class DataGenerator(tf.keras.utils.Sequence):\n",
    "    def __init__(self, root, filenames, dataset_partitions, batch_size=16, input_dim=(past_frames, img_size, img_size),  output_dim=(future_frames, img_size, img_size), n_channels=1, shuffle=True):\n",
    "        'Initialization'\n",
    "\n",
    "        self.input_dim = input_dim\n",
    "        self.output_dim = output_dim\n",
    "\n",
    "        self.batch_size = batch_size\n",
    "\n",
    "        self.dataset_partitions = dataset_partitions\n",
    "\n",
    "        self.n_channels = n_channels\n",
    "        self.shuffle = shuffle\n",
    "        \n",
    "        self.root = root\n",
    "        self.filenames = filenames\n",
    "\n",
    "        self.on_epoch_end()\n",
    "        \n",
    "    def get_total_frames(self):\n",
    "        'Sum of #frames for each folder'\n",
    "        \n",
    "        total_frames = 0\n",
    "    \n",
    "        for p in self.dataset_partitions:\n",
    "            total_frames += len(p[0])\n",
    "        \n",
    "        return total_frames\n",
    "    \n",
    "    def get_total_batches(self):\n",
    "        'Sum of #batches for each folder'\n",
    "        \n",
    "        batches = 0\n",
    "        \n",
    "        # sum of batches per dataset\n",
    "        for p in self.dataset_partitions:\n",
    "            batches += int(np.floor(len(p[0]) / self.batch_size))\n",
    "            \n",
    "        return batches\n",
    "\n",
    "    def __len__(self):\n",
    "        'Denotes the number of batches per epoch'\n",
    "        \n",
    "        return self.get_total_batches()\n",
    "\n",
    "\n",
    "    def __getitem__(self, index):\n",
    "        'Generate one batch of data'\n",
    "\n",
    "        # Seleziona un intervallo di frames in base all'indice batch\n",
    "        indexes = self.indexes[ index * self.batch_size : (index + 1) * self.batch_size]\n",
    "\n",
    "        # Generate data\n",
    "        X, y = self.__data_generation(indexes)\n",
    "\n",
    "        return X, y\n",
    "    \n",
    "    def on_epoch_end(self):\n",
    "        'Shuffles indexes for each epoch, determines total indexes'\n",
    "        \n",
    "        total_frames = self.get_total_frames()\n",
    "            \n",
    "        # Shuffle di tutti gli id frames globali (attinge da più datasets a random)\n",
    "        self.indexes = np.arange(total_frames)\n",
    "        \n",
    "        if self.shuffle == True:\n",
    "            np.random.shuffle(self.indexes)\n",
    "        \n",
    "    def get_dataset_id(self, index):\n",
    "        'Get #folder by #global_frame'\n",
    "        \n",
    "        curmax = 0\n",
    "        \n",
    "        # Get index of which dataset it belongs to\n",
    "        for i, p in enumerate(self.dataset_partitions):\n",
    "            curmax += len(p[0])\n",
    "            if index < curmax:\n",
    "                return i\n",
    "        return -1\n",
    "    \n",
    "    def get_local_id(self, global_id, dataset_id):\n",
    "        'Get #local_frame by #global_frame'\n",
    "        \n",
    "        # remove lens of all the previous ones\n",
    "        for i in range(dataset_id):\n",
    "            global_id -= len(self.dataset_partitions[i][0])\n",
    "        \n",
    "        return global_id\n",
    "        \n",
    "    \n",
    "    def __data_generation(self, list_IDs_temp):\n",
    "        'Generates data containing batch_size samples' \n",
    "        \n",
    "        # Initialization\n",
    "        X = np.empty((self.batch_size, 2, *self.input_dim, self.n_channels))\n",
    "        y = np.empty((self.batch_size, *self.output_dim, self.n_channels))\n",
    "\n",
    "        # Generate data for i IDs\n",
    "        # id: 0 +\n",
    "        for i, global_id in enumerate(list_IDs_temp):\n",
    "            \n",
    "            # Id dataset da cui attingere\n",
    "            # Id frame start nel dataset\n",
    "            dataset_id = self.get_dataset_id(global_id)\n",
    "            local_id = self.get_local_id(global_id, dataset_id)\n",
    "    \n",
    "            # -1 per il BTM che non conta\n",
    "            size = len(os.listdir(root + self.filenames[dataset_id]))-1\n",
    "            \n",
    "            # Carica file BTM\n",
    "            btm = np.loadtxt(root + self.filenames[dataset_id] + \"/mini-decoded.BTM\")\n",
    "            btm.resize(1, btm.shape[0], btm.shape[1], 1)\n",
    "            \n",
    "            # Dalla cartella dataset scelta, leggo tutti i frames\n",
    "            src = None\n",
    "            \n",
    "            # Ottieni sequenza raw di frames: train + pred\n",
    "            for j in range(size):\n",
    "                frame = np.loadtxt(root + self.filenames[dataset_id] + \"/mini-decoded-{:04d}.DEP\".format(j))\n",
    "                \n",
    "                if src is None: src = np.array([frame])\n",
    "                else: src = np.concatenate((src, np.array([frame])))\n",
    "                \n",
    "            src[src > 10e5] = 0\n",
    "            \n",
    "            # partition[id] -> start position for train window\n",
    "            # ID\n",
    "            r = src[local_id: local_id + past_frames]\n",
    "            X[i, 0,] = r.reshape(r.shape[0], r.shape[1], r.shape[2], 1)\n",
    "            X[i, 1,] = btm\n",
    "            \n",
    "            # labels[id] -> list of frame indices for predict window\n",
    "            r = src[self.dataset_partitions[dataset_id][1][\"id-{}\".format(local_id)]]\n",
    "            y[i] = r.reshape(r.shape[0], r.shape[1], r.shape[2], 1)\n",
    "\n",
    "        return X, y"
   ]
  },
  {
   "cell_type": "code",
   "execution_count": 58,
   "metadata": {},
   "outputs": [],
   "source": [
    "train_d = DataGenerator(root, porzioni, train_dataset_partitions, batch_size=4)\n",
    "test_d = DataGenerator(root, porzioni, test_dataset_partitions, batch_size=4)"
   ]
  },
  {
   "cell_type": "code",
   "execution_count": 60,
   "metadata": {},
   "outputs": [
    {
     "ename": "AttributeError",
     "evalue": "'tuple' object has no attribute 'shape'",
     "output_type": "error",
     "traceback": [
      "\u001b[0;31m---------------------------------------------------------------------------\u001b[0m",
      "\u001b[0;31mAttributeError\u001b[0m                            Traceback (most recent call last)",
      "\u001b[0;32m<ipython-input-60-671546f7a23b>\u001b[0m in \u001b[0;36m<module>\u001b[0;34m\u001b[0m\n\u001b[1;32m      1\u001b[0m \u001b[0mitm\u001b[0m \u001b[0;34m=\u001b[0m \u001b[0mtrain_d\u001b[0m\u001b[0;34m.\u001b[0m\u001b[0m__getitem__\u001b[0m\u001b[0;34m(\u001b[0m\u001b[0;36m10\u001b[0m\u001b[0;34m)\u001b[0m\u001b[0;34m\u001b[0m\u001b[0;34m\u001b[0m\u001b[0m\n\u001b[0;32m----> 2\u001b[0;31m \u001b[0mprint\u001b[0m\u001b[0;34m(\u001b[0m\u001b[0mitm\u001b[0m\u001b[0;34m.\u001b[0m\u001b[0mshape\u001b[0m\u001b[0;34m)\u001b[0m\u001b[0;34m\u001b[0m\u001b[0;34m\u001b[0m\u001b[0m\n\u001b[0m\u001b[1;32m      3\u001b[0m \u001b[0mprint\u001b[0m\u001b[0;34m(\u001b[0m\u001b[0mitm\u001b[0m\u001b[0;34m[\u001b[0m\u001b[0;36m0\u001b[0m\u001b[0;34m]\u001b[0m\u001b[0;34m[\u001b[0m\u001b[0;36m0\u001b[0m\u001b[0;34m]\u001b[0m\u001b[0;34m[\u001b[0m\u001b[0;36m0\u001b[0m\u001b[0;34m]\u001b[0m\u001b[0;34m.\u001b[0m\u001b[0mshape\u001b[0m\u001b[0;34m)\u001b[0m\u001b[0;34m\u001b[0m\u001b[0;34m\u001b[0m\u001b[0m\n",
      "\u001b[0;31mAttributeError\u001b[0m: 'tuple' object has no attribute 'shape'"
     ]
    }
   ],
   "source": [
    "itm = train_d.__getitem__(10)\n",
    "print(itm.shape)"
   ]
  },
  {
   "cell_type": "code",
   "execution_count": null,
   "metadata": {},
   "outputs": [],
   "source": [
    "train_d.__getitem__(10)[1][0].shape"
   ]
  },
  {
   "cell_type": "code",
   "execution_count": 22,
   "metadata": {},
   "outputs": [
    {
     "name": "stdout",
     "output_type": "stream",
     "text": [
      "0.0\n",
      "0.08691491165845674\n"
     ]
    },
    {
     "data": {
      "image/png": "[encoded data removed]",
      "text/plain": [
       "<Figure size 288x288 with 1 Axes>"
      ]
     },
     "metadata": {
      "needs_background": "light"
     },
     "output_type": "display_data"
    },
    {
     "data": {
      "image/png": "[encoded data removed]",
      "text/plain": [
       "<Figure size 288x288 with 1 Axes>"
      ]
     },
     "metadata": {
      "needs_background": "light"
     },
     "output_type": "display_data"
    }
   ],
   "source": [
    "# First train frame\n",
    "plt.matshow(train_d.__getitem__(10)[0][0][0].reshape(256,256))\n",
    "print(np.mean(train_d.__getitem__(1)[0][0][0]))\n",
    "\n",
    "# Last target frame\n",
    "plt.matshow(train_d.__getitem__(10)[1][0][3].reshape(256,256))\n",
    "print(np.mean(train_d.__getitem__(1)[1][0][3]))"
   ]
  },
  {
   "cell_type": "markdown",
   "metadata": {},
   "source": [
    "### Model"
   ]
  },
  {
   "cell_type": "code",
   "execution_count": 13,
   "metadata": {},
   "outputs": [],
   "source": [
    "import tensorflow.keras.layers "
   ]
  },
  {
   "cell_type": "code",
   "execution_count": 14,
   "metadata": {},
   "outputs": [],
   "source": [
    "sample_shape = (10, 256, 256, 1)\n",
    "inputs = Input(shape = sample_shape)\n",
    "\n",
    "x = inputs\n",
    "\n",
    "x = Conv3D(32, kernel_size=(3, 3, 3), padding='same', activation='relu', kernel_initializer='he_uniform', input_shape=sample_shape)(x)\n",
    "x = BatchNormalization()(x)\n",
    "x = AveragePooling3D(pool_size=(2, 2, 2))(x)\n",
    "\n",
    "x = Conv3D(64, kernel_size=(3, 3, 3), padding='same', activation='relu', kernel_initializer='he_uniform', input_shape=sample_shape)(x)\n",
    "x = BatchNormalization()(x)\n",
    "x = AveragePooling3D(pool_size=(2, 2, 2))(x)\n",
    "\n",
    "x = Conv3DTranspose(filters=64, kernel_size=(3,3,3), strides=(2,2,2), padding=\"same\",activation='relu')(x)\n",
    "x = BatchNormalization()(x)\n",
    "\n",
    "x = Conv3DTranspose(filters=32, kernel_size=(3,3,3), strides=(1,2,2), padding=\"same\",activation='relu')(x)\n",
    "x = BatchNormalization()(x)\n",
    "\n",
    "x = Conv3DTranspose(filters=1, kernel_size=(3,3,3), strides=(1,1,1), padding=\"same\",activation='relu')(x)\n",
    "x = BatchNormalization()(x)\n",
    "\n",
    "model = Model(inputs, x)"
   ]
  },
  {
   "cell_type": "code",
   "execution_count": 15,
   "metadata": {},
   "outputs": [],
   "source": [
    "model.compile(optimizer = Adam(learning_rate = 1e-3), loss = \"binary_crossentropy\", metrics = [\"accuracy\"])\n",
    "#model.compile(optimizer = Adam(learning_rate = 1e-3), loss = \"mean_squared_error\", metrics = [\"accuracy\"])"
   ]
  },
  {
   "cell_type": "code",
   "execution_count": 16,
   "metadata": {},
   "outputs": [],
   "source": [
    "history = LossHistory()"
   ]
  },
  {
   "cell_type": "code",
   "execution_count": 17,
   "metadata": {},
   "outputs": [
    {
     "name": "stdout",
     "output_type": "stream",
     "text": [
      "WARNING:tensorflow:multiprocessing can interact badly with TensorFlow, causing nondeterministic deadlocks. For high performance data pipelines tf.data is recommended.\n",
      "  2/125 [..............................] - ETA: 19s - loss: 0.8335 - accuracy: 0.8704WARNING:tensorflow:Callbacks method `on_train_batch_end` is slow compared to the batch time (batch time: 0.1245s vs `on_train_batch_end` time: 0.1891s). Check your callbacks.\n",
      "124/125 [============================>.] - ETA: 1s - loss: 0.4736 - accuracy: 0.8910WARNING:tensorflow:multiprocessing can interact badly with TensorFlow, causing nondeterministic deadlocks. For high performance data pipelines tf.data is recommended.\n",
      "125/125 [==============================] - 165s 1s/step - loss: 0.4732 - accuracy: 0.8909\n"
     ]
    },
    {
     "data": {
      "text/plain": [
       "<tensorflow.python.keras.callbacks.History at 0x7f41680304e0>"
      ]
     },
     "execution_count": 17,
     "metadata": {},
     "output_type": "execute_result"
    }
   ],
   "source": [
    "model.fit(\n",
    "    x = train_d,\n",
    "    validation_data = test_d,\n",
    "    use_multiprocessing = True,\n",
    "    workers = 6,\n",
    "    epochs = 1,\n",
    "    callbacks=[history]\n",
    ")"
   ]
  },
  {
   "cell_type": "code",
   "execution_count": 18,
   "metadata": {},
   "outputs": [
    {
     "ename": "NameError",
     "evalue": "name 'ind' is not defined",
     "output_type": "error",
     "traceback": [
      "\u001b[0;31m---------------------------------------------------------------------------\u001b[0m",
      "\u001b[0;31mNameError\u001b[0m                                 Traceback (most recent call last)",
      "\u001b[0;32m<ipython-input-18-17a9b8eafd7a>\u001b[0m in \u001b[0;36m<module>\u001b[0;34m\u001b[0m\n\u001b[0;32m----> 1\u001b[0;31m \u001b[0mpredictions\u001b[0m \u001b[0;34m=\u001b[0m \u001b[0mmodel\u001b[0m\u001b[0;34m.\u001b[0m\u001b[0mpredict\u001b[0m\u001b[0;34m(\u001b[0m\u001b[0mtrain_d\u001b[0m\u001b[0;34m.\u001b[0m\u001b[0m__getitem__\u001b[0m\u001b[0;34m(\u001b[0m\u001b[0mind\u001b[0m\u001b[0;34m)\u001b[0m\u001b[0;34m[\u001b[0m\u001b[0;36m0\u001b[0m\u001b[0;34m]\u001b[0m\u001b[0;34m)\u001b[0m\u001b[0;34m[\u001b[0m\u001b[0;36m0\u001b[0m\u001b[0;34m]\u001b[0m\u001b[0;34m\u001b[0m\u001b[0;34m\u001b[0m\u001b[0m\n\u001b[0m\u001b[1;32m      2\u001b[0m \u001b[0mtrue\u001b[0m \u001b[0;34m=\u001b[0m \u001b[0mtrain_d\u001b[0m\u001b[0;34m.\u001b[0m\u001b[0m__getitem__\u001b[0m\u001b[0;34m(\u001b[0m\u001b[0mind\u001b[0m\u001b[0;34m)\u001b[0m\u001b[0;34m[\u001b[0m\u001b[0;36m1\u001b[0m\u001b[0;34m]\u001b[0m\u001b[0;34m[\u001b[0m\u001b[0;36m0\u001b[0m\u001b[0;34m]\u001b[0m\u001b[0;34m\u001b[0m\u001b[0;34m\u001b[0m\u001b[0m\n",
      "\u001b[0;31mNameError\u001b[0m: name 'ind' is not defined"
     ]
    }
   ],
   "source": [
    "predictions = model.predict(train_d.__getitem__(ind)[0])[0]\n",
    "true = train_d.__getitem__(ind)[1][0]"
   ]
  },
  {
   "cell_type": "code",
   "execution_count": null,
   "metadata": {
    "scrolled": true
   },
   "outputs": [],
   "source": [
    "fig, axs = plt.subplots(1,4, figsize=(15,5))\n",
    "\n",
    "for i, frame in enumerate(predictions):\n",
    "    axs[i].matshow(frame.reshape(256, 256))"
   ]
  },
  {
   "cell_type": "code",
   "execution_count": null,
   "metadata": {},
   "outputs": [],
   "source": [
    "fig, axs = plt.subplots(1,4, figsize=(15,5))\n",
    "\n",
    "for i, frame in enumerate(true):\n",
    "    axs[i].matshow(frame.reshape(256, 256))"
   ]
  },
  {
   "cell_type": "code",
   "execution_count": null,
   "metadata": {},
   "outputs": [],
   "source": [
    "plt.plot(range(4), [np.mean(x) for x in predictions])\n",
    "plt.plot(range(4), [np.mean(x) for x in true])"
   ]
  },
  {
   "cell_type": "code",
   "execution_count": null,
   "metadata": {
    "scrolled": true
   },
   "outputs": [],
   "source": [
    "ind = 6\n",
    "\n",
    "fig, (ax1, ax2, ax3) = plt.subplots(1, 3, figsize=(15,5))\n",
    "fig.suptitle('frame 1 - frame 11 pred - frame 11 true')\n",
    "\n",
    "ax1.matshow(train_d.__getitem__(ind)[0][0][0].reshape(256,256))\n",
    "\n",
    "ax2.matshow(model.predict(train_d.__getitem__(ind)[0])[0][0].reshape(256,256))\n",
    "\n",
    "ax3.matshow(train_d.__getitem__(ind)[1][0][0].reshape(256,256))"
   ]
  },
  {
   "cell_type": "code",
   "execution_count": null,
   "metadata": {
    "scrolled": true
   },
   "outputs": [],
   "source": [
    "f = np.concatenate((train_d.__getitem__(ind)[0][0], train_d.__getitem__(ind)[1][0]))\n",
    "plt.plot(range(14), [np.mean(x) for x in f])\n",
    "\n",
    "plt.plot(range(10, 14), [np.mean(x) for x in model.predict(train_d.__getitem__(ind)[0])[0]])"
   ]
  },
  {
   "cell_type": "code",
   "execution_count": null,
   "metadata": {
    "scrolled": true
   },
   "outputs": [],
   "source": [
    "history.accuracy_plot()"
   ]
  },
  {
   "cell_type": "code",
   "execution_count": null,
   "metadata": {},
   "outputs": [],
   "source": [
    "history.loss_plot()"
   ]
  },
  {
   "cell_type": "code",
   "execution_count": null,
   "metadata": {},
   "outputs": [],
   "source": []
  }
 ],
 "metadata": {
  "kernelspec": {
   "display_name": "Python 3",
   "language": "python",
   "name": "python3"
  },
  "language_info": {
   "codemirror_mode": {
    "name": "ipython",
    "version": 3
   },
   "file_extension": ".py",
   "mimetype": "text/x-python",
   "name": "python",
   "nbconvert_exporter": "python",
   "pygments_lexer": "ipython3",
   "version": "3.6.13"
  }
 },
 "nbformat": 4,
 "nbformat_minor": 4
}
