{
 "cells": [
  {
   "cell_type": "markdown",
   "metadata": {
    "id": "Lq6P0Gd-GyXz"
   },
   "source": [
    "### Functions"
   ]
  },
  {
   "cell_type": "code",
   "execution_count": null,
   "metadata": {
    "id": "EKGzTDx4jLJ5"
   },
   "outputs": [],
   "source": [
    "#!pip install --upgrade wandb\n",
    "#!wandb login xxxxxxxxxxxxxxxxxx"
   ]
  },
  {
   "cell_type": "code",
   "execution_count": null,
   "metadata": {
    "id": "Xo8Ys1E1jS82"
   },
   "outputs": [],
   "source": [
    "#import wandb\n",
    "#from wandb.keras import WandbCallback"
   ]
  },
  {
   "cell_type": "code",
   "execution_count": null,
   "metadata": {
    "id": "izqg-6lZLsvH"
   },
   "outputs": [],
   "source": [
    "import numpy as np\n",
    "import pandas as pd\n",
    "import os\n",
    "from pathlib import Path\n",
    "import tqdm\n",
    "import matplotlib.pyplot as plt\n",
    "import random\n",
    "import torch\n",
    "import torch.nn as nn\n",
    "import torch.optim as optim\n",
    "import seaborn as sns\n",
    "#import wandb\n",
    "\n",
    "%matplotlib inline"
   ]
  },
  {
   "cell_type": "code",
   "execution_count": null,
   "metadata": {
    "id": "2rEt3kXXxnbx"
   },
   "outputs": [],
   "source": [
    "import tensorflow as tf\n",
    "from tensorflow import keras\n",
    "from tensorflow.keras.models import Sequential\n",
    "from tensorflow.keras.optimizers import Adam, SGD\n",
    "\n",
    "import keras.layers.advanced_activations as advanced_activations\n",
    "import keras.activations as activations\n",
    "import keras.layers as layers\n",
    "from keras.layers import Dense, concatenate\n",
    "from keras.callbacks import EarlyStopping"
   ]
  },
  {
   "cell_type": "code",
   "execution_count": null,
   "metadata": {
    "id": "0vAXnmKfoldJ"
   },
   "outputs": [],
   "source": [
    "def shuffle_weights(model, weights=None):\n",
    "    \"\"\"Randomly permute the weights in `model`, or the given `weights`.\n",
    "    This is a fast approximation of re-initializing the weights of a model.\n",
    "    Assumes weights are distributed independently of the dimensions of the weight tensors\n",
    "      (i.e., the weights have the same distribution along each dimension).\n",
    "    :param Model model: Modify the weights of the given model.\n",
    "    :param list(ndarray) weights: The model's weights will be replaced by a random permutation of these weights.\n",
    "      If `None`, permute the model's current weights.\n",
    "    \"\"\"\n",
    "    if weights is None:\n",
    "        weights = model.get_weights()\n",
    "    weights = [np.random.permutation(w.flat).reshape(w.shape) for w in weights]\n",
    "    # Faster, but less random: only permutes along the first dimension\n",
    "    # weights = [np.random.permutation(w) for w in weights]\n",
    "    model.set_weights(weights)"
   ]
  },
  {
   "cell_type": "code",
   "execution_count": null,
   "metadata": {
    "id": "oVZZtAYAFGIG"
   },
   "outputs": [],
   "source": [
    "import scipy.spatial.distance as distance\n",
    "def plot_mat_accuracy(input, y_hat, y_true):\n",
    "\n",
    "  input = input\n",
    "  y_hat = y_hat\n",
    "  y_true = y_true\n",
    "\n",
    "  dist = distance.cosine(y_hat.flatten(), y_true.flatten())\n",
    "\n",
    "  fig, axs = plt.subplots(1,3)\n",
    "  fig.suptitle('Accuracy: {}'.format(1 - dist))\n",
    "  \n",
    "  axs[0].set_title(\"Input\")\n",
    "  axs[0].matshow(input)\n",
    "\n",
    "  axs[1].set_title(\"Y_hat\")\n",
    "  axs[1].matshow(y_hat)\n",
    "\n",
    "  axs[2].set_title(\"Y_true\")\n",
    "  axs[2].matshow(y_true)\n",
    "  \n",
    "  for ax in axs:\n",
    "    ax.set_xticks([])\n",
    "    ax.set_yticks([])\n",
    "\n",
    "  plt.show()\n",
    "      \n",
    "  return 1 - dist\n",
    "\n",
    "def get_mat_accuracy(y_hat, y_true):\n",
    "  dist = distance.cosine(y_hat.flatten(), y_true.flatten())\n",
    "  return 1 - dist"
   ]
  },
  {
   "cell_type": "markdown",
   "metadata": {
    "id": "ANvE0UlhI5x8"
   },
   "source": [
    "### Data Import"
   ]
  },
  {
   "cell_type": "code",
   "execution_count": null,
   "metadata": {
    "colab": {
     "base_uri": "https://localhost:8080/"
    },
    "id": "zPU8TnrRL1nX",
    "outputId": "9ffae98a-01d2-4609-fd0a-ba5062b0dcb5"
   },
   "outputs": [
    {
     "name": "stdout",
     "output_type": "stream",
     "text": [
      "Mounted at /content/drive/\n",
      "/content/drive/My Drive/SWE\n"
     ]
    }
   ],
   "source": [
    "from google.colab import drive\n",
    "drive.mount('/content/drive/')\n",
    "\n",
    "%cd drive/My\\ Drive/SWE"
   ]
  },
  {
   "cell_type": "code",
   "execution_count": null,
   "metadata": {
    "colab": {
     "base_uri": "https://localhost:8080/"
    },
    "id": "ZQpFsZoyyjnf",
    "outputId": "a4c48d3c-3f60-421b-edb0-9c2284ac2a15"
   },
   "outputs": [
    {
     "name": "stdout",
     "output_type": "stream",
     "text": [
      "(100, 1, 3, 4)\n",
      "(100, 1, 448, 640)\n",
      "(100, 1, 448, 640)\n"
     ]
    }
   ],
   "source": [
    "portate = np.load('datasets/numpy/portate.npy')\n",
    "print(portate.shape)\n",
    "\n",
    "wses = np.load('datasets/numpy/wses.npy')\n",
    "print(wses.shape)\n",
    "\n",
    "btms = np.load('datasets/numpy/btms.npy')\n",
    "print(btms.shape)"
   ]
  },
  {
   "cell_type": "markdown",
   "metadata": {
    "id": "9QhtP9VvTWKn"
   },
   "source": [
    "### CNN"
   ]
  },
  {
   "cell_type": "markdown",
   "metadata": {
    "id": "FiwdUFLBJc9W"
   },
   "source": [
    "#### Data preprocessing"
   ]
  },
  {
   "cell_type": "code",
   "execution_count": null,
   "metadata": {
    "id": "NpcuwOqsWcvr"
   },
   "outputs": [],
   "source": [
    "# Tolgo 2* dimensione che incapsula\n",
    "btms.resize(btms.shape[0], btms.shape[2], btms.shape[3])\n",
    "wses.resize(wses.shape[0], wses.shape[2], wses.shape[3])"
   ]
  },
  {
   "cell_type": "code",
   "execution_count": null,
   "metadata": {
    "id": "chGLfvRU3Dh1"
   },
   "outputs": [],
   "source": [
    "portate.resize(portate.shape[0], portate.shape[2], portate.shape[3])"
   ]
  },
  {
   "cell_type": "code",
   "execution_count": null,
   "metadata": {
    "id": "aIKcr3lk3O0F"
   },
   "outputs": [],
   "source": [
    "# (time index, portata)\n",
    "portate = portate[:, :, [0,2]]"
   ]
  },
  {
   "cell_type": "code",
   "execution_count": null,
   "metadata": {
    "colab": {
     "base_uri": "https://localhost:8080/"
    },
    "id": "-ZUIiccKWJal",
    "outputId": "262b2853-63b8-43f9-b5a8-d294e9f9f982"
   },
   "outputs": [
    {
     "name": "stdout",
     "output_type": "stream",
     "text": [
      "(100, 3, 2)\n",
      "(100, 448, 640)\n",
      "(100, 448, 640)\n"
     ]
    }
   ],
   "source": [
    "print(portate.shape)\n",
    "print(btms.shape)\n",
    "print(wses.shape)"
   ]
  },
  {
   "cell_type": "code",
   "execution_count": null,
   "metadata": {
    "id": "2-TN9lzEulMk"
   },
   "outputs": [],
   "source": [
    "TRAIN_SIZE = int(wses.shape[0] * 0.9)\n",
    "\n",
    "train_indices = np.unique(random.sample(list(range(portate.shape[0])), TRAIN_SIZE))\n",
    "test_indices = [i for i in range(wses.shape[0]) if i not in train_indices]\n",
    "\n",
    "# 2 input, 1 output\n",
    "x_train_img, y_train = btms[train_indices], wses[train_indices]\n",
    "x_train_prt = portate[train_indices]\n",
    "\n",
    "# 2 input, 1 output\n",
    "x_test_img, y_test = btms[test_indices], wses[test_indices]\n",
    "x_test_prt = portate[test_indices]"
   ]
  },
  {
   "cell_type": "code",
   "execution_count": null,
   "metadata": {
    "id": "BEAXaFQFGXtv"
   },
   "outputs": [],
   "source": [
    "# Reshape to channel last\n",
    "x_train_img = x_train_img.reshape(-1, x_train_img.shape[1], x_train_img.shape[2], 1)\n",
    "x_test_img = x_test_img.reshape(-1, x_test_img.shape[1], x_test_img.shape[2], 1)\n",
    "\n",
    "y_train = y_train.reshape(-1, y_train.shape[1], y_train.shape[2], 1)"
   ]
  },
  {
   "cell_type": "markdown",
   "metadata": {
    "id": "E4uTLtU2Vb0X"
   },
   "source": [
    "#### Modeling"
   ]
  },
  {
   "cell_type": "markdown",
   "metadata": {
    "id": "9hbqPNq3kMh-"
   },
   "source": [
    "Parametri piú rilevanti:\n",
    "\n",
    "1.   Convolution Blocks (val_accuracy alta)\n",
    "2.   Neuroni Densi alla fine (immagine chiara)\n",
    "3.   Kernel Size (smoothing + dettagli)\n",
    "4.   Leaky ReLU Slope (smoothing)\n",
    "\n"
   ]
  },
  {
   "cell_type": "code",
   "execution_count": null,
   "metadata": {
    "id": "xReMpvLEHaLu"
   },
   "outputs": [],
   "source": [
    "hyperparameters = dict(\n",
    "    \n",
    "    convolution_blocks = 16, # da 8 comincia a migliorare la val_accuracy!!\n",
    "    dense_blocks = 4,\n",
    "\n",
    "    res_net = False,\n",
    "    skips = 2,\n",
    "\n",
    "    filters = 8,        # X canali in uscita\n",
    "\n",
    "    kernels = (27, 27), # 3 = minimo odd number valido\n",
    "                        # 2 = asimmetrico, filtro irregolare\n",
    "                        # 1 = come se non ci fossero vicini\n",
    "                        # forse un kernel piú grosso aiuta a stabilizzare l'accuracy\n",
    "                       \n",
    "    dense = 1024,\n",
    "    lstm = 16, \n",
    "\n",
    "    epochs = 100,\n",
    "\n",
    "    lrelu_slope = 0.5,\n",
    "\n",
    "    optimizer = \"adam\",  # SGD converge meglio di Adam, ma é molto piú lento\n",
    "    sgd_momentum = 0.9,\n",
    "\n",
    "    learning_rate = 1e-3,\n",
    "    batch_size = 64\n",
    ")"
   ]
  },
  {
   "cell_type": "code",
   "execution_count": null,
   "metadata": {
    "id": "-vH_PnfR7JBF"
   },
   "outputs": [],
   "source": [
    "from tensorflow.keras.models import Sequential\n",
    "from tensorflow.keras.layers import BatchNormalization\n",
    "from tensorflow.keras.layers import Conv2D\n",
    "from tensorflow.keras.layers import MaxPooling2D\n",
    "from tensorflow.keras.layers import AveragePooling2D\n",
    "from tensorflow.keras.layers import Activation\n",
    "from tensorflow.keras.layers import Dropout, Add\n",
    "from tensorflow.keras.layers import Dense, LSTM\n",
    "from tensorflow.keras.layers import Flatten\n",
    "from tensorflow.keras.layers import Input\n",
    "from tensorflow.keras.layers import Reshape\n",
    "from tensorflow.keras.models import Model"
   ]
  },
  {
   "cell_type": "code",
   "execution_count": null,
   "metadata": {
    "id": "O7llZjej8xWn"
   },
   "outputs": [],
   "source": [
    "def feed_forward(config, dim, regress=False):\n",
    "    \n",
    "  inputs = Input(shape = dim)\n",
    "\n",
    "  x = inputs\n",
    "  x = LSTM(config[\"lstm\"])(inputs)\n",
    "  x = layers.Flatten()(x)\n",
    "  x = BatchNormalization()(x)\n",
    "\n",
    "  #x = Dense(16)(x)\n",
    "  #x = layers.LeakyReLU(x)\n",
    "  #x = Dense(32)(x)\n",
    "\n",
    "  return Model(inputs, x)"
   ]
  },
  {
   "cell_type": "code",
   "execution_count": null,
   "metadata": {
    "id": "XgVHcTiQBRTQ"
   },
   "outputs": [],
   "source": [
    "def build_cnn(config, width, height, depth, regress=False):\n",
    "\n",
    "  inputShape = (height, width, depth)\n",
    "  chanDim = -1\n",
    "\n",
    "  inputs = Input(shape = inputShape)\n",
    "\n",
    "  x = inputs\n",
    "\n",
    "  x = BatchNormalization(axis=chanDim)(x)\n",
    "\n",
    "  # 0, 1, 2, 3\n",
    "  for i in range(config[\"convolution_blocks\"]):\n",
    "\n",
    "    x = Conv2D(config[\"filters\"], config[\"kernels\"], padding=\"same\")(x)\n",
    "  \n",
    "    # Inner connections 2 \n",
    "    if config[\"res_net\"]:   \n",
    "      y = Conv2D(config[\"filters\"], config[\"kernels\"], padding=\"same\")(x)\n",
    "      y = BatchNormalization()(y)\n",
    "\n",
    "      for j in range(config[\"skips\"] - 1):\n",
    "        y = Conv2D(config[\"filters\"], config[\"kernels\"], padding=\"same\")(y)\n",
    "        y = BatchNormalization()(y)\n",
    "\n",
    "      # Skip connection\n",
    "      x = Add()([x, y])\n",
    "    \n",
    "    x = BatchNormalization(axis=chanDim)(x)\n",
    "\n",
    "    # Applica N/2 poolings\n",
    "    if i % 2 == 0:\n",
    "      x = AveragePooling2D(2)(x)\n",
    "\n",
    "    #x = layers.LeakyReLU(config[\"lrelu_slope\"])(x)\n",
    "\n",
    "  # Final dense\n",
    "  x = Flatten()(x)\n",
    "\n",
    "  model = Model(inputs, x)\n",
    "\n",
    "  return model"
   ]
  },
  {
   "cell_type": "code",
   "execution_count": null,
   "metadata": {
    "id": "Z6M3Cb1q-gcq"
   },
   "outputs": [],
   "source": [
    "def train(config = None):\n",
    "\n",
    "  #with wandb.init(config = config, project=\"shallow-water-emulations\", entity=\"diego-calanzone\"):\n",
    "        \n",
    "    #config = wandb.config\n",
    "\n",
    "  # Build the network\n",
    "  mlp = feed_forward(config, (portate.shape[1], portate.shape[2]), regress=False)\n",
    "  cnn = build_cnn(config, x_train_img.shape[2], x_train_img.shape[1], x_train_img.shape[3])\n",
    "  combinedInput = concatenate([mlp.output, cnn.output])\n",
    "\n",
    "  # Dense blocks\n",
    "  for i in range(config[\"dense_blocks\"]):\n",
    "    x = Dense(config[\"dense\"])(combinedInput)\n",
    "    x = BatchNormalization()(x)\n",
    "\n",
    "  # Final Reshape\n",
    "  x = Dense(y_train.shape[2] * y_train.shape[1])(x)\n",
    "  x = layers.LeakyReLU(config[\"lrelu_slope\"])(x)\n",
    "\n",
    "  x = Reshape((y_train.shape[1], y_train.shape[2], y_train.shape[3]))(x)\n",
    "\n",
    "  model = Model(inputs=[mlp.input, cnn.input], outputs=x)\n",
    "\n",
    "  # Compile\n",
    "  if config[\"optimizer\"] == 'adam':\n",
    "    opt = Adam(lr=config[\"learning_rate\"])\n",
    "  else:\n",
    "    opt = SGD(lr=config[\"learning_rate\"], momentum=config[\"sgd_momentum\"])\n",
    "\n",
    "  model.compile(loss=\"mean_squared_error\", optimizer=opt, metrics=[\"accuracy\"])\n",
    "  tf.keras.utils.plot_model(model, to_file=\"model_plot.png\", show_shapes=True)\n",
    "\n",
    "  # Train\n",
    "  model.fit(\n",
    "    x = [x_train_prt, x_train_img], \n",
    "    y =  y_train,\n",
    "    validation_data = ([x_test_prt, x_test_img], y_test),\n",
    "    epochs = config[\"epochs\"], \n",
    "    shuffle = 1,\n",
    "    batch_size = config[\"batch_size\"],\n",
    "    verbose = 1,\n",
    "    #callbacks=[WandbCallback()]\n",
    "  )\n",
    "\n",
    "  return model"
   ]
  },
  {
   "cell_type": "code",
   "execution_count": null,
   "metadata": {
    "colab": {
     "base_uri": "https://localhost:8080/"
    },
    "id": "mYcRJan9Iug8",
    "outputId": "d304be78-0cf0-4113-c337-e609bf0283c6"
   },
   "outputs": [
    {
     "name": "stdout",
     "output_type": "stream",
     "text": [
      "Epoch 1/100\n",
      "2/2 [==============================] - 37s 10s/step - loss: 11.9788 - accuracy: 0.7624 - val_loss: 10.5736 - val_accuracy: 0.7905\n",
      "Epoch 2/100\n",
      "2/2 [==============================] - 5s 2s/step - loss: 11.7818 - accuracy: 0.7616 - val_loss: 10.5676 - val_accuracy: 0.7905\n",
      "Epoch 3/100\n",
      "2/2 [==============================] - 5s 2s/step - loss: 11.5618 - accuracy: 0.7588 - val_loss: 10.5634 - val_accuracy: 0.7905\n",
      "Epoch 4/100\n",
      "2/2 [==============================] - 5s 2s/step - loss: 11.2254 - accuracy: 0.7560 - val_loss: 10.5574 - val_accuracy: 0.7905\n",
      "Epoch 5/100\n",
      "2/2 [==============================] - 5s 2s/step - loss: 10.9518 - accuracy: 0.7543 - val_loss: 10.5416 - val_accuracy: 0.7905\n",
      "Epoch 6/100\n",
      "2/2 [==============================] - 5s 2s/step - loss: 10.6876 - accuracy: 0.7538 - val_loss: 10.5139 - val_accuracy: 0.7905\n",
      "Epoch 7/100\n",
      "2/2 [==============================] - 5s 2s/step - loss: 10.4981 - accuracy: 0.7548 - val_loss: 10.4822 - val_accuracy: 0.7905\n",
      "Epoch 8/100\n",
      "2/2 [==============================] - 5s 2s/step - loss: 10.4597 - accuracy: 0.7550 - val_loss: 10.4512 - val_accuracy: 0.7905\n",
      "Epoch 9/100\n",
      "2/2 [==============================] - 5s 2s/step - loss: 10.5758 - accuracy: 0.7542 - val_loss: 10.4243 - val_accuracy: 0.7905\n",
      "Epoch 10/100\n",
      "2/2 [==============================] - 5s 2s/step - loss: 10.5961 - accuracy: 0.7547 - val_loss: 10.4029 - val_accuracy: 0.7905\n",
      "Epoch 11/100\n",
      "2/2 [==============================] - 5s 2s/step - loss: 10.5865 - accuracy: 0.7542 - val_loss: 10.3869 - val_accuracy: 0.7905\n",
      "Epoch 12/100\n",
      "2/2 [==============================] - 5s 2s/step - loss: 10.4768 - accuracy: 0.7559 - val_loss: 10.3733 - val_accuracy: 0.7905\n",
      "Epoch 13/100\n",
      "2/2 [==============================] - 5s 2s/step - loss: 10.4757 - accuracy: 0.7548 - val_loss: 10.3576 - val_accuracy: 0.7905\n",
      "Epoch 14/100\n",
      "2/2 [==============================] - 5s 2s/step - loss: 10.3580 - accuracy: 0.7572 - val_loss: 10.3369 - val_accuracy: 0.7905\n",
      "Epoch 15/100\n",
      "2/2 [==============================] - 5s 2s/step - loss: 10.4337 - accuracy: 0.7567 - val_loss: 10.3049 - val_accuracy: 0.7905\n",
      "Epoch 16/100\n",
      "2/2 [==============================] - 5s 2s/step - loss: 10.4141 - accuracy: 0.7555 - val_loss: 10.2580 - val_accuracy: 0.7905\n",
      "Epoch 17/100\n",
      "2/2 [==============================] - 5s 2s/step - loss: 10.2659 - accuracy: 0.7576 - val_loss: 10.1972 - val_accuracy: 0.7905\n",
      "Epoch 18/100\n",
      "2/2 [==============================] - 5s 2s/step - loss: 10.2808 - accuracy: 0.7556 - val_loss: 10.1228 - val_accuracy: 0.7903\n",
      "Epoch 19/100\n",
      "2/2 [==============================] - 5s 2s/step - loss: 10.2878 - accuracy: 0.7550 - val_loss: 10.0387 - val_accuracy: 0.7756\n",
      "Epoch 20/100\n",
      "2/2 [==============================] - 5s 2s/step - loss: 10.1385 - accuracy: 0.7557 - val_loss: 9.9438 - val_accuracy: 0.7661\n",
      "Epoch 21/100\n",
      "2/2 [==============================] - 5s 2s/step - loss: 10.0638 - accuracy: 0.7555 - val_loss: 9.8380 - val_accuracy: 0.7574\n",
      "Epoch 22/100\n",
      "2/2 [==============================] - 5s 2s/step - loss: 10.0484 - accuracy: 0.7549 - val_loss: 9.7231 - val_accuracy: 0.7450\n",
      "Epoch 23/100\n",
      "2/2 [==============================] - 5s 2s/step - loss: 9.9394 - accuracy: 0.7555 - val_loss: 9.5896 - val_accuracy: 0.7422\n",
      "Epoch 24/100\n",
      "2/2 [==============================] - 5s 2s/step - loss: 9.7577 - accuracy: 0.7555 - val_loss: 9.4476 - val_accuracy: 0.7395\n",
      "Epoch 25/100\n",
      "2/2 [==============================] - 5s 2s/step - loss: 9.6476 - accuracy: 0.7543 - val_loss: 9.2932 - val_accuracy: 0.7376\n",
      "Epoch 26/100\n",
      "2/2 [==============================] - 5s 2s/step - loss: 9.5145 - accuracy: 0.7547 - val_loss: 9.1222 - val_accuracy: 0.7341\n",
      "Epoch 27/100\n",
      "2/2 [==============================] - 5s 2s/step - loss: 9.3026 - accuracy: 0.7553 - val_loss: 8.9303 - val_accuracy: 0.7314\n",
      "Epoch 28/100\n",
      "2/2 [==============================] - 5s 2s/step - loss: 9.1251 - accuracy: 0.7557 - val_loss: 8.7063 - val_accuracy: 0.7289\n",
      "Epoch 29/100\n",
      "2/2 [==============================] - 5s 2s/step - loss: 8.8943 - accuracy: 0.7555 - val_loss: 8.4446 - val_accuracy: 0.7257\n",
      "Epoch 30/100\n",
      "2/2 [==============================] - 5s 2s/step - loss: 8.6388 - accuracy: 0.7556 - val_loss: 8.1460 - val_accuracy: 0.7244\n",
      "Epoch 31/100\n",
      "2/2 [==============================] - 5s 2s/step - loss: 8.3666 - accuracy: 0.7548 - val_loss: 7.8160 - val_accuracy: 0.7233\n",
      "Epoch 32/100\n",
      "2/2 [==============================] - 5s 2s/step - loss: 7.9219 - accuracy: 0.7554 - val_loss: 7.4552 - val_accuracy: 0.7224\n",
      "Epoch 33/100\n",
      "2/2 [==============================] - 5s 2s/step - loss: 7.5160 - accuracy: 0.7539 - val_loss: 7.0590 - val_accuracy: 0.7216\n",
      "Epoch 34/100\n",
      "2/2 [==============================] - 5s 2s/step - loss: 7.0793 - accuracy: 0.7513 - val_loss: 6.6461 - val_accuracy: 0.7207\n",
      "Epoch 35/100\n",
      "2/2 [==============================] - 5s 2s/step - loss: 6.5789 - accuracy: 0.7495 - val_loss: 6.2262 - val_accuracy: 0.7200\n",
      "Epoch 36/100\n",
      "2/2 [==============================] - 5s 2s/step - loss: 6.1051 - accuracy: 0.7478 - val_loss: 5.7953 - val_accuracy: 0.7196\n",
      "Epoch 37/100\n",
      "2/2 [==============================] - 5s 2s/step - loss: 5.5515 - accuracy: 0.7482 - val_loss: 5.3517 - val_accuracy: 0.7191\n",
      "Epoch 38/100\n",
      "2/2 [==============================] - 5s 2s/step - loss: 5.0678 - accuracy: 0.7466 - val_loss: 4.9064 - val_accuracy: 0.7190\n",
      "Epoch 39/100\n",
      "2/2 [==============================] - 5s 2s/step - loss: 4.5241 - accuracy: 0.7458 - val_loss: 4.4693 - val_accuracy: 0.7189\n",
      "Epoch 40/100\n",
      "2/2 [==============================] - 5s 2s/step - loss: 3.9174 - accuracy: 0.7442 - val_loss: 4.0465 - val_accuracy: 0.7188\n",
      "Epoch 41/100\n",
      "2/2 [==============================] - 5s 2s/step - loss: 3.3407 - accuracy: 0.7435 - val_loss: 3.6489 - val_accuracy: 0.7187\n",
      "Epoch 42/100\n",
      "2/2 [==============================] - 5s 2s/step - loss: 2.8433 - accuracy: 0.7416 - val_loss: 3.2790 - val_accuracy: 0.7185\n",
      "Epoch 43/100\n",
      "2/2 [==============================] - 5s 2s/step - loss: 2.3760 - accuracy: 0.7384 - val_loss: 2.9405 - val_accuracy: 0.7184\n",
      "Epoch 44/100\n",
      "2/2 [==============================] - 5s 2s/step - loss: 1.9969 - accuracy: 0.7357 - val_loss: 2.6406 - val_accuracy: 0.7183\n",
      "Epoch 45/100\n",
      "2/2 [==============================] - 5s 2s/step - loss: 1.6751 - accuracy: 0.7346 - val_loss: 2.3862 - val_accuracy: 0.7183\n",
      "Epoch 46/100\n",
      "2/2 [==============================] - 5s 2s/step - loss: 1.3425 - accuracy: 0.7328 - val_loss: 2.1772 - val_accuracy: 0.7181\n",
      "Epoch 47/100\n",
      "2/2 [==============================] - 5s 2s/step - loss: 1.1173 - accuracy: 0.7315 - val_loss: 2.0123 - val_accuracy: 0.7179\n",
      "Epoch 48/100\n",
      "2/2 [==============================] - 5s 2s/step - loss: 0.9283 - accuracy: 0.7306 - val_loss: 1.8899 - val_accuracy: 0.7178\n",
      "Epoch 49/100\n",
      "2/2 [==============================] - 5s 2s/step - loss: 0.7888 - accuracy: 0.7308 - val_loss: 1.8062 - val_accuracy: 0.7178\n",
      "Epoch 50/100\n",
      "2/2 [==============================] - 5s 2s/step - loss: 0.6900 - accuracy: 0.7305 - val_loss: 1.7540 - val_accuracy: 0.7179\n",
      "Epoch 51/100\n",
      "2/2 [==============================] - 5s 2s/step - loss: 0.6370 - accuracy: 0.7309 - val_loss: 1.7266 - val_accuracy: 0.7182\n",
      "Epoch 52/100\n",
      "2/2 [==============================] - 5s 2s/step - loss: 0.6143 - accuracy: 0.7304 - val_loss: 1.7161 - val_accuracy: 0.7183\n",
      "Epoch 53/100\n",
      "2/2 [==============================] - 5s 2s/step - loss: 0.6556 - accuracy: 0.7300 - val_loss: 1.7162 - val_accuracy: 0.7183\n",
      "Epoch 54/100\n",
      "2/2 [==============================] - 5s 2s/step - loss: 0.6029 - accuracy: 0.7301 - val_loss: 1.7218 - val_accuracy: 0.7183\n",
      "Epoch 55/100\n",
      "2/2 [==============================] - 5s 2s/step - loss: 0.6179 - accuracy: 0.7297 - val_loss: 1.7257 - val_accuracy: 0.7183\n",
      "Epoch 56/100\n",
      "2/2 [==============================] - 5s 2s/step - loss: 0.6088 - accuracy: 0.7301 - val_loss: 1.7253 - val_accuracy: 0.7183\n",
      "Epoch 57/100\n",
      "2/2 [==============================] - 5s 2s/step - loss: 0.6151 - accuracy: 0.7304 - val_loss: 1.7198 - val_accuracy: 0.7183\n",
      "Epoch 58/100\n",
      "2/2 [==============================] - 5s 2s/step - loss: 0.6100 - accuracy: 0.7305 - val_loss: 1.7086 - val_accuracy: 0.7184\n",
      "Epoch 59/100\n",
      "2/2 [==============================] - 5s 2s/step - loss: 0.6187 - accuracy: 0.7309 - val_loss: 1.6930 - val_accuracy: 0.7186\n",
      "Epoch 60/100\n",
      "2/2 [==============================] - 5s 2s/step - loss: 0.5804 - accuracy: 0.7307 - val_loss: 1.6753 - val_accuracy: 0.7188\n",
      "Epoch 61/100\n",
      "2/2 [==============================] - 5s 2s/step - loss: 0.5868 - accuracy: 0.7312 - val_loss: 1.6560 - val_accuracy: 0.7191\n",
      "Epoch 62/100\n",
      "2/2 [==============================] - 5s 2s/step - loss: 0.6051 - accuracy: 0.7318 - val_loss: 1.6365 - val_accuracy: 0.7194\n",
      "Epoch 63/100\n",
      "2/2 [==============================] - 5s 2s/step - loss: 0.5815 - accuracy: 0.7312 - val_loss: 1.6211 - val_accuracy: 0.7195\n",
      "Epoch 64/100\n",
      "2/2 [==============================] - 5s 2s/step - loss: 0.5745 - accuracy: 0.7321 - val_loss: 1.6099 - val_accuracy: 0.7195\n",
      "Epoch 65/100\n",
      "2/2 [==============================] - 5s 2s/step - loss: 0.5685 - accuracy: 0.7329 - val_loss: 1.6012 - val_accuracy: 0.7196\n",
      "Epoch 66/100\n",
      "2/2 [==============================] - 5s 2s/step - loss: 0.5709 - accuracy: 0.7331 - val_loss: 1.5948 - val_accuracy: 0.7196\n",
      "Epoch 67/100\n",
      "2/2 [==============================] - 5s 2s/step - loss: 0.5682 - accuracy: 0.7329 - val_loss: 1.5905 - val_accuracy: 0.7196\n",
      "Epoch 68/100\n",
      "2/2 [==============================] - 5s 2s/step - loss: 0.5562 - accuracy: 0.7331 - val_loss: 1.5879 - val_accuracy: 0.7196\n",
      "Epoch 69/100\n",
      "2/2 [==============================] - 5s 2s/step - loss: 0.5938 - accuracy: 0.7320 - val_loss: 1.5866 - val_accuracy: 0.7196\n",
      "Epoch 70/100\n",
      "2/2 [==============================] - 5s 2s/step - loss: 0.5635 - accuracy: 0.7336 - val_loss: 1.5866 - val_accuracy: 0.7195\n",
      "Epoch 71/100\n",
      "2/2 [==============================] - 5s 2s/step - loss: 0.5852 - accuracy: 0.7327 - val_loss: 1.5866 - val_accuracy: 0.7195\n",
      "Epoch 72/100\n",
      "2/2 [==============================] - 5s 2s/step - loss: 0.5776 - accuracy: 0.7333 - val_loss: 1.5875 - val_accuracy: 0.7196\n",
      "Epoch 73/100\n",
      "2/2 [==============================] - 5s 2s/step - loss: 0.5636 - accuracy: 0.7330 - val_loss: 1.5893 - val_accuracy: 0.7196\n",
      "Epoch 74/100\n",
      "2/2 [==============================] - 5s 2s/step - loss: 0.5692 - accuracy: 0.7327 - val_loss: 1.5908 - val_accuracy: 0.7196\n",
      "Epoch 75/100\n",
      "2/2 [==============================] - 5s 2s/step - loss: 0.5683 - accuracy: 0.7331 - val_loss: 1.5921 - val_accuracy: 0.7196\n",
      "Epoch 76/100\n",
      "2/2 [==============================] - 5s 2s/step - loss: 0.5725 - accuracy: 0.7325 - val_loss: 1.5938 - val_accuracy: 0.7197\n",
      "Epoch 77/100\n",
      "2/2 [==============================] - 5s 2s/step - loss: 0.5605 - accuracy: 0.7329 - val_loss: 1.5960 - val_accuracy: 0.7197\n",
      "Epoch 78/100\n",
      "2/2 [==============================] - 5s 2s/step - loss: 0.5720 - accuracy: 0.7319 - val_loss: 1.5980 - val_accuracy: 0.7197\n",
      "Epoch 79/100\n",
      "2/2 [==============================] - 5s 2s/step - loss: 0.5773 - accuracy: 0.7330 - val_loss: 1.6006 - val_accuracy: 0.7197\n",
      "Epoch 80/100\n",
      "2/2 [==============================] - 5s 2s/step - loss: 0.5687 - accuracy: 0.7321 - val_loss: 1.6025 - val_accuracy: 0.7197\n",
      "Epoch 81/100\n",
      "2/2 [==============================] - 5s 2s/step - loss: 0.5591 - accuracy: 0.7319 - val_loss: 1.6034 - val_accuracy: 0.7197\n",
      "Epoch 82/100\n",
      "2/2 [==============================] - 5s 2s/step - loss: 0.5793 - accuracy: 0.7322 - val_loss: 1.6038 - val_accuracy: 0.7197\n",
      "Epoch 83/100\n",
      "2/2 [==============================] - 5s 2s/step - loss: 0.5578 - accuracy: 0.7322 - val_loss: 1.6051 - val_accuracy: 0.7197\n",
      "Epoch 84/100\n",
      "2/2 [==============================] - 5s 2s/step - loss: 0.5727 - accuracy: 0.7317 - val_loss: 1.6055 - val_accuracy: 0.7197\n",
      "Epoch 85/100\n",
      "2/2 [==============================] - 5s 2s/step - loss: 0.5699 - accuracy: 0.7325 - val_loss: 1.6056 - val_accuracy: 0.7197\n",
      "Epoch 86/100\n",
      "2/2 [==============================] - 5s 2s/step - loss: 0.5647 - accuracy: 0.7328 - val_loss: 1.6042 - val_accuracy: 0.7197\n",
      "Epoch 87/100\n",
      "2/2 [==============================] - 5s 2s/step - loss: 0.5408 - accuracy: 0.7321 - val_loss: 1.6029 - val_accuracy: 0.7197\n",
      "Epoch 88/100\n",
      "2/2 [==============================] - 5s 2s/step - loss: 0.5829 - accuracy: 0.7334 - val_loss: 1.6010 - val_accuracy: 0.7196\n",
      "Epoch 89/100\n",
      "2/2 [==============================] - 5s 2s/step - loss: 0.5641 - accuracy: 0.7332 - val_loss: 1.5996 - val_accuracy: 0.7197\n",
      "Epoch 90/100\n",
      "2/2 [==============================] - 5s 2s/step - loss: 0.5671 - accuracy: 0.7326 - val_loss: 1.5982 - val_accuracy: 0.7198\n",
      "Epoch 91/100\n",
      "2/2 [==============================] - 5s 2s/step - loss: 0.5661 - accuracy: 0.7322 - val_loss: 1.5975 - val_accuracy: 0.7198\n",
      "Epoch 92/100\n",
      "2/2 [==============================] - 5s 2s/step - loss: 0.5844 - accuracy: 0.7332 - val_loss: 1.5977 - val_accuracy: 0.7197\n",
      "Epoch 93/100\n",
      "2/2 [==============================] - 5s 2s/step - loss: 0.6112 - accuracy: 0.7298 - val_loss: 1.5994 - val_accuracy: 0.7197\n",
      "Epoch 94/100\n",
      "2/2 [==============================] - 5s 2s/step - loss: 0.5638 - accuracy: 0.7321 - val_loss: 1.6023 - val_accuracy: 0.7196\n",
      "Epoch 95/100\n",
      "2/2 [==============================] - 5s 2s/step - loss: 0.5642 - accuracy: 0.7314 - val_loss: 1.6039 - val_accuracy: 0.7195\n",
      "Epoch 96/100\n",
      "2/2 [==============================] - 5s 2s/step - loss: 0.5629 - accuracy: 0.7313 - val_loss: 1.6058 - val_accuracy: 0.7194\n",
      "Epoch 97/100\n",
      "2/2 [==============================] - 5s 2s/step - loss: 0.6008 - accuracy: 0.7307 - val_loss: 1.6080 - val_accuracy: 0.7193\n",
      "Epoch 98/100\n",
      "2/2 [==============================] - 5s 2s/step - loss: 0.5523 - accuracy: 0.7302 - val_loss: 1.6108 - val_accuracy: 0.7193\n",
      "Epoch 99/100\n",
      "2/2 [==============================] - 5s 2s/step - loss: 0.5745 - accuracy: 0.7303 - val_loss: 1.6125 - val_accuracy: 0.7192\n",
      "Epoch 100/100\n",
      "2/2 [==============================] - 5s 2s/step - loss: 0.6119 - accuracy: 0.7299 - val_loss: 1.6153 - val_accuracy: 0.7193\n"
     ]
    }
   ],
   "source": [
    "model = train(hyperparameters)"
   ]
  },
  {
   "cell_type": "code",
   "execution_count": null,
   "metadata": {
    "colab": {
     "base_uri": "https://localhost:8080/"
    },
    "id": "DANHWDue5Lw_",
    "outputId": "2905a7a3-63c4-409c-a494-4f950f6e3a37"
   },
   "outputs": [
    {
     "name": "stdout",
     "output_type": "stream",
     "text": [
      "1/1 [==============================] - 0s 200ms/step - loss: 1.6153 - accuracy: 0.7193\n"
     ]
    },
    {
     "data": {
      "text/plain": [
       "[1.61528742313385, 0.7192658185958862]"
      ]
     },
     "execution_count": 21,
     "metadata": {
      "tags": []
     },
     "output_type": "execute_result"
    }
   ],
   "source": [
    "model.evaluate([x_test_prt, x_test_img], y_test)"
   ]
  },
  {
   "cell_type": "code",
   "execution_count": null,
   "metadata": {
    "colab": {
     "base_uri": "https://localhost:8080/",
     "height": 281
    },
    "id": "FI06vniKXCY-",
    "outputId": "3398f0a8-0406-4290-dd37-616ba58d90fe"
   },
   "outputs": [
    {
     "data": {
      "image/png": "[encoded data removed]",
      "text/plain": [
       "<Figure size 432x288 with 1 Axes>"
      ]
     },
     "metadata": {
      "needs_background": "light",
      "tags": []
     },
     "output_type": "display_data"
    }
   ],
   "source": [
    "acc = []\n",
    "\n",
    "for i in range(x_train_img.shape[0]):\n",
    "  predict = model.predict([np.array([x_train_prt[i]]), np.array([x_train_img[i]])])\n",
    "  \n",
    "  # Accuracy\n",
    "  acc.append(get_mat_accuracy(predict.reshape(448, 640), y_train[i].reshape(448, 640)))\n",
    "  \n",
    "  # portata, altezza media prevista\n",
    "  plt.scatter(x_train_prt[i][1][1], np.mean(predict))\n",
    "\n",
    "avg_acc = round(np.mean(acc)*100, 2)\n",
    "plt.title(\"TRAIN Portata-Altezza media predetta (acc: {}%)\".format(avg_acc))\n",
    "\n",
    "plt.show()"
   ]
  },
  {
   "cell_type": "code",
   "execution_count": null,
   "metadata": {
    "colab": {
     "base_uri": "https://localhost:8080/",
     "height": 281
    },
    "id": "vhgCVy-CqhNM",
    "outputId": "0f821077-d3f4-4fcd-d562-ad87293db5ea"
   },
   "outputs": [
    {
     "data": {
      "image/png": "[encoded data removed]",
      "text/plain": [
       "<Figure size 432x288 with 1 Axes>"
      ]
     },
     "metadata": {
      "needs_background": "light",
      "tags": []
     },
     "output_type": "display_data"
    }
   ],
   "source": [
    "plt.title(\"TEST Portata-Altezza media predetta\")\n",
    "acc = []\n",
    "\n",
    "for i in range(x_test_img.shape[0]):\n",
    "  predict = model.predict([np.array([x_test_prt[i]]), np.array([x_test_img[i]])])\n",
    "  \n",
    "  # Accuracy\n",
    "  acc.append(get_mat_accuracy(predict.reshape(448, 640), y_test[i].reshape(448, 640)))\n",
    "  \n",
    "  # portata, altezza media prevista\n",
    "  plt.scatter(x_test_prt[i][1][1], np.mean(predict))\n",
    "\n",
    "avg_acc = round(np.mean(acc)*100, 2)\n",
    "plt.title(\"TEST Portata-Altezza media predetta (acc: {}%)\".format(avg_acc))\n",
    "\n",
    "plt.show()"
   ]
  },
  {
   "cell_type": "code",
   "execution_count": null,
   "metadata": {
    "colab": {
     "base_uri": "https://localhost:8080/"
    },
    "id": "_QFL6iZGPleg",
    "outputId": "c1e02518-70cc-4cb6-ce40-34d3e88069d6"
   },
   "outputs": [
    {
     "data": {
      "text/plain": [
       "<matplotlib.image.AxesImage at 0x7f3bd0136240>"
      ]
     },
     "execution_count": 24,
     "metadata": {
      "tags": []
     },
     "output_type": "execute_result"
    },
    {
     "data": {
      "image/png": "[encoded data removed]",
      "text/plain": [
       "<Figure size 411.429x288 with 1 Axes>"
      ]
     },
     "metadata": {
      "needs_background": "light",
      "tags": []
     },
     "output_type": "display_data"
    }
   ],
   "source": [
    "plt.matshow(model.predict([np.array([x_test_prt[5]]), np.array([x_test_img[5]])]).reshape(448, 640))"
   ]
  },
  {
   "cell_type": "code",
   "execution_count": null,
   "metadata": {
    "id": "x7EM0eU21enM"
   },
   "outputs": [],
   "source": []
  }
 ],
 "metadata": {
  "accelerator": "GPU",
  "colab": {
   "collapsed_sections": [],
   "name": "06-res-cnn-lstm-depth.ipynb",
   "provenance": []
  },
  "kernelspec": {
   "display_name": "Python 3",
   "language": "python",
   "name": "python3"
  },
  "language_info": {
   "codemirror_mode": {
    "name": "ipython",
    "version": 3
   },
   "file_extension": ".py",
   "mimetype": "text/x-python",
   "name": "python",
   "nbconvert_exporter": "python",
   "pygments_lexer": "ipython3",
   "version": "3.6.13"
  }
 },
 "nbformat": 4,
 "nbformat_minor": 1
}
