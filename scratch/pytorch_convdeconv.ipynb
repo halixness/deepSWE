{
 "cells": [
  {
   "cell_type": "code",
   "execution_count": 1,
   "metadata": {},
   "outputs": [],
   "source": [
    "import numpy as np\n",
    "import os\n",
    "from pathlib import Path\n",
    "import tqdm\n",
    "import matplotlib.pyplot as plt\n",
    "import random\n",
    "import tqdm \n",
    "\n",
    "%matplotlib inline"
   ]
  },
  {
   "cell_type": "code",
   "execution_count": 2,
   "metadata": {},
   "outputs": [
    {
     "name": "stderr",
     "output_type": "stream",
     "text": [
      "100%|██████████| 2/2 [00:00<00:00,  4.32it/s]\n"
     ]
    }
   ],
   "source": [
    "root = \"../datasets/baganza/\"\n",
    "minis =  os.listdir(root)\n",
    "minis = [x for x in sorted(minis) if x.startswith(\"mini-\")]\n",
    "data = None\n",
    "\n",
    "minis = minis[:2]\n",
    "\n",
    "for mini in tqdm.tqdm(minis):\n",
    "    d = np.load(root + mini)\n",
    "    d.resize(1, d.shape[0], d.shape[1], d.shape[2])\n",
    "    d[d > 10e5] = 0\n",
    "    \n",
    "    if data is None: data = d\n",
    "    else: data = np.concatenate((data, d))"
   ]
  },
  {
   "cell_type": "code",
   "execution_count": 8,
   "metadata": {},
   "outputs": [
    {
     "data": {
      "text/plain": [
       "Text(0.5, 1.0, 'Average DEP')"
      ]
     },
     "execution_count": 8,
     "metadata": {},
     "output_type": "execute_result"
    },
    {
     "data": {
      "image/png": "[encoded data removed]",
      "text/plain": [
       "<Figure size 432x288 with 1 Axes>"
      ]
     },
     "metadata": {
      "needs_background": "light"
     },
     "output_type": "display_data"
    }
   ],
   "source": [
    "plt.plot(range(1000), [np.mean(x) for x in data[0]])\n",
    "plt.title(\"Average DEP\")"
   ]
  },
  {
   "cell_type": "code",
   "execution_count": 3,
   "metadata": {},
   "outputs": [],
   "source": [
    "indices = [(300, 800), (300, 800), (390, 900), (300, 800), (390, 900), (390, 850), (350, 800), (350, 900)]\n",
    "dataset = []\n",
    "for i, d in enumerate(data):\n",
    "     dataset.append(d[indices[i][0]:indices[i][1]])"
   ]
  },
  {
   "cell_type": "code",
   "execution_count": 4,
   "metadata": {},
   "outputs": [],
   "source": [
    "import torch.nn as nn\n",
    "import torch.nn.functional as F\n",
    "import torch"
   ]
  },
  {
   "cell_type": "code",
   "execution_count": 20,
   "metadata": {},
   "outputs": [],
   "source": [
    "if torch.cuda.is_available():  \n",
    "  dev = \"cuda:0\"\n",
    "else:\n",
    "  dev = \"cpu\"\n",
    "\n",
    "device = torch.device(dev)"
   ]
  },
  {
   "cell_type": "code",
   "execution_count": 172,
   "metadata": {},
   "outputs": [],
   "source": [
    "class CNNet(torch.nn.Module):\n",
    "    \n",
    "    def __init__(self):\n",
    "        super(CNNet, self).__init__()\n",
    "        \n",
    "        # [batch * channel(# of channels of each image) * depth(# of frames) * height * width]\n",
    "        self.conv1 = nn.Conv3d(1, 32, kernel_size=3, padding=1)\n",
    "        self.pool1 = nn.AvgPool3d(kernel_size=2)\n",
    "        \n",
    "        self.conv2 = nn.Conv3d(32, 64, kernel_size=3, padding=1)\n",
    "        self.pool2 = nn.AvgPool3d(kernel_size=2)\n",
    "        \n",
    "        self.deconv1 = nn.ConvTranspose3d(64, 32, kernel_size=3, stride=2, padding=1, output_padding=1)\n",
    "        self.deconv2 = nn.ConvTranspose3d(32, 1, kernel_size=3, stride=2, padding=1, output_padding=1)\n",
    "        \n",
    "    def forward(self, x):\n",
    "        \n",
    "        x = F.relu(self.conv1(x))\n",
    "        x = self.pool1(x)\n",
    "        \n",
    "        x = F.relu(self.conv2(x))\n",
    "        x = self.pool2(x)\n",
    "        \n",
    "        x = F.relu(self.deconv1(x))\n",
    "        x = F.relu(self.deconv2(x))\n",
    "        \n",
    "        return x\n",
    "\n",
    "net = CNNet().to(device)"
   ]
  },
  {
   "cell_type": "code",
   "execution_count": 173,
   "metadata": {},
   "outputs": [],
   "source": [
    "import torch.optim as optim\n",
    "from torchvision import transforms, utils\n",
    "\n",
    "criterion = nn.MSELoss()\n",
    "optimizer = optim.Adam(net.parameters(), lr=0.001)"
   ]
  },
  {
   "cell_type": "code",
   "execution_count": 174,
   "metadata": {},
   "outputs": [
    {
     "data": {
      "text/plain": [
       "(500, 256, 256)"
      ]
     },
     "execution_count": 174,
     "metadata": {},
     "output_type": "execute_result"
    }
   ],
   "source": [
    "dataset[0].shape"
   ]
  },
  {
   "cell_type": "code",
   "execution_count": 184,
   "metadata": {},
   "outputs": [
    {
     "name": "stdout",
     "output_type": "stream",
     "text": [
      "Loss 0.11309884488582611\n",
      "Loss 0.0998082160949707\n",
      "Loss 0.08636477589607239\n",
      "Loss 0.07492600381374359\n",
      "Loss 0.0669182538986206\n",
      "Loss 0.06300608813762665\n",
      "Loss 0.06328588724136353\n",
      "Loss 0.06729626655578613\n",
      "Loss 0.07439849525690079\n",
      "Loss 0.08400967717170715\n",
      "Loss 0.09559723734855652\n",
      "Loss 0.10870669782161713\n",
      "Loss 0.12279210984706879\n",
      "Loss 0.13735774159431458\n",
      "Loss 0.15191788971424103\n",
      "Loss 0.16619455814361572\n",
      "Loss 0.17995214462280273\n",
      "Loss 0.19278918206691742\n",
      "Loss 0.20399656891822815\n",
      "Loss 0.21396386623382568\n",
      "Loss 0.2231752872467041\n",
      "Loss 0.2318190038204193\n",
      "Loss 0.2400413602590561\n",
      "Loss 0.24798160791397095\n",
      "Loss 0.25565963983535767\n",
      "Loss 0.2631394863128662\n",
      "Loss 0.2704524099826813\n",
      "Loss 0.2775830030441284\n",
      "Loss 0.284490168094635\n",
      "Loss 0.2911497950553894\n",
      "Loss 0.2975579798221588\n",
      "Loss 0.3037317097187042\n",
      "Loss 0.30972447991371155\n",
      "Loss 0.31561699509620667\n",
      "Loss 0.3214784264564514\n",
      "Loss 0.32732534408569336\n",
      "Loss 0.3332131505012512\n",
      "Loss 0.33916470408439636\n",
      "Loss 0.34514766931533813\n",
      "Loss 0.3511987626552582\n",
      "Loss 0.357127845287323\n",
      "Loss 0.3627963960170746\n",
      "Loss 0.3680211901664734\n",
      "Loss 0.37280869483947754\n",
      "Loss 0.37718284130096436\n",
      "Loss 0.38099706172943115\n",
      "Loss 0.3842707872390747\n",
      "Loss 0.38725006580352783\n",
      "Loss 0.39030948281288147\n",
      "Loss 0.39368337392807007\n",
      "Loss 0.397519588470459\n",
      "Loss 0.4013890326023102\n",
      "Loss 0.40486907958984375\n",
      "Loss 0.40775957703590393\n",
      "Loss 0.4100363850593567\n",
      "Loss 0.41193443536758423\n",
      "Loss 0.41372600197792053\n",
      "Loss 0.41557037830352783\n",
      "Loss 0.4176173210144043\n",
      "Loss 0.41986283659935\n",
      "Loss 0.422136127948761\n",
      "Loss 0.42459508776664734\n",
      "Loss 0.42732226848602295\n",
      "Loss 0.4301688075065613\n",
      "Loss 0.4328990578651428\n",
      "Loss 0.43528875708580017\n",
      "Loss 0.4371181130409241\n",
      "Loss 0.4381446838378906\n",
      "Loss 0.43802160024642944\n",
      "Loss 0.4366024434566498\n",
      "Loss 0.4339698553085327\n",
      "Loss 0.4302869737148285\n",
      "Loss 0.42582911252975464\n",
      "Loss 0.4210488498210907\n",
      "Loss 0.4164196252822876\n",
      "Loss 0.4126266837120056\n",
      "Loss 0.4104338586330414\n",
      "Loss 0.41068196296691895\n",
      "Loss 0.4144248962402344\n",
      "Loss 0.4229273796081543\n",
      "Loss 0.43744760751724243\n",
      "Loss 0.4587738513946533\n",
      "Loss 0.4865480363368988\n",
      "Loss 0.5188769102096558\n",
      "Loss 0.5517928600311279\n",
      "Loss 0.5795363187789917\n",
      "Loss 0.5963809490203857\n",
      "Loss 0.5987913608551025\n",
      "Loss 0.5873023867607117\n",
      "Loss 0.5635671615600586\n",
      "Loss 0.5307008028030396\n",
      "Loss 0.49336984753608704\n",
      "Loss 0.45602551102638245\n",
      "Loss 0.42168062925338745\n",
      "Loss 0.3926529288291931\n",
      "Loss 0.3703874349594116\n",
      "Loss 0.3559427857398987\n",
      "Loss 0.34896355867385864\n",
      "Loss 0.3485504984855652\n",
      "Loss 0.3540519177913666\n",
      "Loss 0.3646083474159241\n",
      "Loss 0.3791067600250244\n",
      "Loss 0.39644551277160645\n",
      "Loss 0.4157179296016693\n",
      "Loss 0.4360826313495636\n",
      "Loss 0.4567229747772217\n",
      "Loss 0.4770916998386383\n",
      "Loss 0.4966989755630493\n",
      "Loss 0.5152208805084229\n",
      "Loss 0.5324798226356506\n",
      "Loss 0.5478129386901855\n",
      "Loss 0.5594978928565979\n",
      "Loss 0.5662122964859009\n",
      "Loss 0.5704659819602966\n",
      "Loss 0.5739808082580566\n",
      "Loss 0.5771458745002747\n",
      "Loss 0.5799113512039185\n",
      "Loss 0.5823216438293457\n",
      "Loss 0.5844905376434326\n",
      "Loss 0.586442232131958\n",
      "Loss 0.5881935358047485\n",
      "Loss 0.5897336602210999\n",
      "Loss 0.5910546183586121\n",
      "Loss 0.5921663045883179\n",
      "Loss 0.5930861234664917\n",
      "Loss 0.5938414335250854\n",
      "Loss 0.5943832397460938\n",
      "Loss 0.5946750640869141\n",
      "Loss 0.5947623252868652\n",
      "Loss 0.5946602821350098\n",
      "Loss 0.5944453477859497\n",
      "Loss 0.5942226648330688\n",
      "Loss 0.5941257476806641\n",
      "Loss 0.5942472219467163\n",
      "Loss 0.5949124693870544\n",
      "Loss 0.596237063407898\n",
      "Loss 0.598132312297821\n",
      "Loss 0.6007362008094788\n",
      "Loss 0.6040279865264893\n",
      "Loss 0.607743501663208\n",
      "Loss 0.6113616228103638\n",
      "Loss 0.6142610907554626\n",
      "Loss 0.6158578395843506\n",
      "Loss 0.6159359812736511\n",
      "Loss 0.6146548986434937\n",
      "Loss 0.6121931672096252\n",
      "Loss 0.6088745594024658\n",
      "Loss 0.6051684617996216\n",
      "Loss 0.6014474034309387\n",
      "Loss 0.5977315902709961\n",
      "Loss 0.5939925909042358\n",
      "Loss 0.5903644561767578\n",
      "Loss 0.5869618654251099\n",
      "Loss 0.5837274789810181\n",
      "Loss 0.5807728171348572\n",
      "Loss 0.578083336353302\n",
      "Loss 0.5755635499954224\n",
      "Loss 0.5731836557388306\n",
      "Loss 0.5709307193756104\n",
      "Loss 0.5687388181686401\n",
      "Loss 0.5664734840393066\n",
      "Loss 0.5641564130783081\n",
      "Loss 0.5617265701293945\n"
     ]
    },
    {
     "ename": "KeyboardInterrupt",
     "evalue": "",
     "output_type": "error",
     "traceback": [
      "\u001b[0;31m---------------------------------------------------------------------------\u001b[0m",
      "\u001b[0;31mKeyboardInterrupt\u001b[0m                         Traceback (most recent call last)",
      "\u001b[0;32m<ipython-input-184-a3ef4003c169>\u001b[0m in \u001b[0;36m<module>\u001b[0;34m\u001b[0m\n\u001b[1;32m     32\u001b[0m         \u001b[0moptimizer\u001b[0m\u001b[0;34m.\u001b[0m\u001b[0mstep\u001b[0m\u001b[0;34m(\u001b[0m\u001b[0;34m)\u001b[0m\u001b[0;34m\u001b[0m\u001b[0;34m\u001b[0m\u001b[0m\n\u001b[1;32m     33\u001b[0m \u001b[0;34m\u001b[0m\u001b[0m\n\u001b[0;32m---> 34\u001b[0;31m         \u001b[0mepoch_loss\u001b[0m\u001b[0;34m.\u001b[0m\u001b[0mappend\u001b[0m\u001b[0;34m(\u001b[0m\u001b[0mloss\u001b[0m\u001b[0;34m.\u001b[0m\u001b[0mitem\u001b[0m\u001b[0;34m(\u001b[0m\u001b[0;34m)\u001b[0m\u001b[0;34m)\u001b[0m\u001b[0;34m\u001b[0m\u001b[0;34m\u001b[0m\u001b[0m\n\u001b[0m\u001b[1;32m     35\u001b[0m \u001b[0;34m\u001b[0m\u001b[0m\n\u001b[1;32m     36\u001b[0m         \u001b[0;31m#print(np.mean(np.abs(y_hat.cpu().detach().numpy() - y.cpu().detach().numpy()) / y.cpu().detach().numpy()))\u001b[0m\u001b[0;34m\u001b[0m\u001b[0;34m\u001b[0m\u001b[0;34m\u001b[0m\u001b[0m\n",
      "\u001b[0;31mKeyboardInterrupt\u001b[0m: "
     ]
    }
   ],
   "source": [
    "losses = []\n",
    "epochs = 2\n",
    "\n",
    "past_frames = 10\n",
    "future_frames = 8\n",
    "\n",
    "for epoch in range(2):\n",
    "    \n",
    "    epoch_loss = []\n",
    "    \n",
    "    for i in range(len(dataset[0]) - past_frames - future_frames):\n",
    "        \n",
    "        # [batch * channel(# of channels of each image) * depth(# of frames) * height * width]\n",
    "\n",
    "        x = dataset[0][i:i + past_frames]\n",
    "        x = torch.FloatTensor(x).expand(1, 1, -1, -1, -1).to(device)\n",
    "        \n",
    "        y = dataset[0][i + past_frames:i + past_frames + future_frames]\n",
    "        y = torch.FloatTensor(y).expand(1, 1, -1, -1, -1).to(device)\n",
    "\n",
    "        #sample = torch.FloatTensor(in_x).to(device)\n",
    "        #y = torch.FloatTensor(out_x).flatten().to(device)\n",
    "\n",
    "        # Compute\n",
    "        y_hat = net(\n",
    "            x\n",
    "        ).to(device)\n",
    "\n",
    "        # Loss\n",
    "        loss = criterion(y_hat, y)\n",
    "        loss.backward()\n",
    "        optimizer.step()\n",
    "\n",
    "        epoch_loss.append(loss.item())\n",
    "\n",
    "        print(\"Loss {}\".format(loss.item()))\n",
    "\n",
    "    avg = np.asarray(epoch_loss).mean()\n",
    "    losses.append(avg)\n",
    "    print(\"Epoch {} - avg.loss: {}\".format(epoch, avg))"
   ]
  },
  {
   "cell_type": "code",
   "execution_count": null,
   "metadata": {},
   "outputs": [],
   "source": []
  },
  {
   "cell_type": "code",
   "execution_count": null,
   "metadata": {},
   "outputs": [],
   "source": []
  }
 ],
 "metadata": {
  "kernelspec": {
   "display_name": "Python 3",
   "language": "python",
   "name": "python3"
  },
  "language_info": {
   "codemirror_mode": {
    "name": "ipython",
    "version": 3
   },
   "file_extension": ".py",
   "mimetype": "text/x-python",
   "name": "python",
   "nbconvert_exporter": "python",
   "pygments_lexer": "ipython3",
   "version": "3.6.13"
  }
 },
 "nbformat": 4,
 "nbformat_minor": 4
}
