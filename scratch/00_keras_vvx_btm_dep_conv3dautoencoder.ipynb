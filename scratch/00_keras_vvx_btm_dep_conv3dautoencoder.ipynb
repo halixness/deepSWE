{
 "cells": [
  {
   "cell_type": "markdown",
   "metadata": {
    "id": "uOrQRxzKLbIn"
   },
   "source": [
    "### Drive Mount"
   ]
  },
  {
   "cell_type": "code",
   "execution_count": 1,
   "metadata": {
    "colab": {
     "base_uri": "https://localhost:8080/"
    },
    "executionInfo": {
     "elapsed": 859,
     "status": "ok",
     "timestamp": 1617313788517,
     "user": {
      "displayName": "Diego Calanzone",
      "photoUrl": "https://lh3.googleusercontent.com/a-/AOh14GiQl0xsN1aGzFIsLt4pNGlQEMoZ6T8dphFIbVB4zQ=s64",
      "userId": "03698100722566364493"
     },
     "user_tz": -120
    },
    "id": "BPahoB3ELY1f",
    "outputId": "ba6c340e-362c-4445-8c0b-d181689c35fb"
   },
   "outputs": [],
   "source": [
    "from utils.dataloader import DataPartitions, DataGenerator\n",
    "import numpy as np\n",
    "from sklearn.preprocessing import StandardScaler\n",
    "from sklearn.model_selection import train_test_split"
   ]
  },
  {
   "cell_type": "code",
   "execution_count": 2,
   "metadata": {},
   "outputs": [],
   "source": [
    "partitions = DataPartitions(\n",
    "    past_frames=4, \n",
    "    future_frames=4, \n",
    "    root=\"../datasets/arda/04_21_full/\",\n",
    "    partial = 0.3\n",
    ")"
   ]
  },
  {
   "cell_type": "code",
   "execution_count": 3,
   "metadata": {},
   "outputs": [],
   "source": [
    "dataset = DataGenerator(\n",
    "    root=\"../datasets/arda/04_21_full/\", \n",
    "    filenames=partitions.get_areas(), \n",
    "    dataset_partitions=partitions.get_train(), \n",
    "    past_frames=partitions.past_frames, \n",
    "    future_frames=partitions.future_frames, \n",
    "    input_dim=(partitions.past_frames, 256, 256, 3),  \n",
    "    output_dim=(partitions.future_frames, 256, 256, 1), \n",
    "    batch_size=16, \n",
    "    n_channels=1, \n",
    "    shuffle=True,\n",
    "    buffer_size = 1e3,\n",
    "    buffer_memory = 100\n",
    ")"
   ]
  },
  {
   "cell_type": "code",
   "execution_count": 4,
   "metadata": {},
   "outputs": [
    {
     "name": "stderr",
     "output_type": "stream",
     "text": [
      "100%|██████████| 14/14 [00:44<00:00,  3.18s/it]\n",
      "100%|██████████| 14/14 [00:26<00:00,  1.90s/it]\n"
     ]
    }
   ],
   "source": [
    "X = dataset.get_X()\n",
    "Y = dataset.get_Y()\n",
    "\n",
    "X[X > 10e5] = 0 \n",
    "Y[Y > 10e5] = 0 "
   ]
  },
  {
   "cell_type": "code",
   "execution_count": 5,
   "metadata": {},
   "outputs": [],
   "source": [
    "X[X > 10e5] = 0 \n",
    "Y[Y > 10e5] = 0 "
   ]
  },
  {
   "cell_type": "code",
   "execution_count": 6,
   "metadata": {},
   "outputs": [],
   "source": [
    "X_train, X_test, y_train, y_test = train_test_split(X, Y, test_size=0.2, random_state=42)"
   ]
  },
  {
   "cell_type": "code",
   "execution_count": 7,
   "metadata": {},
   "outputs": [],
   "source": [
    "sc_img = StandardScaler() # image\n",
    "sc_vvx = StandardScaler() # vvx\n",
    "sc_vvy = StandardScaler() # vvy\n",
    "\n",
    "for sample in X_train:\n",
    "    for batch in sample:\n",
    "        for frame in batch:\n",
    "            sc_img.partial_fit(frame[:,:,0])\n",
    "            sc_vvx.partial_fit(frame[:,:,1])\n",
    "            sc_vvy.partial_fit(frame[:,:,1])"
   ]
  },
  {
   "cell_type": "code",
   "execution_count": 8,
   "metadata": {},
   "outputs": [
    {
     "name": "stdout",
     "output_type": "stream",
     "text": [
      "X_train ready\n",
      "X_test transformed\n",
      "y_train transformed\n",
      "y_test transformed\n"
     ]
    }
   ],
   "source": [
    "for s, sample in enumerate(X_train):\n",
    "    for b, batch in enumerate(sample):\n",
    "        for f, frame in enumerate(batch):\n",
    "            X_train[s, b, f, :, :, 0] = sc_img.transform(frame[:,:,0])\n",
    "            X_train[s, b, f, :, :, 1] = sc_vvx.transform(frame[:,:,1])\n",
    "            X_train[s, b, f, :, :, 2] = sc_vvy.transform(frame[:,:,2])\n",
    "            \n",
    "print(\"X_train ready\")        \n",
    "\n",
    "for s, sample in enumerate(X_test):\n",
    "    for b, batch in enumerate(sample):\n",
    "        for f, frame in enumerate(batch):\n",
    "            X_test[s, b, f, :, :, 0] = sc_img.transform(frame[:,:,0])\n",
    "            X_test[s, b, f, :, :, 1] = sc_vvx.transform(frame[:,:,1])\n",
    "            X_test[s, b, f, :, :, 2] = sc_vvy.transform(frame[:,:,2])\n",
    "            \n",
    "print(\"X_test transformed\")\n",
    "            \n",
    "for s, sample in enumerate(y_train):\n",
    "    for b, batch in enumerate(sample):\n",
    "        for f, frame in enumerate(batch):\n",
    "            y_train[s, b, f, :, :, 0] = sc_img.transform(frame[:,:,0])\n",
    "  \n",
    "print(\"y_train transformed\")\n",
    "\n",
    "for s, sample in enumerate(y_test):\n",
    "    for b, batch in enumerate(sample):\n",
    "        for f, frame in enumerate(batch):\n",
    "            y_test[s, b, f, :, :, 0] = sc_img.transform(frame[:,:,0])\n",
    "            \n",
    "print(\"y_test transformed\")"
   ]
  },
  {
   "cell_type": "markdown",
   "metadata": {
    "id": "AREwcxPpLhXm"
   },
   "source": [
    "<hr>\n"
   ]
  },
  {
   "cell_type": "code",
   "execution_count": 9,
   "metadata": {
    "id": "eefl0ltHK9A3"
   },
   "outputs": [],
   "source": [
    "import numpy as np\n",
    "import os\n",
    "from pathlib import Path\n",
    "import tqdm\n",
    "import matplotlib.pyplot as plt\n",
    "import random\n",
    "import tqdm \n",
    "\n",
    "%matplotlib inline"
   ]
  },
  {
   "cell_type": "code",
   "execution_count": 10,
   "metadata": {},
   "outputs": [
    {
     "ename": "NameError",
     "evalue": "name 'tf' is not defined",
     "output_type": "error",
     "traceback": [
      "\u001b[0;31m---------------------------------------------------------------------------\u001b[0m",
      "\u001b[0;31mNameError\u001b[0m                                 Traceback (most recent call last)",
      "\u001b[0;32m<ipython-input-10-c55c45b55385>\u001b[0m in \u001b[0;36m<module>\u001b[0;34m\u001b[0m\n\u001b[0;32m----> 1\u001b[0;31m \u001b[0;32mif\u001b[0m \u001b[0mtf\u001b[0m\u001b[0;34m.\u001b[0m\u001b[0mtest\u001b[0m\u001b[0;34m.\u001b[0m\u001b[0mgpu_device_name\u001b[0m\u001b[0;34m(\u001b[0m\u001b[0;34m)\u001b[0m\u001b[0;34m:\u001b[0m\u001b[0;34m\u001b[0m\u001b[0;34m\u001b[0m\u001b[0m\n\u001b[0m\u001b[1;32m      2\u001b[0m \u001b[0;34m\u001b[0m\u001b[0m\n\u001b[1;32m      3\u001b[0m     \u001b[0mprint\u001b[0m\u001b[0;34m(\u001b[0m\u001b[0;34m'Default GPU Device:{}'\u001b[0m\u001b[0;34m.\u001b[0m\u001b[0mformat\u001b[0m\u001b[0;34m(\u001b[0m\u001b[0mtf\u001b[0m\u001b[0;34m.\u001b[0m\u001b[0mtest\u001b[0m\u001b[0;34m.\u001b[0m\u001b[0mgpu_device_name\u001b[0m\u001b[0;34m(\u001b[0m\u001b[0;34m)\u001b[0m\u001b[0;34m)\u001b[0m\u001b[0;34m)\u001b[0m\u001b[0;34m\u001b[0m\u001b[0;34m\u001b[0m\u001b[0m\n\u001b[1;32m      4\u001b[0m \u001b[0;34m\u001b[0m\u001b[0m\n\u001b[1;32m      5\u001b[0m \u001b[0;32melse\u001b[0m\u001b[0;34m:\u001b[0m\u001b[0;34m\u001b[0m\u001b[0;34m\u001b[0m\u001b[0m\n",
      "\u001b[0;31mNameError\u001b[0m: name 'tf' is not defined"
     ]
    }
   ],
   "source": [
    "if tf.test.gpu_device_name(): \n",
    "\n",
    "    print('Default GPU Device:{}'.format(tf.test.gpu_device_name()))\n",
    "\n",
    "else:\n",
    "\n",
    "   print(\"Please install GPU version of TF\")"
   ]
  },
  {
   "cell_type": "code",
   "execution_count": null,
   "metadata": {
    "id": "oEW3-AbrK9BF"
   },
   "outputs": [],
   "source": [
    "class LossHistory(tf.keras.callbacks.Callback):\n",
    "    def on_train_begin(self, logs={}):\n",
    "        self.losses = []\n",
    "        \n",
    "    def loss_plot(self):\n",
    "        plt.plot(range(len(self.losses)), self.losses)\n",
    "\n",
    "    def mean_loss(self):\n",
    "        return np.mean(self.losses)\n",
    "\n",
    "    def on_batch_end(self, batch, logs={}):\n",
    "        self.losses.append(logs.get('loss'))\n",
    "\n",
    "        #print(\"Loss: {}, Val_loss: {}, Accuracy: {}\".format(logs.get('loss'), logs.get('loss'), logs.get('accuracy')))\n"
   ]
  },
  {
   "cell_type": "code",
   "execution_count": 14,
   "metadata": {
    "colab": {
     "base_uri": "https://localhost:8080/",
     "height": 35
    },
    "executionInfo": {
     "elapsed": 3498,
     "status": "ok",
     "timestamp": 1617313791217,
     "user": {
      "displayName": "Diego Calanzone",
      "photoUrl": "https://lh3.googleusercontent.com/a-/AOh14GiQl0xsN1aGzFIsLt4pNGlQEMoZ6T8dphFIbVB4zQ=s64",
      "userId": "03698100722566364493"
     },
     "user_tz": -120
    },
    "id": "CrCtk_3aK9BG",
    "outputId": "882c95ca-16d0-4a0b-cc4d-dddca402ddf3"
   },
   "outputs": [
    {
     "data": {
      "text/plain": [
       "'2.4.1'"
      ]
     },
     "execution_count": 14,
     "metadata": {},
     "output_type": "execute_result"
    }
   ],
   "source": [
    "tf.__version__"
   ]
  },
  {
   "cell_type": "markdown",
   "metadata": {
    "id": "A-LRzJSPK9BN"
   },
   "source": [
    "### Model"
   ]
  },
  {
   "cell_type": "code",
   "execution_count": 41,
   "metadata": {
    "id": "WliVIKsZK9BN"
   },
   "outputs": [],
   "source": [
    "from tensorflow.keras import regularizers\n",
    "from tensorflow.keras import initializers\n",
    "from tensorflow.keras import layers\n",
    "from tensorflow import keras"
   ]
  },
  {
   "cell_type": "code",
   "execution_count": 76,
   "metadata": {},
   "outputs": [],
   "source": [
    "# https://towardsdatascience.com/residual-blocks-building-blocks-of-resnet-fd90ca15d6ec\n",
    "# weight - bn - relu - weight - bn- sum - relu\n",
    "class ResBlock(layers.Layer):\n",
    "    def __init__(self, channels, kernel_size, depth = 1, padding=\"same\"):\n",
    "        super(ResBlock, self).__init__()\n",
    "        self.depth = depth\n",
    "        self.channels = channels\n",
    "        self.kernel_size = kernel_size\n",
    "        self.padding = padding\n",
    "        \n",
    "        self.conv1 = layers.Conv3D(self.channels, kernel_size=self.kernel_size,strides=1, padding=self.padding)\n",
    "        self.conv2 = layers.Conv3D(self.channels, kernel_size=self.kernel_size,strides=1, padding=self.padding)\n",
    "        self.bn = layers.BatchNormalization()\n",
    "        self.add = layers.Add()\n",
    "        self.activation = ReLU()\n",
    "\n",
    "    def call(self, x):\n",
    "        for i in range(self.depth): \n",
    "            y = self.conv1(x)    \n",
    "            y = self.bn(y)   \n",
    "            y = self.activation(y) \n",
    "            y = self.conv1(y) \n",
    "            y = self.bn(y) \n",
    "            x = self.add([x, y]) \n",
    "            x = self.activation(x)   \n",
    "            \n",
    "        return x"
   ]
  },
  {
   "cell_type": "code",
   "execution_count": 77,
   "metadata": {},
   "outputs": [],
   "source": [
    "class ResNet(tf.keras.Model):\n",
    "\n",
    "    def __init__(self):\n",
    "        super(ResNet, self).__init__()\n",
    "        \n",
    "        self.conv1 = layers.Conv3D(6, kernel_size=3,strides=1, padding=\"same\")\n",
    "        self.block_1 = ResBlock(channels = 6, kernel_size = 3)\n",
    "        self.pool1 = layers.AveragePooling3D(pool_size=2)\n",
    "        \n",
    "        self.conv2 = layers.Conv3D(9, kernel_size=3,strides=1, padding=\"same\")\n",
    "        self.block_2 = ResBlock(channels = 9, kernel_size = 3)\n",
    "        self.pool2 = layers.AveragePooling3D(pool_size=2)\n",
    "        \n",
    "        self.ups1 = layers.UpSampling3D((2,2,2))\n",
    "        self.deconv1 = layers.Conv3D(6, kernel_size=3, padding='same')\n",
    "\n",
    "        self.ups2 = layers.UpSampling3D((2,2,2))\n",
    "        self.deconv2 = layers.Conv3D(1, kernel_size=3, padding='same')\n",
    "\n",
    "    def call(self, inputs):\n",
    "        \n",
    "        x = self.conv1(inputs)\n",
    "        x = self.block_1(x)\n",
    "        x = self.pool1(x)\n",
    "        \n",
    "        x = self.conv2(x)\n",
    "        x = self.block_2(x)\n",
    "        x = self.pool2(x)\n",
    "        \n",
    "        x = self.ups1(x)\n",
    "        x = self.deconv1(x)\n",
    "        \n",
    "        x = self.ups2(x)\n",
    "        x = self.deconv2(x)\n",
    "        \n",
    "        return x"
   ]
  },
  {
   "cell_type": "code",
   "execution_count": 78,
   "metadata": {},
   "outputs": [],
   "source": [
    "sample_shape = (None, 4, 256, 256, 3)\n",
    "dropout_rate = 0.5\n",
    "l1_reg = 1e-3\n",
    "initializer = initializers.Orthogonal()"
   ]
  },
  {
   "cell_type": "code",
   "execution_count": 79,
   "metadata": {},
   "outputs": [],
   "source": [
    "resnet = ResNet()"
   ]
  },
  {
   "cell_type": "code",
   "execution_count": 80,
   "metadata": {},
   "outputs": [],
   "source": [
    "loss = tf.keras.losses.BinaryCrossentropy(\n",
    "    from_logits=False\n",
    ")\n",
    "\n",
    "loss2 = tf.keras.losses.MeanSquaredError()\n",
    "\n",
    "#, clipvalue=1\n",
    "resnet.compile(optimizer = Adam(learning_rate = 1e-3), loss = loss2)"
   ]
  },
  {
   "cell_type": "code",
   "execution_count": null,
   "metadata": {},
   "outputs": [
    {
     "name": "stdout",
     "output_type": "stream",
     "text": [
      "\n",
      "-- Epoch 0\n",
      "\t\t Training\n",
      "Mean loss: 12.52878189086914\n",
      "\t\t Evaluation \n"
     ]
    }
   ],
   "source": [
    "for epoch in range(50):\n",
    "    print(\"\\n-- Epoch {}\".format(epoch))\n",
    "    print(\"\\t\\t Training\")\n",
    "    for i, x in (enumerate(X_train)):\n",
    "        resnet.fit(\n",
    "            x = x,\n",
    "            y = y_train[i],\n",
    "            callbacks=[history],\n",
    "            verbose = 0\n",
    "        )\n",
    "        \n",
    "    print(\"Mean loss: {}\".format(history.mean_loss()))\n",
    "        \n",
    "    print(\"\\t\\t Evaluation \")\n",
    "    for i, x in (enumerate(X_test)):\n",
    "        e_lss, _ = resnet.evaluate(\n",
    "            x = x,\n",
    "            y = y_test[i],\n",
    "            verbose = 0\n",
    "        )\n",
    "    print(\"Last eval loss: {}\".format(e_lss))"
   ]
  },
  {
   "cell_type": "code",
   "execution_count": 40,
   "metadata": {
    "colab": {
     "base_uri": "https://localhost:8080/"
    },
    "executionInfo": {
     "elapsed": 780,
     "status": "ok",
     "timestamp": 1617313937691,
     "user": {
      "displayName": "Diego Calanzone",
      "photoUrl": "https://lh3.googleusercontent.com/a-/AOh14GiQl0xsN1aGzFIsLt4pNGlQEMoZ6T8dphFIbVB4zQ=s64",
      "userId": "03698100722566364493"
     },
     "user_tz": -120
    },
    "id": "VDFPKqbYK9BN",
    "outputId": "a6f38331-e248-4110-8651-4173cde5babf"
   },
   "outputs": [
    {
     "name": "stdout",
     "output_type": "stream",
     "text": [
      "Model: \"model_5\"\n",
      "_________________________________________________________________\n",
      "Layer (type)                 Output Shape              Param #   \n",
      "=================================================================\n",
      "input_7 (InputLayer)         [(None, 4, 256, 256, 3)]  0         \n",
      "_________________________________________________________________\n",
      "conv3d_26 (Conv3D)           (None, 4, 256, 256, 6)    492       \n",
      "_________________________________________________________________\n",
      "res_block_11 (ResBlock)      (None, 4, 256, 256, 6)    0         \n",
      "_________________________________________________________________\n",
      "average_pooling3d_10 (Averag (None, 2, 128, 128, 6)    0         \n",
      "_________________________________________________________________\n",
      "conv3d_27 (Conv3D)           (None, 2, 128, 128, 9)    1467      \n",
      "_________________________________________________________________\n",
      "res_block_12 (ResBlock)      (None, 2, 128, 128, 9)    0         \n",
      "_________________________________________________________________\n",
      "average_pooling3d_11 (Averag (None, 1, 64, 64, 9)      0         \n",
      "_________________________________________________________________\n",
      "up_sampling3d_10 (UpSampling (None, 2, 128, 128, 9)    0         \n",
      "_________________________________________________________________\n",
      "conv3d_28 (Conv3D)           (None, 2, 128, 128, 6)    1464      \n",
      "_________________________________________________________________\n",
      "conv3d_29 (Conv3D)           (None, 2, 128, 128, 6)    978       \n",
      "_________________________________________________________________\n",
      "up_sampling3d_11 (UpSampling (None, 4, 256, 256, 6)    0         \n",
      "_________________________________________________________________\n",
      "conv3d_30 (Conv3D)           (None, 4, 256, 256, 1)    163       \n",
      "=================================================================\n",
      "Total params: 4,564\n",
      "Trainable params: 4,564\n",
      "Non-trainable params: 0\n",
      "_________________________________________________________________\n"
     ]
    }
   ],
   "source": [
    "# (batch_size, channels, depth, height, width).\n",
    "\n",
    "\n",
    "x = inputs\n",
    "\n",
    "# Causes of explosion:\n",
    "# - AvgPool\n",
    "# - BatchNorm\n",
    "\n",
    "\n",
    "#x = BatchNormalization()(x)\n",
    "#x = Conv3D(6, kernel_size=(3, 3, 3),strides=1, padding='same')(x)\n",
    "#x = Conv3D(6, kernel_size=(3, 3, 3),strides=1, padding='same')(x)\n",
    "x = Conv3D(6, kernel_size=3,strides=1, padding=\"same\")(x)\n",
    "\n",
    "x = ResBlock(channels = 6, kernel_size = 3)(x)\n",
    "x = AveragePooling3D(pool_size=(2, 2, 2))(x)\n",
    "\n",
    "x = Conv3D(9, kernel_size=3,strides=1, padding=\"same\")(x)\n",
    "x = ResBlock(channels = 9, kernel_size = 3)(x)\n",
    "x = AveragePooling3D(pool_size=(2, 2, 2))(x)\n",
    "\n",
    "x = UpSampling3D((2,2,2))(x)\n",
    "x = Conv3D(6, kernel_size=(3, 3, 3), padding='same')(x)\n",
    "x = Conv3D(6, kernel_size=(3, 3, 3), padding='same')(x)\n",
    "\n",
    "x = UpSampling3D((2,2,2))(x)\n",
    "x = Conv3D(1, kernel_size=(3, 3, 3), padding='same')(x)\n",
    "\n",
    "\n",
    "'''\n",
    "x = Conv3D(6, kernel_size=(3, 3, 3), padding='same', activation='relu', input_shape=sample_shape,\n",
    "        kernel_initializer=initializer,\n",
    "            kernel_regularizer=regularizers.l1( l=l1_reg))(x)\n",
    "\n",
    "x = BatchNormalization()(x)\n",
    "x = AveragePooling3D(pool_size=(2, 2, 2))(x)\n",
    "#x = Dropout(dropout_rate)(x)\n",
    "\n",
    "\n",
    "x = Conv3D(9, kernel_size=(3, 3, 3), padding='same', activation='relu',\n",
    "        kernel_initializer=initializer,\n",
    "           kernel_regularizer=regularizers.l1( l=l1_reg))(x)\n",
    "x = BatchNormalization()(x)\n",
    "x = AveragePooling3D(pool_size=(2, 2, 2))(x)\n",
    "#x = Dropout(dropout_rate)(x)\n",
    "\n",
    "#x = Conv3DTranspose(filters=9, kernel_size=(3,3,3), strides=(2,2,2), padding=\"same\",activation='relu',\n",
    "#        kernel_initializer=initializer,\n",
    "#            kernel_regularizer=regularizers.l1( l=l1_reg))(x)\n",
    "x = UpSampling3D((2,2,2))(x)\n",
    "x = BatchNormalization()(x)\n",
    "\n",
    "#x = Conv3DTranspose(filters=6, kernel_size=(3,3,3), strides=(1,2,2), padding=\"same\",activation='relu',\n",
    "#        kernel_initializer=initializer,\n",
    "#            kernel_regularizer=regularizers.l1( l=l1_reg))(x)\n",
    "x = UpSampling3D((1,2,2))(x)\n",
    "x = BatchNormalization()(x)\n",
    "\n",
    "x = Conv3D(1, kernel_size=(3, 3, 3), padding='same',\n",
    "        kernel_initializer=initializer,\n",
    "           kernel_regularizer=regularizers.l1( l=l1_reg))(x)\n",
    "'''\n",
    "\n",
    "model = Model(inputs, x)\n",
    "model.summary()"
   ]
  },
  {
   "cell_type": "code",
   "execution_count": 36,
   "metadata": {
    "id": "Biz5ORAbK9BO"
   },
   "outputs": [],
   "source": [
    "loss = tf.keras.losses.BinaryCrossentropy(\n",
    "    from_logits=False\n",
    ")\n",
    "\n",
    "loss2 = tf.keras.losses.MeanSquaredError()\n",
    "\n",
    "#, clipvalue=1\n",
    "model.compile(optimizer = Adam(learning_rate = 1e-3), loss = loss2, metrics = [\"accuracy\"])\n",
    "#model.compile(optimizer = Adam(learning_rate = 5e-4), loss = \"mean_absolute_error\", metrics = [\"accuracy\"])\n",
    "#model.compile(optimizer = Adam(learning_rate = 1e-4), loss = \"mean_squared_error\", metrics = [\"accuracy\"])"
   ]
  },
  {
   "cell_type": "code",
   "execution_count": 37,
   "metadata": {
    "id": "DpIhXQ9CK9BP"
   },
   "outputs": [],
   "source": [
    "history = LossHistory()"
   ]
  },
  {
   "cell_type": "code",
   "execution_count": 38,
   "metadata": {
    "colab": {
     "base_uri": "https://localhost:8080/"
    },
    "id": "uZF2cjXRK9BP",
    "outputId": "298c7fd4-65db-4b61-e30c-202e2eb3aee8"
   },
   "outputs": [
    {
     "name": "stdout",
     "output_type": "stream",
     "text": [
      "\n",
      "-- Epoch 0\n",
      "\t\t Training\n"
     ]
    },
    {
     "ename": "ValueError",
     "evalue": "in user code:\n\n    /home/diego/anaconda3/envs/parflood/lib/python3.6/site-packages/tensorflow/python/keras/engine/training.py:805 train_function  *\n        return step_function(self, iterator)\n    <ipython-input-16-d7180ea86265>:13 call  *\n        y = Conv3D(self.channels, kernel_size=self.kernel_size,strides=1, padding=self.padding)(x)\n    /home/diego/anaconda3/envs/parflood/lib/python3.6/site-packages/tensorflow/python/keras/engine/base_layer.py:1008 __call__  **\n        self._maybe_build(inputs)\n    /home/diego/anaconda3/envs/parflood/lib/python3.6/site-packages/tensorflow/python/keras/engine/base_layer.py:2710 _maybe_build\n        self.build(input_shapes)  # pylint:disable=not-callable\n    /home/diego/anaconda3/envs/parflood/lib/python3.6/site-packages/tensorflow/python/keras/layers/convolutional.py:205 build\n        dtype=self.dtype)\n    /home/diego/anaconda3/envs/parflood/lib/python3.6/site-packages/tensorflow/python/keras/engine/base_layer.py:639 add_weight\n        caching_device=caching_device)\n    /home/diego/anaconda3/envs/parflood/lib/python3.6/site-packages/tensorflow/python/training/tracking/base.py:810 _add_variable_with_custom_getter\n        **kwargs_for_getter)\n    /home/diego/anaconda3/envs/parflood/lib/python3.6/site-packages/tensorflow/python/keras/engine/base_layer_utils.py:142 make_variable\n        shape=variable_shape if variable_shape else None)\n    /home/diego/anaconda3/envs/parflood/lib/python3.6/site-packages/tensorflow/python/ops/variables.py:260 __call__\n        return cls._variable_v1_call(*args, **kwargs)\n    /home/diego/anaconda3/envs/parflood/lib/python3.6/site-packages/tensorflow/python/ops/variables.py:221 _variable_v1_call\n        shape=shape)\n    /home/diego/anaconda3/envs/parflood/lib/python3.6/site-packages/tensorflow/python/ops/variables.py:67 getter\n        return captured_getter(captured_previous, **kwargs)\n    /home/diego/anaconda3/envs/parflood/lib/python3.6/site-packages/tensorflow/python/distribute/distribute_lib.py:3332 creator\n        return next_creator(**kwargs)\n    /home/diego/anaconda3/envs/parflood/lib/python3.6/site-packages/tensorflow/python/ops/variables.py:67 getter\n        return captured_getter(captured_previous, **kwargs)\n    /home/diego/anaconda3/envs/parflood/lib/python3.6/site-packages/tensorflow/python/distribute/distribute_lib.py:3332 creator\n        return next_creator(**kwargs)\n    /home/diego/anaconda3/envs/parflood/lib/python3.6/site-packages/tensorflow/python/ops/variables.py:67 getter\n        return captured_getter(captured_previous, **kwargs)\n    /home/diego/anaconda3/envs/parflood/lib/python3.6/site-packages/tensorflow/python/distribute/distribute_lib.py:3332 creator\n        return next_creator(**kwargs)\n    /home/diego/anaconda3/envs/parflood/lib/python3.6/site-packages/tensorflow/python/ops/variables.py:67 getter\n        return captured_getter(captured_previous, **kwargs)\n    /home/diego/anaconda3/envs/parflood/lib/python3.6/site-packages/tensorflow/python/eager/def_function.py:731 invalid_creator_scope\n        \"tf.function-decorated function tried to create \"\n\n    ValueError: tf.function-decorated function tried to create variables on non-first call.\n",
     "output_type": "error",
     "traceback": [
      "\u001b[0;31m---------------------------------------------------------------------------\u001b[0m",
      "\u001b[0;31mValueError\u001b[0m                                Traceback (most recent call last)",
      "\u001b[0;32m<ipython-input-38-3b86ad528233>\u001b[0m in \u001b[0;36m<module>\u001b[0;34m\u001b[0m\n\u001b[1;32m      7\u001b[0m             \u001b[0my\u001b[0m \u001b[0;34m=\u001b[0m \u001b[0my_train\u001b[0m\u001b[0;34m[\u001b[0m\u001b[0mi\u001b[0m\u001b[0;34m]\u001b[0m\u001b[0;34m,\u001b[0m\u001b[0;34m\u001b[0m\u001b[0;34m\u001b[0m\u001b[0m\n\u001b[1;32m      8\u001b[0m             \u001b[0mcallbacks\u001b[0m\u001b[0;34m=\u001b[0m\u001b[0;34m[\u001b[0m\u001b[0mhistory\u001b[0m\u001b[0;34m]\u001b[0m\u001b[0;34m,\u001b[0m\u001b[0;34m\u001b[0m\u001b[0;34m\u001b[0m\u001b[0m\n\u001b[0;32m----> 9\u001b[0;31m             \u001b[0mverbose\u001b[0m \u001b[0;34m=\u001b[0m \u001b[0;36m0\u001b[0m\u001b[0;34m\u001b[0m\u001b[0;34m\u001b[0m\u001b[0m\n\u001b[0m\u001b[1;32m     10\u001b[0m         )\n\u001b[1;32m     11\u001b[0m \u001b[0;34m\u001b[0m\u001b[0m\n",
      "\u001b[0;32m~/anaconda3/envs/parflood/lib/python3.6/site-packages/tensorflow/python/keras/engine/training.py\u001b[0m in \u001b[0;36mfit\u001b[0;34m(self, x, y, batch_size, epochs, verbose, callbacks, validation_split, validation_data, shuffle, class_weight, sample_weight, initial_epoch, steps_per_epoch, validation_steps, validation_batch_size, validation_freq, max_queue_size, workers, use_multiprocessing)\u001b[0m\n\u001b[1;32m   1098\u001b[0m                 _r=1):\n\u001b[1;32m   1099\u001b[0m               \u001b[0mcallbacks\u001b[0m\u001b[0;34m.\u001b[0m\u001b[0mon_train_batch_begin\u001b[0m\u001b[0;34m(\u001b[0m\u001b[0mstep\u001b[0m\u001b[0;34m)\u001b[0m\u001b[0;34m\u001b[0m\u001b[0;34m\u001b[0m\u001b[0m\n\u001b[0;32m-> 1100\u001b[0;31m               \u001b[0mtmp_logs\u001b[0m \u001b[0;34m=\u001b[0m \u001b[0mself\u001b[0m\u001b[0;34m.\u001b[0m\u001b[0mtrain_function\u001b[0m\u001b[0;34m(\u001b[0m\u001b[0miterator\u001b[0m\u001b[0;34m)\u001b[0m\u001b[0;34m\u001b[0m\u001b[0;34m\u001b[0m\u001b[0m\n\u001b[0m\u001b[1;32m   1101\u001b[0m               \u001b[0;32mif\u001b[0m \u001b[0mdata_handler\u001b[0m\u001b[0;34m.\u001b[0m\u001b[0mshould_sync\u001b[0m\u001b[0;34m:\u001b[0m\u001b[0;34m\u001b[0m\u001b[0;34m\u001b[0m\u001b[0m\n\u001b[1;32m   1102\u001b[0m                 \u001b[0mcontext\u001b[0m\u001b[0;34m.\u001b[0m\u001b[0masync_wait\u001b[0m\u001b[0;34m(\u001b[0m\u001b[0;34m)\u001b[0m\u001b[0;34m\u001b[0m\u001b[0;34m\u001b[0m\u001b[0m\n",
      "\u001b[0;32m~/anaconda3/envs/parflood/lib/python3.6/site-packages/tensorflow/python/eager/def_function.py\u001b[0m in \u001b[0;36m__call__\u001b[0;34m(self, *args, **kwds)\u001b[0m\n\u001b[1;32m    826\u001b[0m     \u001b[0mtracing_count\u001b[0m \u001b[0;34m=\u001b[0m \u001b[0mself\u001b[0m\u001b[0;34m.\u001b[0m\u001b[0mexperimental_get_tracing_count\u001b[0m\u001b[0;34m(\u001b[0m\u001b[0;34m)\u001b[0m\u001b[0;34m\u001b[0m\u001b[0;34m\u001b[0m\u001b[0m\n\u001b[1;32m    827\u001b[0m     \u001b[0;32mwith\u001b[0m \u001b[0mtrace\u001b[0m\u001b[0;34m.\u001b[0m\u001b[0mTrace\u001b[0m\u001b[0;34m(\u001b[0m\u001b[0mself\u001b[0m\u001b[0;34m.\u001b[0m\u001b[0m_name\u001b[0m\u001b[0;34m)\u001b[0m \u001b[0;32mas\u001b[0m \u001b[0mtm\u001b[0m\u001b[0;34m:\u001b[0m\u001b[0;34m\u001b[0m\u001b[0;34m\u001b[0m\u001b[0m\n\u001b[0;32m--> 828\u001b[0;31m       \u001b[0mresult\u001b[0m \u001b[0;34m=\u001b[0m \u001b[0mself\u001b[0m\u001b[0;34m.\u001b[0m\u001b[0m_call\u001b[0m\u001b[0;34m(\u001b[0m\u001b[0;34m*\u001b[0m\u001b[0margs\u001b[0m\u001b[0;34m,\u001b[0m \u001b[0;34m**\u001b[0m\u001b[0mkwds\u001b[0m\u001b[0;34m)\u001b[0m\u001b[0;34m\u001b[0m\u001b[0;34m\u001b[0m\u001b[0m\n\u001b[0m\u001b[1;32m    829\u001b[0m       \u001b[0mcompiler\u001b[0m \u001b[0;34m=\u001b[0m \u001b[0;34m\"xla\"\u001b[0m \u001b[0;32mif\u001b[0m \u001b[0mself\u001b[0m\u001b[0;34m.\u001b[0m\u001b[0m_experimental_compile\u001b[0m \u001b[0;32melse\u001b[0m \u001b[0;34m\"nonXla\"\u001b[0m\u001b[0;34m\u001b[0m\u001b[0;34m\u001b[0m\u001b[0m\n\u001b[1;32m    830\u001b[0m       \u001b[0mnew_tracing_count\u001b[0m \u001b[0;34m=\u001b[0m \u001b[0mself\u001b[0m\u001b[0;34m.\u001b[0m\u001b[0mexperimental_get_tracing_count\u001b[0m\u001b[0;34m(\u001b[0m\u001b[0;34m)\u001b[0m\u001b[0;34m\u001b[0m\u001b[0;34m\u001b[0m\u001b[0m\n",
      "\u001b[0;32m~/anaconda3/envs/parflood/lib/python3.6/site-packages/tensorflow/python/eager/def_function.py\u001b[0m in \u001b[0;36m_call\u001b[0;34m(self, *args, **kwds)\u001b[0m\n\u001b[1;32m    886\u001b[0m         \u001b[0;31m# Lifting succeeded, so variables are initialized and we can run the\u001b[0m\u001b[0;34m\u001b[0m\u001b[0;34m\u001b[0m\u001b[0;34m\u001b[0m\u001b[0m\n\u001b[1;32m    887\u001b[0m         \u001b[0;31m# stateless function.\u001b[0m\u001b[0;34m\u001b[0m\u001b[0;34m\u001b[0m\u001b[0;34m\u001b[0m\u001b[0m\n\u001b[0;32m--> 888\u001b[0;31m         \u001b[0;32mreturn\u001b[0m \u001b[0mself\u001b[0m\u001b[0;34m.\u001b[0m\u001b[0m_stateless_fn\u001b[0m\u001b[0;34m(\u001b[0m\u001b[0;34m*\u001b[0m\u001b[0margs\u001b[0m\u001b[0;34m,\u001b[0m \u001b[0;34m**\u001b[0m\u001b[0mkwds\u001b[0m\u001b[0;34m)\u001b[0m\u001b[0;34m\u001b[0m\u001b[0;34m\u001b[0m\u001b[0m\n\u001b[0m\u001b[1;32m    889\u001b[0m     \u001b[0;32melse\u001b[0m\u001b[0;34m:\u001b[0m\u001b[0;34m\u001b[0m\u001b[0;34m\u001b[0m\u001b[0m\n\u001b[1;32m    890\u001b[0m       \u001b[0m_\u001b[0m\u001b[0;34m,\u001b[0m \u001b[0m_\u001b[0m\u001b[0;34m,\u001b[0m \u001b[0m_\u001b[0m\u001b[0;34m,\u001b[0m \u001b[0mfiltered_flat_args\u001b[0m \u001b[0;34m=\u001b[0m\u001b[0;31m \u001b[0m\u001b[0;31m\\\u001b[0m\u001b[0;34m\u001b[0m\u001b[0;34m\u001b[0m\u001b[0m\n",
      "\u001b[0;32m~/anaconda3/envs/parflood/lib/python3.6/site-packages/tensorflow/python/eager/function.py\u001b[0m in \u001b[0;36m__call__\u001b[0;34m(self, *args, **kwargs)\u001b[0m\n\u001b[1;32m   2939\u001b[0m     \u001b[0;32mwith\u001b[0m \u001b[0mself\u001b[0m\u001b[0;34m.\u001b[0m\u001b[0m_lock\u001b[0m\u001b[0;34m:\u001b[0m\u001b[0;34m\u001b[0m\u001b[0;34m\u001b[0m\u001b[0m\n\u001b[1;32m   2940\u001b[0m       (graph_function,\n\u001b[0;32m-> 2941\u001b[0;31m        filtered_flat_args) = self._maybe_define_function(args, kwargs)\n\u001b[0m\u001b[1;32m   2942\u001b[0m     return graph_function._call_flat(\n\u001b[1;32m   2943\u001b[0m         filtered_flat_args, captured_inputs=graph_function.captured_inputs)  # pylint: disable=protected-access\n",
      "\u001b[0;32m~/anaconda3/envs/parflood/lib/python3.6/site-packages/tensorflow/python/eager/function.py\u001b[0m in \u001b[0;36m_maybe_define_function\u001b[0;34m(self, args, kwargs)\u001b[0m\n\u001b[1;32m   3359\u001b[0m \u001b[0;34m\u001b[0m\u001b[0m\n\u001b[1;32m   3360\u001b[0m           \u001b[0mself\u001b[0m\u001b[0;34m.\u001b[0m\u001b[0m_function_cache\u001b[0m\u001b[0;34m.\u001b[0m\u001b[0mmissed\u001b[0m\u001b[0;34m.\u001b[0m\u001b[0madd\u001b[0m\u001b[0;34m(\u001b[0m\u001b[0mcall_context_key\u001b[0m\u001b[0;34m)\u001b[0m\u001b[0;34m\u001b[0m\u001b[0;34m\u001b[0m\u001b[0m\n\u001b[0;32m-> 3361\u001b[0;31m           \u001b[0mgraph_function\u001b[0m \u001b[0;34m=\u001b[0m \u001b[0mself\u001b[0m\u001b[0;34m.\u001b[0m\u001b[0m_create_graph_function\u001b[0m\u001b[0;34m(\u001b[0m\u001b[0margs\u001b[0m\u001b[0;34m,\u001b[0m \u001b[0mkwargs\u001b[0m\u001b[0;34m)\u001b[0m\u001b[0;34m\u001b[0m\u001b[0;34m\u001b[0m\u001b[0m\n\u001b[0m\u001b[1;32m   3362\u001b[0m           \u001b[0mself\u001b[0m\u001b[0;34m.\u001b[0m\u001b[0m_function_cache\u001b[0m\u001b[0;34m.\u001b[0m\u001b[0mprimary\u001b[0m\u001b[0;34m[\u001b[0m\u001b[0mcache_key\u001b[0m\u001b[0;34m]\u001b[0m \u001b[0;34m=\u001b[0m \u001b[0mgraph_function\u001b[0m\u001b[0;34m\u001b[0m\u001b[0;34m\u001b[0m\u001b[0m\n\u001b[1;32m   3363\u001b[0m \u001b[0;34m\u001b[0m\u001b[0m\n",
      "\u001b[0;32m~/anaconda3/envs/parflood/lib/python3.6/site-packages/tensorflow/python/eager/function.py\u001b[0m in \u001b[0;36m_create_graph_function\u001b[0;34m(self, args, kwargs, override_flat_arg_shapes)\u001b[0m\n\u001b[1;32m   3204\u001b[0m             \u001b[0marg_names\u001b[0m\u001b[0;34m=\u001b[0m\u001b[0marg_names\u001b[0m\u001b[0;34m,\u001b[0m\u001b[0;34m\u001b[0m\u001b[0;34m\u001b[0m\u001b[0m\n\u001b[1;32m   3205\u001b[0m             \u001b[0moverride_flat_arg_shapes\u001b[0m\u001b[0;34m=\u001b[0m\u001b[0moverride_flat_arg_shapes\u001b[0m\u001b[0;34m,\u001b[0m\u001b[0;34m\u001b[0m\u001b[0;34m\u001b[0m\u001b[0m\n\u001b[0;32m-> 3206\u001b[0;31m             capture_by_value=self._capture_by_value),\n\u001b[0m\u001b[1;32m   3207\u001b[0m         \u001b[0mself\u001b[0m\u001b[0;34m.\u001b[0m\u001b[0m_function_attributes\u001b[0m\u001b[0;34m,\u001b[0m\u001b[0;34m\u001b[0m\u001b[0;34m\u001b[0m\u001b[0m\n\u001b[1;32m   3208\u001b[0m         \u001b[0mfunction_spec\u001b[0m\u001b[0;34m=\u001b[0m\u001b[0mself\u001b[0m\u001b[0;34m.\u001b[0m\u001b[0mfunction_spec\u001b[0m\u001b[0;34m,\u001b[0m\u001b[0;34m\u001b[0m\u001b[0;34m\u001b[0m\u001b[0m\n",
      "\u001b[0;32m~/anaconda3/envs/parflood/lib/python3.6/site-packages/tensorflow/python/framework/func_graph.py\u001b[0m in \u001b[0;36mfunc_graph_from_py_func\u001b[0;34m(name, python_func, args, kwargs, signature, func_graph, autograph, autograph_options, add_control_dependencies, arg_names, op_return_value, collections, capture_by_value, override_flat_arg_shapes)\u001b[0m\n\u001b[1;32m    988\u001b[0m         \u001b[0m_\u001b[0m\u001b[0;34m,\u001b[0m \u001b[0moriginal_func\u001b[0m \u001b[0;34m=\u001b[0m \u001b[0mtf_decorator\u001b[0m\u001b[0;34m.\u001b[0m\u001b[0munwrap\u001b[0m\u001b[0;34m(\u001b[0m\u001b[0mpython_func\u001b[0m\u001b[0;34m)\u001b[0m\u001b[0;34m\u001b[0m\u001b[0;34m\u001b[0m\u001b[0m\n\u001b[1;32m    989\u001b[0m \u001b[0;34m\u001b[0m\u001b[0m\n\u001b[0;32m--> 990\u001b[0;31m       \u001b[0mfunc_outputs\u001b[0m \u001b[0;34m=\u001b[0m \u001b[0mpython_func\u001b[0m\u001b[0;34m(\u001b[0m\u001b[0;34m*\u001b[0m\u001b[0mfunc_args\u001b[0m\u001b[0;34m,\u001b[0m \u001b[0;34m**\u001b[0m\u001b[0mfunc_kwargs\u001b[0m\u001b[0;34m)\u001b[0m\u001b[0;34m\u001b[0m\u001b[0;34m\u001b[0m\u001b[0m\n\u001b[0m\u001b[1;32m    991\u001b[0m \u001b[0;34m\u001b[0m\u001b[0m\n\u001b[1;32m    992\u001b[0m       \u001b[0;31m# invariant: `func_outputs` contains only Tensors, CompositeTensors,\u001b[0m\u001b[0;34m\u001b[0m\u001b[0;34m\u001b[0m\u001b[0;34m\u001b[0m\u001b[0m\n",
      "\u001b[0;32m~/anaconda3/envs/parflood/lib/python3.6/site-packages/tensorflow/python/eager/def_function.py\u001b[0m in \u001b[0;36mwrapped_fn\u001b[0;34m(*args, **kwds)\u001b[0m\n\u001b[1;32m    632\u001b[0m             \u001b[0mxla_context\u001b[0m\u001b[0;34m.\u001b[0m\u001b[0mExit\u001b[0m\u001b[0;34m(\u001b[0m\u001b[0;34m)\u001b[0m\u001b[0;34m\u001b[0m\u001b[0;34m\u001b[0m\u001b[0m\n\u001b[1;32m    633\u001b[0m         \u001b[0;32melse\u001b[0m\u001b[0;34m:\u001b[0m\u001b[0;34m\u001b[0m\u001b[0;34m\u001b[0m\u001b[0m\n\u001b[0;32m--> 634\u001b[0;31m           \u001b[0mout\u001b[0m \u001b[0;34m=\u001b[0m \u001b[0mweak_wrapped_fn\u001b[0m\u001b[0;34m(\u001b[0m\u001b[0;34m)\u001b[0m\u001b[0;34m.\u001b[0m\u001b[0m__wrapped__\u001b[0m\u001b[0;34m(\u001b[0m\u001b[0;34m*\u001b[0m\u001b[0margs\u001b[0m\u001b[0;34m,\u001b[0m \u001b[0;34m**\u001b[0m\u001b[0mkwds\u001b[0m\u001b[0;34m)\u001b[0m\u001b[0;34m\u001b[0m\u001b[0;34m\u001b[0m\u001b[0m\n\u001b[0m\u001b[1;32m    635\u001b[0m         \u001b[0;32mreturn\u001b[0m \u001b[0mout\u001b[0m\u001b[0;34m\u001b[0m\u001b[0;34m\u001b[0m\u001b[0m\n\u001b[1;32m    636\u001b[0m \u001b[0;34m\u001b[0m\u001b[0m\n",
      "\u001b[0;32m~/anaconda3/envs/parflood/lib/python3.6/site-packages/tensorflow/python/framework/func_graph.py\u001b[0m in \u001b[0;36mwrapper\u001b[0;34m(*args, **kwargs)\u001b[0m\n\u001b[1;32m    975\u001b[0m           \u001b[0;32mexcept\u001b[0m \u001b[0mException\u001b[0m \u001b[0;32mas\u001b[0m \u001b[0me\u001b[0m\u001b[0;34m:\u001b[0m  \u001b[0;31m# pylint:disable=broad-except\u001b[0m\u001b[0;34m\u001b[0m\u001b[0;34m\u001b[0m\u001b[0m\n\u001b[1;32m    976\u001b[0m             \u001b[0;32mif\u001b[0m \u001b[0mhasattr\u001b[0m\u001b[0;34m(\u001b[0m\u001b[0me\u001b[0m\u001b[0;34m,\u001b[0m \u001b[0;34m\"ag_error_metadata\"\u001b[0m\u001b[0;34m)\u001b[0m\u001b[0;34m:\u001b[0m\u001b[0;34m\u001b[0m\u001b[0;34m\u001b[0m\u001b[0m\n\u001b[0;32m--> 977\u001b[0;31m               \u001b[0;32mraise\u001b[0m \u001b[0me\u001b[0m\u001b[0;34m.\u001b[0m\u001b[0mag_error_metadata\u001b[0m\u001b[0;34m.\u001b[0m\u001b[0mto_exception\u001b[0m\u001b[0;34m(\u001b[0m\u001b[0me\u001b[0m\u001b[0;34m)\u001b[0m\u001b[0;34m\u001b[0m\u001b[0;34m\u001b[0m\u001b[0m\n\u001b[0m\u001b[1;32m    978\u001b[0m             \u001b[0;32melse\u001b[0m\u001b[0;34m:\u001b[0m\u001b[0;34m\u001b[0m\u001b[0;34m\u001b[0m\u001b[0m\n\u001b[1;32m    979\u001b[0m               \u001b[0;32mraise\u001b[0m\u001b[0;34m\u001b[0m\u001b[0;34m\u001b[0m\u001b[0m\n",
      "\u001b[0;31mValueError\u001b[0m: in user code:\n\n    /home/diego/anaconda3/envs/parflood/lib/python3.6/site-packages/tensorflow/python/keras/engine/training.py:805 train_function  *\n        return step_function(self, iterator)\n    <ipython-input-16-d7180ea86265>:13 call  *\n        y = Conv3D(self.channels, kernel_size=self.kernel_size,strides=1, padding=self.padding)(x)\n    /home/diego/anaconda3/envs/parflood/lib/python3.6/site-packages/tensorflow/python/keras/engine/base_layer.py:1008 __call__  **\n        self._maybe_build(inputs)\n    /home/diego/anaconda3/envs/parflood/lib/python3.6/site-packages/tensorflow/python/keras/engine/base_layer.py:2710 _maybe_build\n        self.build(input_shapes)  # pylint:disable=not-callable\n    /home/diego/anaconda3/envs/parflood/lib/python3.6/site-packages/tensorflow/python/keras/layers/convolutional.py:205 build\n        dtype=self.dtype)\n    /home/diego/anaconda3/envs/parflood/lib/python3.6/site-packages/tensorflow/python/keras/engine/base_layer.py:639 add_weight\n        caching_device=caching_device)\n    /home/diego/anaconda3/envs/parflood/lib/python3.6/site-packages/tensorflow/python/training/tracking/base.py:810 _add_variable_with_custom_getter\n        **kwargs_for_getter)\n    /home/diego/anaconda3/envs/parflood/lib/python3.6/site-packages/tensorflow/python/keras/engine/base_layer_utils.py:142 make_variable\n        shape=variable_shape if variable_shape else None)\n    /home/diego/anaconda3/envs/parflood/lib/python3.6/site-packages/tensorflow/python/ops/variables.py:260 __call__\n        return cls._variable_v1_call(*args, **kwargs)\n    /home/diego/anaconda3/envs/parflood/lib/python3.6/site-packages/tensorflow/python/ops/variables.py:221 _variable_v1_call\n        shape=shape)\n    /home/diego/anaconda3/envs/parflood/lib/python3.6/site-packages/tensorflow/python/ops/variables.py:67 getter\n        return captured_getter(captured_previous, **kwargs)\n    /home/diego/anaconda3/envs/parflood/lib/python3.6/site-packages/tensorflow/python/distribute/distribute_lib.py:3332 creator\n        return next_creator(**kwargs)\n    /home/diego/anaconda3/envs/parflood/lib/python3.6/site-packages/tensorflow/python/ops/variables.py:67 getter\n        return captured_getter(captured_previous, **kwargs)\n    /home/diego/anaconda3/envs/parflood/lib/python3.6/site-packages/tensorflow/python/distribute/distribute_lib.py:3332 creator\n        return next_creator(**kwargs)\n    /home/diego/anaconda3/envs/parflood/lib/python3.6/site-packages/tensorflow/python/ops/variables.py:67 getter\n        return captured_getter(captured_previous, **kwargs)\n    /home/diego/anaconda3/envs/parflood/lib/python3.6/site-packages/tensorflow/python/distribute/distribute_lib.py:3332 creator\n        return next_creator(**kwargs)\n    /home/diego/anaconda3/envs/parflood/lib/python3.6/site-packages/tensorflow/python/ops/variables.py:67 getter\n        return captured_getter(captured_previous, **kwargs)\n    /home/diego/anaconda3/envs/parflood/lib/python3.6/site-packages/tensorflow/python/eager/def_function.py:731 invalid_creator_scope\n        \"tf.function-decorated function tried to create \"\n\n    ValueError: tf.function-decorated function tried to create variables on non-first call.\n"
     ]
    }
   ],
   "source": [
    "for epoch in range(50):\n",
    "    print(\"\\n-- Epoch {}\".format(epoch))\n",
    "    print(\"\\t\\t Training\")\n",
    "    for i, x in (enumerate(X_train)):\n",
    "        model.fit(\n",
    "            x = x,\n",
    "            y = y_train[i],\n",
    "            callbacks=[history],\n",
    "            verbose = 0\n",
    "        )\n",
    "        \n",
    "    print(\"Mean loss: {}\".format(history.mean_loss()))\n",
    "        \n",
    "    print(\"\\t\\t Evaluation \")\n",
    "    for i, x in (enumerate(X_test)):\n",
    "        e_lss, _ = model.evaluate(\n",
    "            x = x,\n",
    "            y = y_test[i],\n",
    "            verbose = 0\n",
    "        )\n",
    "    print(\"Last eval loss: {}\".format(e_lss))"
   ]
  },
  {
   "cell_type": "code",
   "execution_count": null,
   "metadata": {},
   "outputs": [],
   "source": [
    "import random\n",
    "ind = random.randint(0, X_test.shape[0]-1)\n",
    "\n",
    "pred = model.predict(X_test[ind])\n",
    "plt.matshow(pred[0, 0, :, :, 0])\n",
    "plt.matshow(pred[0, 1, :, :, 0])"
   ]
  },
  {
   "cell_type": "code",
   "execution_count": null,
   "metadata": {
    "id": "cwGAoO6MK9BP"
   },
   "outputs": [],
   "source": [
    "predictions = model.predict(train_dataset.__getitem__(20)[0])[0]\n",
    "true = test_dataset.__getitem__(20)[1][0]"
   ]
  },
  {
   "cell_type": "code",
   "execution_count": null,
   "metadata": {
    "id": "dBHz_RUCK9BQ",
    "scrolled": true
   },
   "outputs": [],
   "source": [
    "fig, axs = plt.subplots(1,partitions.future_frames, figsize=(15,5))\n",
    "\n",
    "for i, frame in enumerate(predictions):\n",
    "    axs[i].matshow(frame.reshape(256, 256))"
   ]
  },
  {
   "cell_type": "code",
   "execution_count": null,
   "metadata": {
    "id": "hqAgHB4_K9BQ"
   },
   "outputs": [],
   "source": [
    "fig, axs = plt.subplots(1,3, figsize=(15,5))\n",
    "\n",
    "for i, frame in enumerate(true):\n",
    "    axs[i].matshow(frame.reshape(256, 256))"
   ]
  },
  {
   "cell_type": "code",
   "execution_count": null,
   "metadata": {
    "id": "GdJUHNItK9BQ"
   },
   "outputs": [],
   "source": [
    "plt.plot(range(4), [np.mean(x) for x in predictions])\n",
    "plt.plot(range(4), [np.mean(x) for x in true])"
   ]
  },
  {
   "cell_type": "code",
   "execution_count": null,
   "metadata": {
    "id": "6NWLqe98K9BR",
    "scrolled": true
   },
   "outputs": [],
   "source": [
    "ind = 6\n",
    "\n",
    "fig, (ax1, ax2, ax3) = plt.subplots(1, 3, figsize=(15,5))\n",
    "fig.suptitle('frame 1 - frame 11 pred - frame 11 true')\n",
    "\n",
    "ax1.matshow(train_d.__getitem__(ind)[0][0][0].reshape(256,256))\n",
    "\n",
    "ax2.matshow(model.predict(train_d.__getitem__(ind)[0])[0][0].reshape(256,256))\n",
    "\n",
    "ax3.matshow(train_d.__getitem__(ind)[1][0][0].reshape(256,256))"
   ]
  },
  {
   "cell_type": "code",
   "execution_count": null,
   "metadata": {
    "id": "n6kgiGfRK9BR",
    "scrolled": true
   },
   "outputs": [],
   "source": [
    "f = np.concatenate((train_d.__getitem__(ind)[0][0], train_d.__getitem__(ind)[1][0]))\n",
    "plt.plot(range(14), [np.mean(x) for x in f])\n",
    "\n",
    "plt.plot(range(10, 14), [np.mean(x) for x in model.predict(train_d.__getitem__(ind)[0])[0]])"
   ]
  },
  {
   "cell_type": "code",
   "execution_count": null,
   "metadata": {
    "id": "ityoQ-v2K9BR",
    "scrolled": true
   },
   "outputs": [],
   "source": [
    "history.accuracy_plot()"
   ]
  },
  {
   "cell_type": "code",
   "execution_count": null,
   "metadata": {
    "id": "RruYcZhCK9BS"
   },
   "outputs": [],
   "source": [
    "history.loss_plot()"
   ]
  },
  {
   "cell_type": "code",
   "execution_count": null,
   "metadata": {
    "id": "RZxW2KhXK9BS"
   },
   "outputs": [],
   "source": []
  }
 ],
 "metadata": {
  "accelerator": "TPU",
  "colab": {
   "collapsed_sections": [],
   "name": "00_keras_vvx_btm_dep_conv3dautoencoder.ipynb",
   "provenance": []
  },
  "kernelspec": {
   "display_name": "Python 3",
   "language": "python",
   "name": "python3"
  },
  "language_info": {
   "codemirror_mode": {
    "name": "ipython",
    "version": 3
   },
   "file_extension": ".py",
   "mimetype": "text/x-python",
   "name": "python",
   "nbconvert_exporter": "python",
   "pygments_lexer": "ipython3",
   "version": "3.6.13"
  }
 },
 "nbformat": 4,
 "nbformat_minor": 1
}
